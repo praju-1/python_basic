{
 "cells": [
  {
   "cell_type": "markdown",
   "id": "21aad3dc",
   "metadata": {},
   "source": [
    "# 1. Create a list of squared integers from a given list of integers."
   ]
  },
  {
   "cell_type": "code",
   "execution_count": 6,
   "id": "4947e290",
   "metadata": {},
   "outputs": [
    {
     "name": "stdout",
     "output_type": "stream",
     "text": [
      "Squared_list =  [1, 16, 36, 49, 81]\n"
     ]
    }
   ],
   "source": [
    "list_of_int  = [1, 4, 6, 7, 9]\n",
    "output_list = []\n",
    "def squ_int(a : list):\n",
    "    \"This function will return square of number from given list of intergers\"\n",
    "    try:\n",
    "        for i in a:\n",
    "            result = i**2\n",
    "            output_list.append(result)\n",
    "        print(\"Squared_list = \", output_list)\n",
    "    except Exception as e:\n",
    "        print(e)\n",
    "squ_int(list_of_int)   "
   ]
  },
  {
   "cell_type": "markdown",
   "id": "210eb6fe",
   "metadata": {},
   "source": [
    "# 2. Create a list of even numbers from a given list of integers."
   ]
  },
  {
   "cell_type": "code",
   "execution_count": 12,
   "id": "e801346b",
   "metadata": {},
   "outputs": [
    {
     "name": "stdout",
     "output_type": "stream",
     "text": [
      "even_list =  [2, 132, 4, 6, 34]\n"
     ]
    }
   ],
   "source": [
    "list_of_int  = [1,2, 132, 4, 6, 7, 9, 11, 15, 34]\n",
    "output_list = []\n",
    "def even_list(a : list):\n",
    "    \"This function will return square of number from given list of intergers\"\n",
    "    try:\n",
    "        for i in a:\n",
    "            if i%2 == 0:\n",
    "                output_list.append(i)\n",
    "        print(\"even_list = \", output_list)\n",
    "    except Exception as e:\n",
    "        print(e)\n",
    "even_list(list_of_int)   "
   ]
  },
  {
   "cell_type": "markdown",
   "id": "2c4dc068",
   "metadata": {},
   "source": [
    "# 3. Create a list of vowels from a given string."
   ]
  },
  {
   "cell_type": "code",
   "execution_count": 11,
   "id": "72115867",
   "metadata": {},
   "outputs": [
    {
     "name": "stdout",
     "output_type": "stream",
     "text": [
      "Enter any string : Evening\n",
      "List of vowel is :  ['E', 'e', 'i']\n"
     ]
    }
   ],
   "source": [
    "try:\n",
    "    string = input(\"Enter any string : \")\n",
    "    vowel = \"AEIOUaeiou\"\n",
    "    list_of_vowel = []\n",
    "    def vowel_func(word : str, vow : str):\n",
    "        \"This function will return list of vowel\"\n",
    "        try:\n",
    "            for letter in word:\n",
    "                if letter in vow:\n",
    "                    list_of_vowel.append(letter)\n",
    "            print(\"List of vowel is : \", list_of_vowel)\n",
    "        except Exception as e:\n",
    "            print(e)\n",
    "    vowel_func(string, vowel)\n",
    "except Exception as e:\n",
    "    print(e)"
   ]
  },
  {
   "cell_type": "markdown",
   "id": "00eb9d48",
   "metadata": {},
   "source": [
    "# 4. Create a list of all the words in a given sentence."
   ]
  },
  {
   "cell_type": "code",
   "execution_count": 12,
   "id": "69458a26",
   "metadata": {},
   "outputs": [
    {
     "name": "stdout",
     "output_type": "stream",
     "text": [
      "['The', 'simplest', 'approach', 'provided', 'by', 'Python']\n"
     ]
    }
   ],
   "source": [
    "try:\n",
    "    sentence = \"The simplest approach provided by Python\"\n",
    "    words_list = []\n",
    "    def list_of_word(a : str):\n",
    "        \"This function will return list of words from sentence\"\n",
    "        try:\n",
    "            for i in a.split(\" \"):\n",
    "                words_list.append(i)\n",
    "            print(words_list)\n",
    "        except Exception as e:\n",
    "            print(e)\n",
    "    list_of_word(sentence)\n",
    "except Exception as e:\n",
    "    print(e)"
   ]
  },
  {
   "cell_type": "markdown",
   "id": "80409722",
   "metadata": {},
   "source": [
    "5. Create a list of all the positive numbers from a given list of integers."
   ]
  },
  {
   "cell_type": "code",
   "execution_count": null,
   "id": "b68b6e5d",
   "metadata": {},
   "outputs": [],
   "source": []
  },
  {
   "cell_type": "markdown",
   "id": "bca2705a",
   "metadata": {},
   "source": [
    "6. Create a list of all the uppercase characters from a given string."
   ]
  },
  {
   "cell_type": "code",
   "execution_count": null,
   "id": "0e01b376",
   "metadata": {},
   "outputs": [],
   "source": []
  },
  {
   "cell_type": "markdown",
   "id": "2c07482a",
   "metadata": {},
   "source": [
    "7.  Create a list of all the first letters of words in a given sentence."
   ]
  },
  {
   "cell_type": "code",
   "execution_count": null,
   "id": "4dae9b0d",
   "metadata": {},
   "outputs": [],
   "source": []
  },
  {
   "cell_type": "markdown",
   "id": "2ad9fa6f",
   "metadata": {},
   "source": [
    "8. Create a list of all the unique words from a given sentence"
   ]
  },
  {
   "cell_type": "code",
   "execution_count": null,
   "id": "d6589704",
   "metadata": {},
   "outputs": [],
   "source": []
  },
  {
   "cell_type": "markdown",
   "id": "c292edda",
   "metadata": {},
   "source": [
    "9. Create a list of all the anagrams of a given word from a list of words"
   ]
  },
  {
   "cell_type": "code",
   "execution_count": null,
   "id": "dac274e1",
   "metadata": {},
   "outputs": [],
   "source": []
  },
  {
   "cell_type": "markdown",
   "id": "9f2004ff",
   "metadata": {},
   "source": [
    "10. Create a list of all the permutations of a given string using list comprehension."
   ]
  },
  {
   "cell_type": "code",
   "execution_count": null,
   "id": "ef4089c1",
   "metadata": {},
   "outputs": [],
   "source": []
  },
  {
   "cell_type": "markdown",
   "id": "89882208",
   "metadata": {},
   "source": [
    "11. Create a list of all the words that start and end with the same letter from a given list of words using list comprehension."
   ]
  },
  {
   "cell_type": "code",
   "execution_count": null,
   "id": "a486b2e6",
   "metadata": {},
   "outputs": [],
   "source": []
  },
  {
   "cell_type": "markdown",
   "id": "0ee5c17c",
   "metadata": {},
   "source": [
    "12. Create a list of all the numbers that are divisible by 3 and 5 from a given list of integers using list comprehension."
   ]
  },
  {
   "cell_type": "code",
   "execution_count": null,
   "id": "b40c03cc",
   "metadata": {},
   "outputs": [],
   "source": []
  },
  {
   "cell_type": "markdown",
   "id": "74b622dd",
   "metadata": {},
   "source": [
    "13. Convert a given string to lowercase"
   ]
  },
  {
   "cell_type": "code",
   "execution_count": null,
   "id": "1eefc7aa",
   "metadata": {},
   "outputs": [],
   "source": []
  },
  {
   "cell_type": "markdown",
   "id": "9b7fc0f5",
   "metadata": {},
   "source": [
    "14. Reverse a given string"
   ]
  },
  {
   "cell_type": "code",
   "execution_count": null,
   "id": "eb36b877",
   "metadata": {},
   "outputs": [],
   "source": []
  },
  {
   "cell_type": "markdown",
   "id": "655754e5",
   "metadata": {},
   "source": [
    "15.Remove all the vowels from a given string"
   ]
  },
  {
   "cell_type": "code",
   "execution_count": null,
   "id": "ab11d828",
   "metadata": {},
   "outputs": [],
   "source": []
  },
  {
   "cell_type": "markdown",
   "id": "63e53c07",
   "metadata": {},
   "source": [
    "16. Find all the digits in a given string"
   ]
  },
  {
   "cell_type": "code",
   "execution_count": null,
   "id": "a45bc1dd",
   "metadata": {},
   "outputs": [],
   "source": []
  },
  {
   "cell_type": "markdown",
   "id": "78eaee0a",
   "metadata": {},
   "source": [
    "17. Remove all the whitespace characters from a given string"
   ]
  },
  {
   "cell_type": "code",
   "execution_count": null,
   "id": "159e08b4",
   "metadata": {},
   "outputs": [],
   "source": []
  },
  {
   "cell_type": "markdown",
   "id": "9ff3bbc8",
   "metadata": {},
   "source": [
    "18. Create a string of all the characters in a given list of strings"
   ]
  },
  {
   "cell_type": "code",
   "execution_count": null,
   "id": "e23c66cc",
   "metadata": {},
   "outputs": [],
   "source": []
  },
  {
   "cell_type": "markdown",
   "id": "4173cedb",
   "metadata": {},
   "source": [
    "19. Remove all the punctuation characters from a given string"
   ]
  },
  {
   "cell_type": "code",
   "execution_count": null,
   "id": "1a0d0f1d",
   "metadata": {},
   "outputs": [],
   "source": []
  },
  {
   "cell_type": "markdown",
   "id": "917f38fa",
   "metadata": {},
   "source": [
    "20. Count the number of times each character appears in a given string"
   ]
  },
  {
   "cell_type": "code",
   "execution_count": null,
   "id": "63548312",
   "metadata": {},
   "outputs": [],
   "source": []
  },
  {
   "cell_type": "markdown",
   "id": "ba06150d",
   "metadata": {},
   "source": [
    "21. Find the most common character in a given string"
   ]
  },
  {
   "cell_type": "code",
   "execution_count": null,
   "id": "c9427bcd",
   "metadata": {},
   "outputs": [],
   "source": []
  },
  {
   "cell_type": "markdown",
   "id": "4bcc42b4",
   "metadata": {},
   "source": [
    "22. Capitalize the first letter of each word in a given string"
   ]
  },
  {
   "cell_type": "code",
   "execution_count": null,
   "id": "15498546",
   "metadata": {},
   "outputs": [],
   "source": []
  },
  {
   "cell_type": "markdown",
   "id": "4a6050f9",
   "metadata": {},
   "source": [
    "23. Find all the anagrams of a given word from a list of words"
   ]
  },
  {
   "cell_type": "code",
   "execution_count": null,
   "id": "b89e72c0",
   "metadata": {},
   "outputs": [],
   "source": []
  },
  {
   "cell_type": "markdown",
   "id": "6637e722",
   "metadata": {},
   "source": [
    "24. Create a string of all the unique characters in a given string"
   ]
  },
  {
   "cell_type": "code",
   "execution_count": null,
   "id": "1e662cc6",
   "metadata": {},
   "outputs": [],
   "source": []
  },
  {
   "cell_type": "markdown",
   "id": "0bcce886",
   "metadata": {},
   "source": [
    "25. Find the longest palindrome in a given string"
   ]
  },
  {
   "cell_type": "code",
   "execution_count": null,
   "id": "caa08598",
   "metadata": {},
   "outputs": [],
   "source": []
  },
  {
   "cell_type": "markdown",
   "id": "07c17244",
   "metadata": {},
   "source": [
    "26. Find all the substrings of a given string"
   ]
  },
  {
   "cell_type": "code",
   "execution_count": null,
   "id": "df59a54a",
   "metadata": {},
   "outputs": [],
   "source": []
  },
  {
   "cell_type": "markdown",
   "id": "a473ec5c",
   "metadata": {},
   "source": [
    "27. Create a string of all the words in a given sentence in reverse order"
   ]
  },
  {
   "cell_type": "code",
   "execution_count": null,
   "id": "ff453b2f",
   "metadata": {},
   "outputs": [],
   "source": []
  },
  {
   "cell_type": "markdown",
   "id": "f02b168e",
   "metadata": {},
   "source": [
    "28. Create an array of integers from a given list of integers."
   ]
  },
  {
   "cell_type": "code",
   "execution_count": null,
   "id": "e211ab24",
   "metadata": {},
   "outputs": [],
   "source": []
  },
  {
   "cell_type": "markdown",
   "id": "0f000175",
   "metadata": {},
   "source": [
    "29. Find the sum of all the elements in a given array of integers."
   ]
  },
  {
   "cell_type": "code",
   "execution_count": null,
   "id": "835bb08a",
   "metadata": {},
   "outputs": [],
   "source": []
  },
  {
   "cell_type": "markdown",
   "id": "446b6f1a",
   "metadata": {},
   "source": [
    "30. Find the maximum element in a given array of integers."
   ]
  },
  {
   "cell_type": "code",
   "execution_count": null,
   "id": "45633e3b",
   "metadata": {},
   "outputs": [],
   "source": []
  },
  {
   "cell_type": "markdown",
   "id": "5ab5ca18",
   "metadata": {},
   "source": [
    "31. Find the minimum element in a given array of integers."
   ]
  },
  {
   "cell_type": "code",
   "execution_count": null,
   "id": "28036b8b",
   "metadata": {},
   "outputs": [],
   "source": []
  },
  {
   "cell_type": "markdown",
   "id": "80a0e8e5",
   "metadata": {},
   "source": [
    "32. Create an array of all the even numbers from a given array of integers."
   ]
  },
  {
   "cell_type": "code",
   "execution_count": null,
   "id": "0ed93929",
   "metadata": {},
   "outputs": [],
   "source": []
  },
  {
   "cell_type": "markdown",
   "id": "6d8ada15",
   "metadata": {},
   "source": [
    "33. Find the second largest element in a given array of integers."
   ]
  },
  {
   "cell_type": "code",
   "execution_count": null,
   "id": "40bd712c",
   "metadata": {},
   "outputs": [],
   "source": []
  },
  {
   "cell_type": "markdown",
   "id": "df3cc15f",
   "metadata": {},
   "source": [
    "34. Find the second smallest element in a given array of integers."
   ]
  },
  {
   "cell_type": "code",
   "execution_count": null,
   "id": "6c275411",
   "metadata": {},
   "outputs": [],
   "source": []
  },
  {
   "cell_type": "markdown",
   "id": "a086ae6c",
   "metadata": {},
   "source": [
    "35. Create a new array from two given arrays by alternating their elements."
   ]
  },
  {
   "cell_type": "code",
   "execution_count": null,
   "id": "28a110ef",
   "metadata": {},
   "outputs": [],
   "source": []
  },
  {
   "cell_type": "markdown",
   "id": "38b19632",
   "metadata": {},
   "source": [
    "36. Create a new array from a given array by removing all the duplicates."
   ]
  },
  {
   "cell_type": "code",
   "execution_count": null,
   "id": "461cb269",
   "metadata": {},
   "outputs": [],
   "source": []
  },
  {
   "cell_type": "markdown",
   "id": "c633af84",
   "metadata": {},
   "source": [
    "37. Create a new array from a given array by reversing its elements"
   ]
  },
  {
   "cell_type": "code",
   "execution_count": null,
   "id": "1ed85a62",
   "metadata": {},
   "outputs": [],
   "source": []
  },
  {
   "cell_type": "markdown",
   "id": "824f6701",
   "metadata": {},
   "source": [
    "38. Create a new array from a given array by shuffling its elements randomly."
   ]
  },
  {
   "cell_type": "code",
   "execution_count": null,
   "id": "d06b4876",
   "metadata": {},
   "outputs": [],
   "source": []
  },
  {
   "cell_type": "markdown",
   "id": "f0937c7a",
   "metadata": {},
   "source": [
    "39.  Create a new array from a given array by selecting only the elements that are divisible by 3 and 5."
   ]
  },
  {
   "cell_type": "code",
   "execution_count": null,
   "id": "6a746267",
   "metadata": {},
   "outputs": [],
   "source": []
  },
  {
   "cell_type": "markdown",
   "id": "97c7b809",
   "metadata": {},
   "source": [
    "40. Find the intersection of two given lists."
   ]
  },
  {
   "cell_type": "code",
   "execution_count": null,
   "id": "cd2ef6ef",
   "metadata": {},
   "outputs": [],
   "source": []
  }
 ],
 "metadata": {
  "kernelspec": {
   "display_name": "Python 3 (ipykernel)",
   "language": "python",
   "name": "python3"
  },
  "language_info": {
   "codemirror_mode": {
    "name": "ipython",
    "version": 3
   },
   "file_extension": ".py",
   "mimetype": "text/x-python",
   "name": "python",
   "nbconvert_exporter": "python",
   "pygments_lexer": "ipython3",
   "version": "3.9.13"
  }
 },
 "nbformat": 4,
 "nbformat_minor": 5
}
