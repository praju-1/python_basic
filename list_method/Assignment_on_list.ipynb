{
 "cells": [
  {
   "cell_type": "markdown",
   "id": "21aad3dc",
   "metadata": {},
   "source": [
    "# 1. Create a list of squared integers from a given list of integers."
   ]
  },
  {
   "cell_type": "code",
   "execution_count": 22,
   "id": "4947e290",
   "metadata": {},
   "outputs": [
    {
     "name": "stdout",
     "output_type": "stream",
     "text": [
      "Squared_list =  [1, 16, 36, 49, 81]\n"
     ]
    }
   ],
   "source": [
    "list_of_int  = [1, 4, 6, 7, 9]\n",
    "output_list = []\n",
    "def squ_int(a : list):\n",
    "    \"This function will return square of number from given list of intergers\"\n",
    "    try:\n",
    "        for i in a:\n",
    "            result = i**2\n",
    "            output_list.append(result)\n",
    "        print(\"Squared_list = \", output_list)\n",
    "    except Exception as e:\n",
    "        print(e)\n",
    "squ_int(list_of_int)   "
   ]
  },
  {
   "cell_type": "markdown",
   "id": "210eb6fe",
   "metadata": {},
   "source": [
    "# 2. Create a list of even numbers from a given list of integers."
   ]
  },
  {
   "cell_type": "code",
   "execution_count": 23,
   "id": "e801346b",
   "metadata": {},
   "outputs": [
    {
     "name": "stdout",
     "output_type": "stream",
     "text": [
      "even_list =  [2, 132, 4, 6, 34]\n"
     ]
    }
   ],
   "source": [
    "list_of_int  = [1,2, 132, 4, 6, 7, 9, 11, 15, 34]\n",
    "output_list = []\n",
    "def even_list(a : list):\n",
    "    \"This function will return square of number from given list of intergers\"\n",
    "    try:\n",
    "        for i in a:\n",
    "            if i%2 == 0:\n",
    "                output_list.append(i)\n",
    "        print(\"even_list = \", output_list)\n",
    "    except Exception as e:\n",
    "        print(e)\n",
    "even_list(list_of_int)   "
   ]
  },
  {
   "cell_type": "markdown",
   "id": "2c4dc068",
   "metadata": {},
   "source": [
    "# 3. Create a list of vowels from a given string."
   ]
  },
  {
   "cell_type": "code",
   "execution_count": 24,
   "id": "72115867",
   "metadata": {},
   "outputs": [
    {
     "name": "stdout",
     "output_type": "stream",
     "text": [
      "Enter any string : Hello python\n",
      "List of vowel is :  ['e', 'o', 'o']\n"
     ]
    }
   ],
   "source": [
    "try:\n",
    "    string = input(\"Enter any string : \")\n",
    "    vowel = \"AEIOUaeiou\"\n",
    "    list_of_vowel = []\n",
    "    def vowel_func(word : str, vow : str):\n",
    "        \"This function will return list of vowel\"\n",
    "        try:\n",
    "            for letter in word:\n",
    "                if letter in vow:\n",
    "                    list_of_vowel.append(letter)\n",
    "            print(\"List of vowel is : \", list_of_vowel)\n",
    "        except Exception as e:\n",
    "            print(e)\n",
    "    vowel_func(string, vowel)\n",
    "except Exception as e:\n",
    "    print(e)"
   ]
  },
  {
   "cell_type": "markdown",
   "id": "00eb9d48",
   "metadata": {},
   "source": [
    "# 4. Create a list of all the words in a given sentence."
   ]
  },
  {
   "cell_type": "code",
   "execution_count": 25,
   "id": "69458a26",
   "metadata": {},
   "outputs": [
    {
     "name": "stdout",
     "output_type": "stream",
     "text": [
      "['The', 'simplest', 'approach', 'provided', 'by', 'Python']\n"
     ]
    }
   ],
   "source": [
    "try:\n",
    "    sentence = \"The simplest approach provided by Python\"\n",
    "    words_list = []\n",
    "    def list_of_word(a : str):\n",
    "        \"This function will return list of words from sentence\"\n",
    "        try:\n",
    "            for i in a.split(\" \"):\n",
    "                words_list.append(i)\n",
    "            print(words_list)\n",
    "        except Exception as e:\n",
    "            print(e)\n",
    "    list_of_word(sentence)\n",
    "except Exception as e:\n",
    "    print(e)"
   ]
  },
  {
   "cell_type": "markdown",
   "id": "80409722",
   "metadata": {},
   "source": [
    "# 5. Create a list of all the positive numbers from a given list of integers."
   ]
  },
  {
   "cell_type": "code",
   "execution_count": 6,
   "id": "b68b6e5d",
   "metadata": {},
   "outputs": [
    {
     "name": "stdout",
     "output_type": "stream",
     "text": [
      "Positve list  =  [1, 3, 5, 5]\n"
     ]
    }
   ],
   "source": [
    "list_of_int  = [1, 3, -1, 5, -5, -2, 5]\n",
    "output_list = []\n",
    "def positive_num(a : list):\n",
    "    \"This function will return positive number from given list of intergers\"\n",
    "    try:\n",
    "        for i in a:\n",
    "            if i >= 0:\n",
    "                output_list.append(i)\n",
    "        print(\"Positve list  = \", output_list)\n",
    "    except Exception as e:\n",
    "        print(e)\n",
    "positive_num(list_of_int) "
   ]
  },
  {
   "cell_type": "markdown",
   "id": "bca2705a",
   "metadata": {},
   "source": [
    "# 6. Create a list of all the uppercase characters from a given string."
   ]
  },
  {
   "cell_type": "code",
   "execution_count": 7,
   "id": "0e01b376",
   "metadata": {},
   "outputs": [
    {
     "name": "stdout",
     "output_type": "stream",
     "text": [
      "Enter any string : dfadf\n",
      "List of uppercase charactrs is :  []\n"
     ]
    }
   ],
   "source": [
    "try:\n",
    "    string = input(\"Enter any string : \")\n",
    "    words_list = []\n",
    "    def list_of_upper(a : str):\n",
    "        \"This function will return list of words from sentence\"\n",
    "        try:\n",
    "            for i in a:\n",
    "                if i.isupper() == True:\n",
    "                    words_list.append(i)\n",
    "            print(\"List of uppercase charactrs is : \", words_list)\n",
    "        except Exception as e:\n",
    "            print(e)\n",
    "    list_of_upper(string)\n",
    "except Exception as e:\n",
    "    print(e)"
   ]
  },
  {
   "cell_type": "markdown",
   "id": "2c07482a",
   "metadata": {},
   "source": [
    "# 7.  Create a list of all the first letters of words in a given sentence."
   ]
  },
  {
   "cell_type": "code",
   "execution_count": 8,
   "id": "f780106c",
   "metadata": {},
   "outputs": [
    {
     "name": "stdout",
     "output_type": "stream",
     "text": [
      "First letters of words :  ['T', 's', 'a', 'p', 'b', 'P']\n"
     ]
    }
   ],
   "source": [
    "try:\n",
    "    sentence = \"The simplest approach provided by Python\"\n",
    "    letter_list = []\n",
    "    def first_letter(a : str):\n",
    "        \"This function will return first letters of each word from sentence\"\n",
    "        try:\n",
    "            for i in a.split(\" \"):\n",
    "                letter_list.append(i[0])\n",
    "            print(\"First letters of words : \" ,letter_list)\n",
    "            \n",
    "        except Exception as e:\n",
    "            print(e)\n",
    "    first_letter(sentence)\n",
    "except Exception as e:\n",
    "    print(e)"
   ]
  },
  {
   "cell_type": "markdown",
   "id": "2ad9fa6f",
   "metadata": {},
   "source": [
    "# 8. Create a list of all the unique words from a given sentence"
   ]
  },
  {
   "cell_type": "code",
   "execution_count": 9,
   "id": "d6589704",
   "metadata": {},
   "outputs": [
    {
     "name": "stdout",
     "output_type": "stream",
     "text": [
      "List of unique words from sentence :  ['n', 'l', 't', 'p', 's', 'i', 'T', 'm', ' ', 'P', 'y', 'o', 'h', 'e']\n"
     ]
    }
   ],
   "source": [
    "try:\n",
    "    sentence = \"The simplest Python\"\n",
    "    words_list = []\n",
    "    def unique_of_word(a : str):\n",
    "        \"This function will return list of words from sentence\"\n",
    "        try:\n",
    "            result  = set(a)\n",
    "            print(\"List of unique words from sentence : \", list(result))\n",
    "        except Exception as e:\n",
    "            print(e)\n",
    "    unique_of_word(sentence)\n",
    "except Exception as e:\n",
    "    print(e)"
   ]
  },
  {
   "cell_type": "markdown",
   "id": "c292edda",
   "metadata": {},
   "source": [
    "9. Create a list of all the anagrams of a given word from a list of words"
   ]
  },
  {
   "cell_type": "code",
   "execution_count": null,
   "id": "dac274e1",
   "metadata": {},
   "outputs": [],
   "source": []
  },
  {
   "cell_type": "markdown",
   "id": "9f2004ff",
   "metadata": {},
   "source": [
    "10. Create a list of all the permutations of a given string using list comprehension."
   ]
  },
  {
   "cell_type": "code",
   "execution_count": null,
   "id": "ef4089c1",
   "metadata": {},
   "outputs": [],
   "source": []
  },
  {
   "cell_type": "markdown",
   "id": "89882208",
   "metadata": {},
   "source": [
    "11. Create a list of all the words that start and end with the same letter from a given list of words using list comprehension."
   ]
  },
  {
   "cell_type": "code",
   "execution_count": null,
   "id": "a486b2e6",
   "metadata": {},
   "outputs": [],
   "source": []
  },
  {
   "cell_type": "markdown",
   "id": "0ee5c17c",
   "metadata": {},
   "source": [
    "# 12. Create a list of all the numbers that are divisible by 3 and 5 from a given list of integers using list comprehension."
   ]
  },
  {
   "cell_type": "code",
   "execution_count": 10,
   "id": "b40c03cc",
   "metadata": {},
   "outputs": [
    {
     "name": "stdout",
     "output_type": "stream",
     "text": [
      "List of numbers :  [23, 45, 12, 4, 50, 10, 27, 60]\n",
      "list of numbers which is divisible by 3 and 5 :  [45, 60]\n"
     ]
    }
   ],
   "source": [
    "try:\n",
    "    list_of_int = [23, 45, 12, 4, 50, 10, 27, 60]\n",
    "    def divisible_list(a : list):\n",
    "        \"This function will return list of numbers which is divisible by 3 and 5\"\n",
    "        try:\n",
    "            print(\"List of numbers : \", a)\n",
    "            \n",
    "            result = [i for i in a if i % 3 == 0 and i % 5 == 0]\n",
    "            \n",
    "            print(\"list of numbers which is divisible by 3 and 5 : \", result)\n",
    "            \n",
    "        except Exception as e:\n",
    "            print(e)\n",
    "\n",
    "    divisible_list(list_of_int)\n",
    "    \n",
    "except Exception as e:\n",
    "    print(e)"
   ]
  },
  {
   "cell_type": "markdown",
   "id": "74b622dd",
   "metadata": {},
   "source": [
    "# 13. Convert a given string to lowercase"
   ]
  },
  {
   "cell_type": "code",
   "execution_count": 11,
   "id": "1eefc7aa",
   "metadata": {},
   "outputs": [
    {
     "name": "stdout",
     "output_type": "stream",
     "text": [
      "Enter any string : dfdsfdfA\n",
      "string is :  dfdsfdfa\n"
     ]
    }
   ],
   "source": [
    "try:\n",
    "    string = input(\"Enter any string : \")\n",
    "    def to_lower(a : str):\n",
    "        \"This function will return string in lowercase\"\n",
    "        try:\n",
    "            result = a.lower()\n",
    "            print(\"string is : \", result)\n",
    "        except Exception as e:\n",
    "            print(e)\n",
    "    to_lower(string)\n",
    "except Exception as e:\n",
    "    print(e)"
   ]
  },
  {
   "cell_type": "markdown",
   "id": "9b7fc0f5",
   "metadata": {},
   "source": [
    "# 14. Reverse a given string"
   ]
  },
  {
   "cell_type": "code",
   "execution_count": 12,
   "id": "8cb02dc9",
   "metadata": {},
   "outputs": [
    {
     "name": "stdout",
     "output_type": "stream",
     "text": [
      "Enter any string : fjgk\n",
      "string is :  kgjf\n"
     ]
    }
   ],
   "source": [
    "try:\n",
    "    string = input(\"Enter any string : \")\n",
    "    def reverse_string(a : str):\n",
    "        \"This function will reverse string\"\n",
    "        try:\n",
    "            result = a[::-1]\n",
    "            print(\"string is : \", result)\n",
    "        except Exception as e:\n",
    "            print(e)\n",
    "    reverse_string(string)\n",
    "except Exception as e:\n",
    "    print(e)"
   ]
  },
  {
   "cell_type": "markdown",
   "id": "655754e5",
   "metadata": {},
   "source": [
    "# 15.Remove all the vowels from a given string"
   ]
  },
  {
   "cell_type": "code",
   "execution_count": null,
   "id": "bc8bd9b9",
   "metadata": {},
   "outputs": [],
   "source": [
    "try:\n",
    "    vowels = \"AEIOUaeiou\"\n",
    "    string = input(\"Enter any string : \")\n",
    "    l = []\n",
    "    def remove_vowels(a : str, b : str):\n",
    "        \"This function will remove vowels from string\"\n",
    "        try:\n",
    "            for i in string:\n",
    "                if i not in vowels:\n",
    "                    l.append(i)\n",
    "                    result = \"\".join(l)\n",
    "            print(\"String after removal of vowels : \", result)\n",
    "            \n",
    "        except Exception as e:\n",
    "            print(e)\n",
    "            \n",
    "    remove_vowels(string, vowels)\n",
    "       \n",
    "except Exception as e:\n",
    "    print(e)    \n",
    "\n"
   ]
  },
  {
   "cell_type": "markdown",
   "id": "94e29e6d",
   "metadata": {},
   "source": [
    "# 16. Find all the digits in a given string"
   ]
  },
  {
   "cell_type": "code",
   "execution_count": 14,
   "id": "a45bc1dd",
   "metadata": {},
   "outputs": [
    {
     "name": "stdout",
     "output_type": "stream",
     "text": [
      "Enter any string : morning\n",
      "List of digits from string :  []\n"
     ]
    }
   ],
   "source": [
    "try:\n",
    "    list_of_digit = []\n",
    "    string = input(\"Enter any string : \")\n",
    "    def find_digits(a : str):\n",
    "        \"This function will find digits from given string\"\n",
    "        try:\n",
    "            for i in a:\n",
    "                if i.isdigit():\n",
    "                    list_of_digit.append(i)\n",
    "            print(\"List of digits from string : \", list_of_digit)\n",
    "        except Exception as e:\n",
    "            print(e) \n",
    "            \n",
    "    find_digits(string)\n",
    "    \n",
    "except Exception as e:\n",
    "    print(e)    "
   ]
  },
  {
   "cell_type": "markdown",
   "id": "78eaee0a",
   "metadata": {},
   "source": [
    "# 17. Remove all the whitespace characters from a given string"
   ]
  },
  {
   "cell_type": "code",
   "execution_count": null,
   "id": "159e08b4",
   "metadata": {},
   "outputs": [],
   "source": [
    "try:\n",
    "    string = input(\"Enter any string : \")\n",
    "    def remove_space(a : str):\n",
    "        \"This function will remove whitespace from string\"\n",
    "        try:\n",
    "            print(\"Original string entered : \", a)\n",
    "            result = a.strip()\n",
    "            print(\"String after removing whitespace :\" , result)\n",
    "            \n",
    "        except Exception as e:\n",
    "            print(e)\n",
    "            \n",
    "    remove_space(string) \n",
    "except Exception as e:\n",
    "    print(e)    "
   ]
  },
  {
   "cell_type": "markdown",
   "id": "9ff3bbc8",
   "metadata": {},
   "source": [
    "# 18. Create a string of all the characters in a given list of strings"
   ]
  },
  {
   "cell_type": "code",
   "execution_count": null,
   "id": "e23c66cc",
   "metadata": {},
   "outputs": [],
   "source": [
    "try:\n",
    "    list_of_string = [\"H\", \"e\", \"l\", \"l\", \"o\"]\n",
    "    def create_string(a : list):\n",
    "        \"This function will return all string\"\n",
    "        try:\n",
    "            print(\"Given list of String is : \", a)\n",
    "            result = \"\".join(a)\n",
    "            print(\"String of characters provided :\" , result)\n",
    "            \n",
    "        except Exception as e:\n",
    "            print(e)\n",
    "            \n",
    "    create_string(list_of_string) \n",
    "except Exception as e:\n",
    "    print(e)    "
   ]
  },
  {
   "cell_type": "markdown",
   "id": "4173cedb",
   "metadata": {},
   "source": [
    "# 19. Remove all the punctuation characters from a given string"
   ]
  },
  {
   "cell_type": "code",
   "execution_count": null,
   "id": "1a0d0f1d",
   "metadata": {},
   "outputs": [],
   "source": [
    "#importing regular expression\n",
    "import re\n",
    "try:\n",
    "    string = input(\"Enter any string : \")\n",
    "    def remove_punctuation(a : str):\n",
    "        \"This function will remove punctuation from string\"\n",
    "        try:\n",
    "            result = re.sub(r'[^\\w\\s]', '', a)\n",
    "            print(\"The string without punctuation is: \", result)\n",
    "           \n",
    "        except Exception as e:\n",
    "            print(e)\n",
    "\n",
    "    remove_punctuation(string)\n",
    "except Exception as e:\n",
    "    print(e)    "
   ]
  },
  {
   "cell_type": "markdown",
   "id": "917f38fa",
   "metadata": {},
   "source": [
    "# 20. Count the number of times each character appears in a given string"
   ]
  },
  {
   "cell_type": "code",
   "execution_count": null,
   "id": "63548312",
   "metadata": {},
   "outputs": [],
   "source": [
    "try:\n",
    "    string = input(\"Enter any string : \")\n",
    "    def count_character(a : str):\n",
    "        \"This function will count the number of each character appears\"\n",
    "        try:\n",
    "            \n",
    "            pass\n",
    "        except Exception as e:\n",
    "            print(e)\n",
    "\n",
    "    count_character(string)  \n",
    "except Exception as e:\n",
    "    print(e)    "
   ]
  },
  {
   "cell_type": "markdown",
   "id": "ba06150d",
   "metadata": {},
   "source": [
    "# 21. Find the most common character in a given string"
   ]
  },
  {
   "cell_type": "code",
   "execution_count": null,
   "id": "c9427bcd",
   "metadata": {},
   "outputs": [],
   "source": [
    "try:\n",
    "    string = input(\"Enter any string : \")\n",
    "    def most_common(s : str):\n",
    "        \"This function will return most common character from string\"\n",
    "        try:\n",
    "            most_common = max(set(string), key=string.count)\n",
    "            print(\"The most common character is : \", most_common)\n",
    "            \n",
    "        except Exception as e:\n",
    "            print(e)\n",
    "    most_common(string)\n",
    "except Exception as e:\n",
    "    print(e) "
   ]
  },
  {
   "cell_type": "markdown",
   "id": "4bcc42b4",
   "metadata": {},
   "source": [
    "# 22. Capitalize the first letter of each word in a given string"
   ]
  },
  {
   "cell_type": "code",
   "execution_count": null,
   "id": "15498546",
   "metadata": {},
   "outputs": [],
   "source": [
    "try:\n",
    "    string = input(\"Enter any string : \")\n",
    "    def capital_first(a : str):\n",
    "        \"This function capitalize first letter the each word of string\"\n",
    "        try:\n",
    "            result = a.title()\n",
    "            print(\"Result for above is : \", result) \n",
    "        except Exception as e:\n",
    "            print(e)\n",
    "    capital_first(string)\n",
    "except Exception as e:\n",
    "    print(e) "
   ]
  },
  {
   "cell_type": "markdown",
   "id": "4a6050f9",
   "metadata": {},
   "source": [
    "23. Find all the anagrams of a given word from a list of words"
   ]
  },
  {
   "cell_type": "code",
   "execution_count": null,
   "id": "b89e72c0",
   "metadata": {},
   "outputs": [],
   "source": [
    "try:\n",
    "    def anagram_word(a : list):\n",
    "        \"This function will return anagrams of given word from list\"\n",
    "        try:\n",
    "            pass\n",
    "        except Exception as e:\n",
    "            print(e)\n",
    "except Exception as e:\n",
    "    print(e) "
   ]
  },
  {
   "cell_type": "markdown",
   "id": "6637e722",
   "metadata": {},
   "source": [
    "# 24. Create a string of all the unique characters in a given string"
   ]
  },
  {
   "cell_type": "code",
   "execution_count": 1,
   "id": "1e662cc6",
   "metadata": {},
   "outputs": [
    {
     "name": "stdout",
     "output_type": "stream",
     "text": [
      "Enter any string : Data science\n",
      "String of unique characters is :   cnatDsie\n"
     ]
    }
   ],
   "source": [
    "try:\n",
    "    string = input(\"Enter any string : \")\n",
    "    def unique_string(a : str):\n",
    "        \"This function will return string of unique characters\"\n",
    "        try:\n",
    "            #Here given string converted to set which gives unique characters\n",
    "            new  = set(a)\n",
    "            #we join above with \"\"\n",
    "            result = \"\".join(new)\n",
    "            print(\"String of unique characters is : \", result)\n",
    "            \n",
    "        except Exception as e:\n",
    "            print(e)  \n",
    "    unique_string(string)\n",
    "except Exception as e:\n",
    "    print(e)  "
   ]
  },
  {
   "cell_type": "markdown",
   "id": "0bcce886",
   "metadata": {},
   "source": [
    "25. Find the longest palindrome in a given string"
   ]
  },
  {
   "cell_type": "code",
   "execution_count": null,
   "id": "caa08598",
   "metadata": {},
   "outputs": [],
   "source": [
    "try:\n",
    "    def long_palindrome(s : str):\n",
    "        \"This function will return longest palindrome from string\"\n",
    "        try:\n",
    "            \n",
    "        except Exception as e:\n",
    "            print(e)\n",
    "            \n",
    "    long_palindrome()\n",
    "    \n",
    "except Exception as e:\n",
    "    print(e) "
   ]
  },
  {
   "cell_type": "markdown",
   "id": "07c17244",
   "metadata": {},
   "source": [
    "# 26. Find all the substrings of a given string"
   ]
  },
  {
   "cell_type": "code",
   "execution_count": null,
   "id": "df59a54a",
   "metadata": {},
   "outputs": [],
   "source": [
    "try:\n",
    "    string = input(\"Enter any string : \")\n",
    "    def substring(s : str, n : int):\n",
    "        \"This function will return substring from given string\"\n",
    "        try:\n",
    "            for Len in range(1,n + 1):\n",
    "        \n",
    "                for i in range(n - Len + 1):\n",
    "              \n",
    "                    # Print characters from current\n",
    "                    # starting point to current ending\n",
    "                    # point. \n",
    "                    j = i + Len - 1\n",
    "\n",
    "                    for k in range(i,j + 1):\n",
    "                        print(s[k],end=\"\")\n",
    "                    print()\n",
    "        except Exception as e:\n",
    "            print(e) \n",
    "    substring(string, len(string))  \n",
    "except Exception as e:\n",
    "    print(e) "
   ]
  },
  {
   "cell_type": "markdown",
   "id": "a473ec5c",
   "metadata": {},
   "source": [
    "27. Create a string of all the words in a given sentence in reverse order"
   ]
  },
  {
   "cell_type": "code",
   "execution_count": null,
   "id": "ff453b2f",
   "metadata": {},
   "outputs": [],
   "source": [
    "try:\n",
    "    def create_string(s : str):\n",
    "        \"This function will return all words in reverse order\"\n",
    "        try:\n",
    "            \n",
    "            \n",
    "        except Exception as e:\n",
    "            print(e) \n",
    "        \n",
    "except Exception as e:\n",
    "    print(e) "
   ]
  },
  {
   "cell_type": "markdown",
   "id": "f02b168e",
   "metadata": {},
   "source": [
    "# 28. Create an array of integers from a given list of integers."
   ]
  },
  {
   "cell_type": "code",
   "execution_count": null,
   "id": "e211ab24",
   "metadata": {},
   "outputs": [],
   "source": [
    "import numpy as np\n",
    "try:\n",
    "    list_of_interger = [23, 45, 34, 66, 78, 89]\n",
    "    def array(a : list):\n",
    "        \"This Function will create array of integers\"\n",
    "        try:\n",
    "            result = np.array(list_of_interger)\n",
    "            print(\"Array of integers is : \", result)\n",
    "            \n",
    "        except Exception as e:\n",
    "            print(e) \n",
    "            \n",
    "    array(list_of_interger)\n",
    "\n",
    "except Exception as e:\n",
    "    print(e) "
   ]
  },
  {
   "cell_type": "markdown",
   "id": "0f000175",
   "metadata": {},
   "source": [
    "# 29. Find the sum of all the elements in a given array of integers."
   ]
  },
  {
   "cell_type": "code",
   "execution_count": null,
   "id": "835bb08a",
   "metadata": {},
   "outputs": [],
   "source": [
    "import numpy as np\n",
    "try:\n",
    "    array =  np.arange(10)\n",
    "    def sum_ele(a : int):\n",
    "        \"This function will return sum of all elements in array\"\n",
    "        try:\n",
    "            print(\"Array we have created is : \", a)\n",
    "            result = array.sum()\n",
    "            print(\"Addition of array elements is : \", result)\n",
    "        \n",
    "        except Exception as e:\n",
    "            print(e) \n",
    "    sum_ele(array)\n",
    "except Exception as e:\n",
    "    print(e) "
   ]
  },
  {
   "cell_type": "markdown",
   "id": "446b6f1a",
   "metadata": {},
   "source": [
    "# 30. Find the maximum element in a given array of integers."
   ]
  },
  {
   "cell_type": "code",
   "execution_count": null,
   "id": "45633e3b",
   "metadata": {},
   "outputs": [],
   "source": [
    "import numpy as np\n",
    "try:\n",
    "    array =  np.arange(10)\n",
    "    def max_element(a : int):\n",
    "        \"This function will return maximum element from array\"\n",
    "        try:\n",
    "            print(\"Array we have created is : \", a)\n",
    "            result = array.max()\n",
    "            print(\"Maximum elements from array is : \", result)\n",
    "            \n",
    "        except Exception as e:\n",
    "            print(e)\n",
    "    max_element(array)\n",
    "except Exception as e:\n",
    "    print(e) "
   ]
  },
  {
   "cell_type": "markdown",
   "id": "5ab5ca18",
   "metadata": {},
   "source": [
    "# 31. Find the minimum element in a given array of integers."
   ]
  },
  {
   "cell_type": "code",
   "execution_count": null,
   "id": "28036b8b",
   "metadata": {},
   "outputs": [],
   "source": [
    "import numpy as np\n",
    "try:\n",
    "    array =  np.arange(10)\n",
    "    def min_element(a : int):\n",
    "        \"This function will return minimum element from array\"\n",
    "        try:\n",
    "            print(\"Array we have created is : \", a)\n",
    "            result = array.min()\n",
    "            print(\"Minimum elements from array is : \", result)\n",
    "            \n",
    "        except Exception as e:\n",
    "            print(e)\n",
    "        \n",
    "    min_element(array)\n",
    "except Exception as e:\n",
    "    print(e) "
   ]
  },
  {
   "cell_type": "markdown",
   "id": "80a0e8e5",
   "metadata": {},
   "source": [
    "# 32. Create an array of all the even numbers from a given array of integers."
   ]
  },
  {
   "cell_type": "code",
   "execution_count": null,
   "id": "0ed93929",
   "metadata": {},
   "outputs": [],
   "source": [
    "import numpy as np\n",
    "try:\n",
    "    integers = [4, 7, 3, 2, 3, 6, 80, 42, 23, 12]\n",
    "    array_even = []\n",
    "    def even_array(a : list):\n",
    "        \"This function will return array of even numbers\"\n",
    "        try:\n",
    "            for i in a:\n",
    "                if i % 2 == 0:\n",
    "                    result = array_even.append(i)\n",
    "            print(\"Array of even numbers is: \", np.array(array_even))\n",
    "                    \n",
    "        except Exception as e:\n",
    "            print(e) \n",
    "    even_array(integers)\n",
    "except Exception as e:\n",
    "    print(e) "
   ]
  },
  {
   "cell_type": "markdown",
   "id": "6d8ada15",
   "metadata": {},
   "source": [
    "33. Find the second largest element in a given array of integers."
   ]
  },
  {
   "cell_type": "code",
   "execution_count": null,
   "id": "40bd712c",
   "metadata": {},
   "outputs": [],
   "source": [
    "import numpy as np\n",
    "try:\n",
    "    array = np.arange(9).reshape(3,3)\n",
    "    def second_large(a):\n",
    "        \"This function will return second largest element\"\n",
    "        try:\n",
    "            \n",
    "        \n",
    "        except Exception as e:\n",
    "            print(e) \n",
    "    second_large(array)\n",
    "except Exception as e:\n",
    "    print(e) "
   ]
  },
  {
   "cell_type": "markdown",
   "id": "df3cc15f",
   "metadata": {},
   "source": [
    "34. Find the second smallest element in a given array of integers."
   ]
  },
  {
   "cell_type": "code",
   "execution_count": null,
   "id": "6c275411",
   "metadata": {},
   "outputs": [],
   "source": [
    "try:\n",
    "   \n",
    "    def second_small(a : int):\n",
    "        \"This function will return second smallest element from array\"\n",
    "        try:\n",
    "            \n",
    "            \n",
    "            pass\n",
    "        \n",
    "        except Exception as e:\n",
    "            print(e) \n",
    "    second_small()\n",
    "except Exception as e:\n",
    "    print(e) "
   ]
  },
  {
   "cell_type": "code",
   "execution_count": null,
   "id": "0adc9448",
   "metadata": {},
   "outputs": [],
   "source": [
    "import numpy as np\n",
    "array1 = np.arange(9).reshape(3,3)\n",
    "array2 = np.arange(6).reshape(2,3)"
   ]
  },
  {
   "cell_type": "code",
   "execution_count": null,
   "id": "d512b9df",
   "metadata": {},
   "outputs": [],
   "source": [
    "np."
   ]
  },
  {
   "cell_type": "markdown",
   "id": "a086ae6c",
   "metadata": {},
   "source": [
    "35. Create a new array from two given arrays by alternating their elements."
   ]
  },
  {
   "cell_type": "code",
   "execution_count": null,
   "id": "28a110ef",
   "metadata": {},
   "outputs": [],
   "source": [
    "try:\n",
    "    array1 = np.arange(9).reshape(3,3)\n",
    "    array2 = np.arange(6).reshape(2,3)\n",
    "    def new_array(a : int):\n",
    "        \"This function will return new from two given arrays\"\n",
    "        try:\n",
    "            pass\n",
    "        except Exception as e:\n",
    "            print(e)\n",
    "            \n",
    "    new_array()\n",
    "    \n",
    "except Exception as e:\n",
    "    print(e) "
   ]
  },
  {
   "cell_type": "markdown",
   "id": "38b19632",
   "metadata": {},
   "source": [
    "36. Create a new array from a given array by removing all the duplicates."
   ]
  },
  {
   "cell_type": "code",
   "execution_count": null,
   "id": "461cb269",
   "metadata": {},
   "outputs": [],
   "source": [
    "try:\n",
    "    arr = [34, 2, 4, 3, 2, 3, 5, 7, 40]\n",
    "    def remove_dup(a : int):\n",
    "        \"This function will return new array by removing duplicates\"\n",
    "        try:\n",
    "            for i in a:\n",
    "                if i \n",
    "            \n",
    "        except Exception as e:\n",
    "            print(e)\n",
    "    \n",
    "except Exception as e:\n",
    "    print(e) "
   ]
  },
  {
   "cell_type": "markdown",
   "id": "c633af84",
   "metadata": {},
   "source": [
    "37. Create a new array from a given array by reversing its elements"
   ]
  },
  {
   "cell_type": "code",
   "execution_count": 2,
   "id": "1ed85a62",
   "metadata": {},
   "outputs": [
    {
     "name": "stdout",
     "output_type": "stream",
     "text": [
      "too many indices for array: array is 0-dimensional, but 1 were indexed\n"
     ]
    }
   ],
   "source": [
    "import numpy as np\n",
    "try:\n",
    "    arr = np.array(25)\n",
    "    def reverse_ele(a: int):\n",
    "        \"This function will return array by reversing elements\"\n",
    "        try:\n",
    "            result = a[:-1]\n",
    "            print(result)\n",
    "        \n",
    "        except Exception as e:\n",
    "            print(e)\n",
    "            \n",
    "    reverse_ele(arr)\n",
    "except Exception as e:\n",
    "    print(e) "
   ]
  },
  {
   "cell_type": "markdown",
   "id": "824f6701",
   "metadata": {},
   "source": [
    "# 38. Create a new array from a given array by shuffling its elements randomly."
   ]
  },
  {
   "cell_type": "code",
   "execution_count": 3,
   "id": "d06b4876",
   "metadata": {},
   "outputs": [
    {
     "name": "stdout",
     "output_type": "stream",
     "text": [
      "Orignal array is : \n",
      " [ 0  1  2  3  4  5  6  7  8  9 10 11 12 13 14]\n",
      "\n",
      "\n",
      "Array after shuffling elements : \n",
      " [14  7  4  2  3  6 13  0  5 12 11 10  8  1  9]\n"
     ]
    }
   ],
   "source": [
    "import numpy as np\n",
    "try:\n",
    "    array1 = np.arange(15)\n",
    "    def shuffle_array(a : int):\n",
    "        \"This function will return array by shuffling elements\"\n",
    "        try:\n",
    "            print(\"Orignal array is : \\n\", a)\n",
    "            result = np.random.permutation(a)\n",
    "            print(\"\\n\")\n",
    "            print(\"Array after shuffling elements : \\n\", result)\n",
    "        except Exception as e:\n",
    "            print(e)\n",
    "    shuffle_array(array1)       \n",
    "except Exception as e:\n",
    "    print(e) "
   ]
  },
  {
   "cell_type": "markdown",
   "id": "f0937c7a",
   "metadata": {},
   "source": [
    "# 39.  Create a new array from a given array by selecting only the elements that are divisible by 3 and 5."
   ]
  },
  {
   "cell_type": "code",
   "execution_count": 16,
   "id": "6a746267",
   "metadata": {},
   "outputs": [
    {
     "name": "stdout",
     "output_type": "stream",
     "text": [
      "Previous array is :  20\n",
      "New array : [0, 15]\n"
     ]
    }
   ],
   "source": [
    "import numpy as np\n",
    "try:\n",
    "    arr = np.array(20)\n",
    "    new_arr = []\n",
    "    def divisibility(a:int):\n",
    "        \"This function will return array which is divisible by 3 and 5\"\n",
    "        try:\n",
    "            print(\"Previous array is : \", a)\n",
    "            for i in range(a):\n",
    "                if i % 3 == 0 and i % 5 == 0:\n",
    "                    result = new_arr.append(i)\n",
    "            print(\"New array :\", new_arr)\n",
    "                    \n",
    "        except Exception as e:\n",
    "            print(e) \n",
    "            \n",
    "    divisibility(arr)   \n",
    "    \n",
    "except Exception as e:\n",
    "    print(e) "
   ]
  },
  {
   "cell_type": "markdown",
   "id": "97c7b809",
   "metadata": {},
   "source": [
    "# 40. Find the intersection of two given lists."
   ]
  },
  {
   "cell_type": "code",
   "execution_count": 3,
   "id": "cd2ef6ef",
   "metadata": {},
   "outputs": [
    {
     "name": "stdout",
     "output_type": "stream",
     "text": [
      "Intersection of two lists is :  [45, 56]\n"
     ]
    }
   ],
   "source": [
    "try:\n",
    "    l1 = [34, 45, 32, 56, 66]\n",
    "    l2 = [23, 45, 56, 89, 90]\n",
    "    def intersection_list(a : list, b : list):\n",
    "        \"This function will return intersection of two lists\"\n",
    "        try:\n",
    "            result = [i for i in a if i in b]\n",
    "            print(\"Intersection of two lists is : \", result)\n",
    "        except Exception as e:\n",
    "            print(e)\n",
    "    intersection_list(l1, l2)\n",
    "except Exception as e:\n",
    "    print(e)"
   ]
  }
 ],
 "metadata": {
  "kernelspec": {
   "display_name": "Python 3 (ipykernel)",
   "language": "python",
   "name": "python3"
  },
  "language_info": {
   "codemirror_mode": {
    "name": "ipython",
    "version": 3
   },
   "file_extension": ".py",
   "mimetype": "text/x-python",
   "name": "python",
   "nbconvert_exporter": "python",
   "pygments_lexer": "ipython3",
   "version": "3.9.13"
  }
 },
 "nbformat": 4,
 "nbformat_minor": 5
}
