{
 "cells": [
  {
   "cell_type": "markdown",
   "id": "2b0e163e",
   "metadata": {},
   "source": [
    "# Python List Methods"
   ]
  },
  {
   "cell_type": "raw",
   "id": "430caae1",
   "metadata": {},
   "source": [
    "There are Total 16 methods in Python List\n",
    "1. append()\n",
    "2. clear()\n",
    "3. copy()\n",
    "4. count()\n",
    "5. extend()\n",
    "6. index()\n",
    "7. insert()\n",
    "8. pop()\n",
    "9. remove()\n",
    "10. reverse()\n",
    "11. sort()\n",
    "12. max()\n",
    "13. min()\n",
    "14. del\n",
    "15. len()\n",
    "16. type()"
   ]
  },
  {
   "cell_type": "markdown",
   "id": "f89bd497",
   "metadata": {},
   "source": [
    "# 1. append() :\n"
   ]
  },
  {
   "cell_type": "markdown",
   "id": "69adcdc1",
   "metadata": {},
   "source": [
    "This method use to add a single element to the end of the list "
   ]
  },
  {
   "cell_type": "code",
   "execution_count": 1,
   "id": "fe1a3a86",
   "metadata": {},
   "outputs": [
    {
     "name": "stdout",
     "output_type": "stream",
     "text": [
      "Enter item you want to add: Good morning\n",
      "\n",
      "Original list :  ['Hello', 24, 'Pune', 'Python', 234.56]\n",
      "\n",
      "List after appending element :  ['Hello', 24, 'Pune', 'Python', 234.56, 'Good morning']\n"
     ]
    }
   ],
   "source": [
    "try:\n",
    "    list1 = [\"Hello\", 24, \"Pune\", \"Python\", 234.56]\n",
    "    new = input(\"Enter item you want to add: \")\n",
    "    def add_element_to_list(element, list_element):\n",
    "        \"This function will add item to the list\"\n",
    "        try:\n",
    "            print(\"\\nOriginal list : \", list_element)\n",
    "            list_element.append(element)\n",
    "            print(\"\\nList after appending element : \", list_element)\n",
    "        except Exception as e:\n",
    "            print(e)\n",
    "        \n",
    "    add_element_to_list(new, list1)\n",
    "except Exception as e:\n",
    "    print(e)"
   ]
  },
  {
   "cell_type": "markdown",
   "id": "68b5cc68",
   "metadata": {},
   "source": [
    "# * append() method using for loop"
   ]
  },
  {
   "cell_type": "code",
   "execution_count": 20,
   "id": "bcaec18b",
   "metadata": {},
   "outputs": [
    {
     "name": "stdout",
     "output_type": "stream",
     "text": [
      "\n",
      "Original list :  []\n",
      "Enter item you want to append: Good\n",
      "Enter item you want to append: Hello\n",
      "Enter item you want to append: 15\n",
      "Enter item you want to append: 26\n",
      "Enter item you want to append: python\n",
      "\n",
      "List after appending element :  ['Good', 'Hello', '15', '26', 'python']\n"
     ]
    }
   ],
   "source": [
    "try:\n",
    "    list1 = []\n",
    "    def add_element_to_list(a : list):\n",
    "        \"This function used to add element to the list\"\n",
    "        try:\n",
    "            print(\"\\nOriginal list : \", a)\n",
    "            for i in range(5):\n",
    "                new = input(\"Enter item you want to append: \")\n",
    "                a.append(new)\n",
    "            print(\"\\nList after appending element : \", a)\n",
    "        except Exception as e:\n",
    "            print(e)\n",
    "        \n",
    "    add_element_to_list(list1)\n",
    "except Exception as e:\n",
    "    print(e)"
   ]
  },
  {
   "cell_type": "markdown",
   "id": "43c8b3b0",
   "metadata": {},
   "source": [
    "# 2. clear() : "
   ]
  },
  {
   "cell_type": "markdown",
   "id": "d043a550",
   "metadata": {},
   "source": [
    "This method Removes all Items from the List"
   ]
  },
  {
   "cell_type": "code",
   "execution_count": 8,
   "id": "a019ad9b",
   "metadata": {},
   "outputs": [
    {
     "name": "stdout",
     "output_type": "stream",
     "text": [
      "Orignal list :  ['Hello', 24, 'Pune', 'Python', 234.56]\n",
      "\n",
      "List after method :  []\n"
     ]
    }
   ],
   "source": [
    "try:\n",
    "    list1 = [\"Hello\", 24, \"Pune\", \"Python\", 234.56]\n",
    "    def clear_list(a : list):\n",
    "        \"This function will clear all element from the list\"\n",
    "        try:\n",
    "            print(\"Orignal list : \", a)\n",
    "            a.clear()\n",
    "            print(\"\\nList after method : \", a)\n",
    "        except Exception as e:\n",
    "            print(e)\n",
    "        \n",
    "    clear_list(list1)\n",
    "except Exception as e:\n",
    "    print(e)"
   ]
  },
  {
   "cell_type": "markdown",
   "id": "a155ad0b",
   "metadata": {},
   "source": [
    "# 3. copy() : "
   ]
  },
  {
   "cell_type": "markdown",
   "id": "c96d8a47",
   "metadata": {},
   "source": [
    "This method return a copy of list"
   ]
  },
  {
   "cell_type": "code",
   "execution_count": 21,
   "id": "fa4981c0",
   "metadata": {},
   "outputs": [
    {
     "name": "stdout",
     "output_type": "stream",
     "text": [
      "Orignal list :  ['Hello', 24, 'Pune', 'Python', 234.56]\n",
      "\n",
      "Copy list :  ['Hello', 24, 'Pune', 'Python', 234.56]\n"
     ]
    }
   ],
   "source": [
    "try:\n",
    "    list1 = [\"Hello\", 24, \"Pune\", \"Python\", 234.56]\n",
    "    def copy_list(a : list):\n",
    "        \"This function return a copy of list\"\n",
    "        try:\n",
    "            print(\"Orignal list : \", a)\n",
    "            b = a.copy()\n",
    "            print(\"\\nCopy list : \", b)\n",
    "        except Exception as e:\n",
    "            print(e)\n",
    "        \n",
    "    copy_list(list1)\n",
    "except Exception as e:\n",
    "    print(e)"
   ]
  },
  {
   "cell_type": "markdown",
   "id": "a4f90888",
   "metadata": {},
   "source": [
    "# 4. count() : "
   ]
  },
  {
   "cell_type": "markdown",
   "id": "ce2cc54e",
   "metadata": {},
   "source": [
    "This method return the total number of element of the list"
   ]
  },
  {
   "cell_type": "code",
   "execution_count": 38,
   "id": "0b8195c4",
   "metadata": {},
   "outputs": [
    {
     "name": "stdout",
     "output_type": "stream",
     "text": [
      "\n",
      "Given list :  ['Hello', 24, 'Pune', 'Python', 234.56, 'Hello', 24]\n",
      "\n",
      "Count of the element is :  2\n"
     ]
    }
   ],
   "source": [
    "try:\n",
    "    list1 = [\"Hello\", 24, \"Pune\", \"Python\", 234.56, \"Hello\", 24]\n",
    "    def count_element_of_list(a : list, element : any):\n",
    "        \"This function return count of element in the list\"\n",
    "        try:\n",
    "            print(\"\\nGiven list : \", a)\n",
    "            x = a.count(element)\n",
    "            print(\"\\nCount of the element is : \", x)\n",
    "        except Exception as e:\n",
    "            print(e)\n",
    "        \n",
    "    count_element_of_list(list1, \"Hello\")\n",
    "except Exception as e:\n",
    "    print(e)"
   ]
  },
  {
   "cell_type": "markdown",
   "id": "779b64e3",
   "metadata": {},
   "source": [
    "# * Count element using for loop"
   ]
  },
  {
   "cell_type": "code",
   "execution_count": 39,
   "id": "1fd6590d",
   "metadata": {},
   "outputs": [
    {
     "name": "stdout",
     "output_type": "stream",
     "text": [
      "\n",
      "Given list :  ['Hello', 24, 'Pune', 'Python', 234.56, 'Hello', 24]\n",
      "\n",
      "Count of the element is :  2\n"
     ]
    }
   ],
   "source": [
    "try:\n",
    "    list1 = [\"Hello\", 24, \"Pune\", \"Python\", 234.56, \"Hello\", 24]\n",
    "    def count_element_of_list(a : list, element):\n",
    "        \"This function return count of element using for loop\"\n",
    "        try:\n",
    "            print(\"\\nGiven list : \", a)\n",
    "            count = 0\n",
    "            for item in a:\n",
    "                if item == element:\n",
    "                    count += 1\n",
    "            print(\"\\nCount of the element is : \", count)\n",
    "        except Exception as e:\n",
    "            print(e)\n",
    "        \n",
    "    count_element_of_list(list1, \"Hello\")\n",
    "except Exception as e:\n",
    "    print(e)"
   ]
  },
  {
   "cell_type": "markdown",
   "id": "52aecb12",
   "metadata": {},
   "source": [
    "# 5. extend() : "
   ]
  },
  {
   "cell_type": "markdown",
   "id": "e795a236",
   "metadata": {},
   "source": [
    "It add only iterable element at end of the list"
   ]
  },
  {
   "cell_type": "code",
   "execution_count": 42,
   "id": "85fa5d17",
   "metadata": {},
   "outputs": [
    {
     "name": "stdout",
     "output_type": "stream",
     "text": [
      "Given list :  ['Hello', 24, 'Pune', 'Python', 234.56, 'Hello', 24]\n",
      "\n",
      "Extended list :  ['Hello', 24, 'Pune', 'Python', 234.56, 'Hello', 24, 'laptop', 1234, 'skills']\n"
     ]
    }
   ],
   "source": [
    "try:\n",
    "    list1 = [\"Hello\", 24, \"Pune\", \"Python\", 234.56, \"Hello\", 24]\n",
    "    list2 = [\"laptop\", 1234, \"skills\"]\n",
    "    def extend_the_list(a : list, b : list):\n",
    "        \"This function add iterable element at the end of the list\"\n",
    "        try:\n",
    "            print(\"Given list : \", a)\n",
    "            a.extend(b)\n",
    "            print(\"\\nExtended list : \", a)\n",
    "        except Exception as e:\n",
    "            print(e)\n",
    "        \n",
    "    extend_the_list(list1, list2)\n",
    "except Exception as e:\n",
    "    print(e)"
   ]
  },
  {
   "cell_type": "markdown",
   "id": "c15de48d",
   "metadata": {},
   "source": [
    "# 6. index() : "
   ]
  },
  {
   "cell_type": "markdown",
   "id": "cb46e945",
   "metadata": {},
   "source": [
    "Return the index of the element in the list"
   ]
  },
  {
   "cell_type": "code",
   "execution_count": 43,
   "id": "348639de",
   "metadata": {},
   "outputs": [
    {
     "name": "stdout",
     "output_type": "stream",
     "text": [
      "Given list :  ['Hello', 24, 'Pune', 'Python', 234.56, 'Hello', 24]\n",
      "\n",
      "Index of the element is :  1\n"
     ]
    }
   ],
   "source": [
    "try:\n",
    "    list1 = [\"Hello\", 24, \"Pune\", \"Python\", 234.56, \"Hello\", 24]\n",
    "    def index_of_the_list(a : list):\n",
    "        \"This function return the index (first occurence) of element of the list\"\n",
    "        try:\n",
    "            print(\"Given list : \", a)\n",
    "            x = a.index(24)\n",
    "            print(\"\\nIndex of the element is : \", x)\n",
    "        except Exception as e:\n",
    "            print(e)\n",
    "        \n",
    "    index_of_the_list(list1)\n",
    "except Exception as e:\n",
    "    print(e)"
   ]
  },
  {
   "cell_type": "markdown",
   "id": "bbecd612",
   "metadata": {},
   "source": [
    "# 7. insert() :"
   ]
  },
  {
   "cell_type": "markdown",
   "id": "b8a89467",
   "metadata": {},
   "source": [
    " This method insert an element to specified index to the list"
   ]
  },
  {
   "cell_type": "code",
   "execution_count": 45,
   "id": "ed78dc81",
   "metadata": {},
   "outputs": [
    {
     "name": "stdout",
     "output_type": "stream",
     "text": [
      "Given list :  ['Hello', 24, 'Pune', 'Python', 234.56, 'Hello', 24]\n",
      "\n",
      "List after insert element :  ['Hello', 24, 85, 'Pune', 'Python', 234.56, 'Hello', 24]\n"
     ]
    }
   ],
   "source": [
    "try:\n",
    "    list1 = [\"Hello\", 24, \"Pune\", \"Python\", 234.56, \"Hello\", 24]\n",
    "    def insert_element_in_the_list(a : list, index : int, element : any):\n",
    "        \"This function insert element to the list in specified position\"\n",
    "        try:\n",
    "            print(\"Given list : \", a)\n",
    "            a.insert(index, element)\n",
    "            print(\"\\nList after insert element : \", a)\n",
    "        except Exception as e:\n",
    "            print(e)\n",
    "        \n",
    "    insert_element_in_the_list(list1, 2, 85)\n",
    "except Exception as e:\n",
    "    print(e)"
   ]
  },
  {
   "cell_type": "markdown",
   "id": "ff23eeac",
   "metadata": {},
   "source": [
    "# 8. pop(): "
   ]
  },
  {
   "cell_type": "markdown",
   "id": "1ce39a84",
   "metadata": {},
   "source": [
    "This method bydefault remove last element. "
   ]
  },
  {
   "cell_type": "code",
   "execution_count": 46,
   "id": "76db5ade",
   "metadata": {},
   "outputs": [
    {
     "name": "stdout",
     "output_type": "stream",
     "text": [
      "Given list :  ['Hello', 24, 'Pune', 'Python', 234.56, 'Hello', 24]\n",
      "\n",
      "Removed element :  24\n",
      "\n",
      "List after removing element :  ['Hello', 24, 'Pune', 'Python', 234.56, 'Hello']\n"
     ]
    }
   ],
   "source": [
    "try:\n",
    "    list1 = [\"Hello\", 24, \"Pune\", \"Python\", 234.56, \"Hello\", 24]\n",
    "    def remove_element_from_the_list(a : list):\n",
    "        \"This function remove last element from the list\"\n",
    "        try:\n",
    "            print(\"Given list : \", a)\n",
    "            x = a.pop()\n",
    "            print(\"\\nRemoved element : \", x)\n",
    "            print(\"\\nList after removing element : \", a)\n",
    "        except Exception as e:\n",
    "            print(e)\n",
    "        \n",
    "    remove_element_from_the_list(list1)\n",
    "except Exception as e:\n",
    "    print(e)"
   ]
  },
  {
   "cell_type": "markdown",
   "id": "dd7a9680",
   "metadata": {},
   "source": [
    "# 9. remove():"
   ]
  },
  {
   "cell_type": "markdown",
   "id": "3dc80238",
   "metadata": {},
   "source": [
    "If we want remeove specific element then we have to provide that element from the list"
   ]
  },
  {
   "cell_type": "code",
   "execution_count": 48,
   "id": "23f99282",
   "metadata": {},
   "outputs": [
    {
     "name": "stdout",
     "output_type": "stream",
     "text": [
      "Given list :  ['Hello', 24, 'Pune', 'Python', 234.56, 'Hello', 24]\n",
      "\n",
      "List after removing element :  [24, 'Pune', 'Python', 234.56, 'Hello', 24]\n"
     ]
    }
   ],
   "source": [
    "try:\n",
    "    list1 = [\"Hello\", 24, \"Pune\", \"Python\", 234.56, \"Hello\", 24]\n",
    "    def remove_specified_element(a : list, element : any):\n",
    "        \"This function remove element from the list\"\n",
    "        try:\n",
    "            print(\"Given list : \", a)\n",
    "            list1.remove(element)\n",
    "            print(\"\\nList after removing element : \", a)\n",
    "        except Exception as e:\n",
    "            print(e)\n",
    "        \n",
    "    remove_specified_element(list1, \"Hello\")\n",
    "except Exception as e:\n",
    "    print(e)"
   ]
  },
  {
   "cell_type": "markdown",
   "id": "6e1bff79",
   "metadata": {},
   "source": [
    "# 10. reverse():"
   ]
  },
  {
   "cell_type": "markdown",
   "id": "4dd42962",
   "metadata": {},
   "source": [
    "This method reverse the order of the list"
   ]
  },
  {
   "cell_type": "code",
   "execution_count": 49,
   "id": "5b22b1ab",
   "metadata": {},
   "outputs": [
    {
     "name": "stdout",
     "output_type": "stream",
     "text": [
      "Given list :  ['Hello', 24, 'Pune', 'Python', 234.56, 'Hello', 24]\n",
      "\n",
      "Reverse list :  [24, 'Hello', 234.56, 'Python', 'Pune', 24, 'Hello']\n"
     ]
    }
   ],
   "source": [
    "try:\n",
    "    list1 = [\"Hello\", 24, \"Pune\", \"Python\", 234.56, \"Hello\", 24]\n",
    "    def reverse_list(a : list):\n",
    "        \"This function reverse the order of the list\"\n",
    "        try:\n",
    "            print(\"Given list : \", a)\n",
    "            a.reverse()\n",
    "            print(\"\\nReverse list : \", a)\n",
    "        except Exception as e:\n",
    "            print(e)\n",
    "        \n",
    "    reverse_list(list1)\n",
    "except Exception as e:\n",
    "    print(e)"
   ]
  },
  {
   "cell_type": "markdown",
   "id": "031bca29",
   "metadata": {},
   "source": [
    "# 11. sort():"
   ]
  },
  {
   "cell_type": "markdown",
   "id": "bd9c6bf8",
   "metadata": {},
   "source": [
    "This method sort the element of the list in ascending and descending order."
   ]
  },
  {
   "cell_type": "code",
   "execution_count": 50,
   "id": "2aa2ff25",
   "metadata": {},
   "outputs": [
    {
     "name": "stdout",
     "output_type": "stream",
     "text": [
      "Given list :  ['Hello', 'World', 'Good', 'Morning']\n",
      "\n",
      "Sorted list :  ['Good', 'Hello', 'Morning', 'World']\n"
     ]
    }
   ],
   "source": [
    "try:\n",
    "    list1 = [\"Hello\", \"World\", \"Good\", \"Morning\"]\n",
    "    def sorting_of_list(a : list):\n",
    "        \"This function reverse the order of the list\"\n",
    "        try:\n",
    "            print(\"Given list : \", a)\n",
    "            a.sort()\n",
    "            print(\"\\nSorted list : \", a)\n",
    "        except Exception as e:\n",
    "            print(e)\n",
    "        \n",
    "    sorting_of_list(list1)\n",
    "except Exception as e:\n",
    "    print(e)"
   ]
  },
  {
   "cell_type": "markdown",
   "id": "e00187db",
   "metadata": {},
   "source": [
    "# 12. max():"
   ]
  },
  {
   "cell_type": "markdown",
   "id": "969c492f",
   "metadata": {},
   "source": [
    "This method calculate the maximum of all the elements of List"
   ]
  },
  {
   "cell_type": "code",
   "execution_count": 52,
   "id": "30f1e94c",
   "metadata": {},
   "outputs": [
    {
     "name": "stdout",
     "output_type": "stream",
     "text": [
      "Given list :  ['Hello', 'World', 'Good', 'Morning']\n",
      "\n",
      "Maximum element of the list :  World\n"
     ]
    }
   ],
   "source": [
    "try:\n",
    "    list1 = [\"Hello\", \"World\", \"Good\", \"Morning\"]\n",
    "    def maximum_of_list(a : list):\n",
    "        \"This return the maximum of the list\"\n",
    "        try:\n",
    "            print(\"Given list : \", a)\n",
    "            x = max(a)\n",
    "            print(\"\\nMaximum element of the list : \", x)\n",
    "        except Exception as e:\n",
    "            print(e)\n",
    "        \n",
    "    maximum_of_list(list1)\n",
    "except Exception as e:\n",
    "    print(e)"
   ]
  },
  {
   "cell_type": "markdown",
   "id": "31127459",
   "metadata": {},
   "source": [
    "# 13. min():"
   ]
  },
  {
   "cell_type": "markdown",
   "id": "ba13d462",
   "metadata": {},
   "source": [
    "This method calculate the minimum of all the elements of List"
   ]
  },
  {
   "cell_type": "code",
   "execution_count": 53,
   "id": "f2b4c48f",
   "metadata": {},
   "outputs": [
    {
     "name": "stdout",
     "output_type": "stream",
     "text": [
      "Given list :  ['Hello', 'World', 'Good', 'Morning']\n",
      "\n",
      "Minimum element of the list :  Good\n"
     ]
    }
   ],
   "source": [
    "try:\n",
    "    list1 = [\"Hello\", \"World\", \"Good\", \"Morning\"]\n",
    "    def minimum_of_list(a : list):\n",
    "        \"This function return the minimum of the list\"\n",
    "        try:\n",
    "            print(\"Given list : \", a)\n",
    "            x = min(a)\n",
    "            print(\"\\nMinimum element of the list : \", x)\n",
    "        except Exception as e:\n",
    "            print(e)\n",
    "        \n",
    "    minimum_of_list(list1)\n",
    "except Exception as e:\n",
    "    print(e)"
   ]
  },
  {
   "cell_type": "markdown",
   "id": "4271b360",
   "metadata": {},
   "source": [
    "# 14. del"
   ]
  },
  {
   "cell_type": "markdown",
   "id": "d8b52452",
   "metadata": {},
   "source": [
    "This keyword delete the one or more element. Also delete entire list also."
   ]
  },
  {
   "cell_type": "code",
   "execution_count": 58,
   "id": "892daa93",
   "metadata": {},
   "outputs": [
    {
     "name": "stdout",
     "output_type": "stream",
     "text": [
      "Given list :  ['Hello', 'World', 'Good', 'Morning']\n",
      "\n",
      "List after deletion :  ['Hello', 'Good', 'Morning']\n"
     ]
    }
   ],
   "source": [
    "try:\n",
    "    list1 = [\"Hello\", \"World\", \"Good\", \"Morning\"]\n",
    "    def delete_element_of_list(a : list):\n",
    "        \"This function delete the specified item from list\"\n",
    "        try:\n",
    "            print(\"Given list : \", a)\n",
    "            del a[1]\n",
    "            print(\"\\nList after deletion : \", a)\n",
    "        except Exception as e:\n",
    "            print(e)\n",
    "        \n",
    "    delete_element_of_list(list1)\n",
    "except Exception as e:\n",
    "    print(e)"
   ]
  },
  {
   "cell_type": "markdown",
   "id": "9565a5ed",
   "metadata": {},
   "source": [
    "# 15. len()"
   ]
  },
  {
   "cell_type": "markdown",
   "id": "ea54f09c",
   "metadata": {},
   "source": [
    "This method return the length of list."
   ]
  },
  {
   "cell_type": "code",
   "execution_count": 56,
   "id": "f51fa4e4",
   "metadata": {},
   "outputs": [
    {
     "name": "stdout",
     "output_type": "stream",
     "text": [
      "Given list :  ['Hello', 'World', 'Good', 'Morning']\n",
      "\n",
      "Length of the list is :  4\n"
     ]
    }
   ],
   "source": [
    "try:\n",
    "    list1 = [\"Hello\", \"World\", \"Good\", \"Morning\"]\n",
    "    def length_of_list(a: list):\n",
    "        \"This function return the length of list\"\n",
    "        try:\n",
    "            print(\"Given list : \", a)\n",
    "            x = len(a)\n",
    "            print(\"\\nLength of the list is : \", x)\n",
    "        except Exception as e:\n",
    "            print(e)\n",
    "        \n",
    "    length_of_list(list1)\n",
    "except Exception as e:\n",
    "    print(e)"
   ]
  },
  {
   "cell_type": "markdown",
   "id": "c966d633",
   "metadata": {},
   "source": [
    "# 16. type()"
   ]
  },
  {
   "cell_type": "markdown",
   "id": "92617018",
   "metadata": {},
   "source": [
    "This method return the type of element"
   ]
  },
  {
   "cell_type": "code",
   "execution_count": 57,
   "id": "462102e5",
   "metadata": {},
   "outputs": [
    {
     "name": "stdout",
     "output_type": "stream",
     "text": [
      "Given list :  ['Hello', 'World', 'Good', 'Morning']\n",
      "\n",
      "Type of the list is :  <class 'list'>\n"
     ]
    }
   ],
   "source": [
    "try:\n",
    "    list1 = [\"Hello\", \"World\", \"Good\", \"Morning\"]\n",
    "    def type_of_element(a : list):\n",
    "        \"This function delete the specified item from list\"\n",
    "        try:\n",
    "            print(\"Given list : \", a)\n",
    "            x = type(a)\n",
    "            print(\"\\nType of the list is : \", x)\n",
    "        except Exception as e:\n",
    "            print(e)\n",
    "        \n",
    "    type_of_element(list1)\n",
    "except Exception as e:\n",
    "    print(e)"
   ]
  }
 ],
 "metadata": {
  "kernelspec": {
   "display_name": "Python 3 (ipykernel)",
   "language": "python",
   "name": "python3"
  },
  "language_info": {
   "codemirror_mode": {
    "name": "ipython",
    "version": 3
   },
   "file_extension": ".py",
   "mimetype": "text/x-python",
   "name": "python",
   "nbconvert_exporter": "python",
   "pygments_lexer": "ipython3",
   "version": "3.9.12"
  }
 },
 "nbformat": 4,
 "nbformat_minor": 5
}
