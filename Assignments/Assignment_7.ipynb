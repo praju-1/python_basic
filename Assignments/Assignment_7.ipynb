{
 "cells": [
  {
   "cell_type": "code",
   "execution_count": null,
   "id": "b05ea53e",
   "metadata": {},
   "outputs": [],
   "source": [
    "1. Write a Python Program to find sum of array?\n",
    "2. Write a Python Program to find largest element in an array?\n",
    "3. Write a Python Program for array rotation?\n",
    "4. Write a Python Program to Split the array and add the first part to the end?\n",
    "5. Write a Python Program to check if given array is Monotonic?"
   ]
  },
  {
   "cell_type": "markdown",
   "id": "63a107c6",
   "metadata": {},
   "source": [
    "# 1. Write a Python Program to find sum of array?"
   ]
  },
  {
   "cell_type": "code",
   "execution_count": 7,
   "id": "7761dbb5",
   "metadata": {},
   "outputs": [
    {
     "name": "stdout",
     "output_type": "stream",
     "text": [
      "Sum of array is :  40\n"
     ]
    }
   ],
   "source": [
    "try:\n",
    "    array = [12, 3, 4, 15, 6]\n",
    "    def array_sum(arr):\n",
    "        \"This function will return sum of given array\"\n",
    "        try:\n",
    "            sum = 0\n",
    "            for i in arr:\n",
    "                sum = sum + i\n",
    "\n",
    "            return(sum)\n",
    "        except Exception as e:\n",
    "            print(e)\n",
    "        \n",
    "    print(\"Sum of array is : \", array_sum(array))\n",
    "    \n",
    "except Exception as e:\n",
    "    print(e)"
   ]
  },
  {
   "cell_type": "markdown",
   "id": "a6c4959f",
   "metadata": {},
   "source": [
    "# 2. Write a Python Program to find largest element in an array?"
   ]
  },
  {
   "cell_type": "code",
   "execution_count": 9,
   "id": "58dd7d60",
   "metadata": {},
   "outputs": [
    {
     "name": "stdout",
     "output_type": "stream",
     "text": [
      "Largest element present in given array: 75\n"
     ]
    }
   ],
   "source": [
    "try:\n",
    "    arr = [25, 11, 7, 75, 56]\n",
    "    def max_of_array(array):\n",
    "        \"This function will return largest number from given array\"\n",
    "        try:\n",
    "            #Initialize max with first element of array.    \n",
    "            max = arr[0]    \n",
    "\n",
    "            #Loop through the array    \n",
    "            for i in range(0, len(arr)):    \n",
    "                #Compare elements of array with max    \n",
    "                if(arr[i] > max):    \n",
    "                    max = arr[i]   \n",
    "\n",
    "            print(\"Largest element present in given array: \" + str(max))\n",
    "            \n",
    "        except Exception as e:\n",
    "            print(e)\n",
    "            \n",
    "    max_of_array(arr)\n",
    "    \n",
    "except Exception as e:\n",
    "    print(e)"
   ]
  },
  {
   "cell_type": "markdown",
   "id": "1f8ed72d",
   "metadata": {},
   "source": [
    "# 3. Write a Python Program for array rotation?"
   ]
  },
  {
   "cell_type": "code",
   "execution_count": 2,
   "id": "6b0eec71",
   "metadata": {},
   "outputs": [
    {
     "name": "stdout",
     "output_type": "stream",
     "text": [
      " Original array is :  [1, 2, 3, 4, 5, 6, 7]\n",
      " Array after left rotation is:  [3, 4, 5, 6, 7, 1, 2]\n"
     ]
    }
   ],
   "source": [
    "try:\n",
    "    def rotated_array(arr, n, d):\n",
    "        \"This function will return rotated array\"\n",
    "        temp = []\n",
    "        i = 0\n",
    "        while (i < d):\n",
    "            temp.append(arr[i])\n",
    "            i = i + 1\n",
    "        i = 0\n",
    "        \"\"\" loop for rotation differnce is less than n\"\"\"\n",
    "        while (d < n):\n",
    "            arr[i] = arr[d]\n",
    "            i = i + 1\n",
    "            d = d + 1\n",
    "        arr[:] = arr[: i] + temp\n",
    "        return arr\n",
    "\n",
    "\n",
    "    arr = [1, 2, 3, 4, 5, 6, 7]\n",
    "    print(\" Original array is : \", arr)\n",
    "    print(\" Array after left rotation is: \", end=' ')\n",
    "    print(rotated_array(arr, len(arr), 2))  \n",
    "except Exception as e:\n",
    "    print(e)"
   ]
  },
  {
   "cell_type": "code",
   "execution_count": null,
   "id": "e7a5cce5",
   "metadata": {},
   "outputs": [],
   "source": [
    "4. Write a Python Program to Split the array and add the first part to the end?"
   ]
  },
  {
   "cell_type": "code",
   "execution_count": 12,
   "id": "7a8c3a61",
   "metadata": {},
   "outputs": [
    {
     "name": "stdout",
     "output_type": "stream",
     "text": [
      "15 16 50 36 15 40 "
     ]
    }
   ],
   "source": [
    "def SplitArray(arr, n, k):\n",
    "    for i in range(0, k):\n",
    "        x = arr[0]\n",
    "        for j in range(0, n-1):\n",
    "            arr[j] = arr[j + 1]\n",
    "    \n",
    "        arr[n-1] = x\n",
    "arr = [15, 40, 15, 16, 50, 36]\n",
    "n = len(arr)\n",
    "position = 2\n",
    "SplitArray(arr, n, position)\n",
    "\n",
    "for i in range(0, n):\n",
    "    print(arr[i], end = ' ')"
   ]
  },
  {
   "cell_type": "code",
   "execution_count": null,
   "id": "11345102",
   "metadata": {},
   "outputs": [],
   "source": [
    "5. Write a Python Program to check if given array is Monotonic?"
   ]
  },
  {
   "cell_type": "code",
   "execution_count": null,
   "id": "2bd92d50",
   "metadata": {},
   "outputs": [],
   "source": []
  }
 ],
 "metadata": {
  "kernelspec": {
   "display_name": "Python 3 (ipykernel)",
   "language": "python",
   "name": "python3"
  },
  "language_info": {
   "codemirror_mode": {
    "name": "ipython",
    "version": 3
   },
   "file_extension": ".py",
   "mimetype": "text/x-python",
   "name": "python",
   "nbconvert_exporter": "python",
   "pygments_lexer": "ipython3",
   "version": "3.9.13"
  }
 },
 "nbformat": 4,
 "nbformat_minor": 5
}
