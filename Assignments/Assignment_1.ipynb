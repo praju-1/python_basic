{
 "cells": [
  {
   "cell_type": "markdown",
   "id": "6c9ee962",
   "metadata": {},
   "source": [
    "1. Write a Python program to print \"Hello Python\"?\n",
    "2. Write a Python program to do arithmetical operations addition and division.?\n",
    "3. Write a Python program to find the area of a triangle?\n",
    "4. Write a Python program to swap two variables?\n",
    "5. Write a Python program to generate a random number?\n"
   ]
  },
  {
   "cell_type": "markdown",
   "id": "78159239",
   "metadata": {},
   "source": [
    "# 1. Write a Python program to print \"Hello Python\"?"
   ]
  },
  {
   "cell_type": "code",
   "execution_count": 1,
   "id": "88319e3f",
   "metadata": {},
   "outputs": [
    {
     "name": "stdout",
     "output_type": "stream",
     "text": [
      "Hello Python\n"
     ]
    }
   ],
   "source": [
    "try:\n",
    "    print(\"Hello Python\")\n",
    "except Exception as e:\n",
    "    print(e)"
   ]
  },
  {
   "cell_type": "markdown",
   "id": "cad7ea01",
   "metadata": {},
   "source": [
    "# 2. Write a Python program to do arithmetical operations addition and division.?"
   ]
  },
  {
   "cell_type": "code",
   "execution_count": 2,
   "id": "d3655fd1",
   "metadata": {},
   "outputs": [
    {
     "name": "stdout",
     "output_type": "stream",
     "text": [
      "Enter first value : 12\n",
      "Enter second value : 4\n",
      "Addition to two numbers is :  16\n",
      "Division of two numbers is :  3.0\n"
     ]
    }
   ],
   "source": [
    "try:\n",
    "    a = int(input(\"Enter first value : \"))\n",
    "    b = int(input(\"Enter second value : \"))\n",
    "    def add(num1, num2):\n",
    "        \"This function will add two numbers\"\n",
    "        try:\n",
    "            add = a + b\n",
    "            print(\"Addition to two numbers is : \", add)\n",
    "        except Exception as e:\n",
    "            print(e)   \n",
    "    add(a,b)\n",
    "    \n",
    "    def division(num1, num2):\n",
    "        \"This function will perform division\"\n",
    "        try:\n",
    "            division = a/b\n",
    "            print(\"Division of two numbers is : \", division)\n",
    "        except Exception as e:\n",
    "            print(e)\n",
    "    division(a, b)\n",
    "except Exception as e:\n",
    "    print(e)"
   ]
  },
  {
   "cell_type": "markdown",
   "id": "635a29c9",
   "metadata": {},
   "source": [
    "# 3. Write a Python program to find the area of a triangle?"
   ]
  },
  {
   "cell_type": "code",
   "execution_count": 3,
   "id": "7db9114e",
   "metadata": {},
   "outputs": [
    {
     "name": "stdout",
     "output_type": "stream",
     "text": [
      "Enter Base value of triangle : 12\n",
      "Enter Height of triangle : 5\n",
      "Area of triangle is :  30.0\n"
     ]
    }
   ],
   "source": [
    "try:\n",
    "    Base = int(input(\"Enter Base value of triangle : \"))\n",
    "    Height = int(input(\"Enter Height of triangle : \"))\n",
    "\n",
    "    def area_tri(value1 : int, value2 : int):\n",
    "        \"This function will calculate area of triangle\"\n",
    "        try:\n",
    "\n",
    "            Area = 1/2 * value1 * value2\n",
    "            print(\"Area of triangle is : \", Area)\n",
    "            \n",
    "        except Exception as e:\n",
    "            print(e)\n",
    "    area_tri(Base, Height)\n",
    "except Exception as e:\n",
    "    print(e)"
   ]
  },
  {
   "cell_type": "markdown",
   "id": "365fadcc",
   "metadata": {},
   "source": [
    "# 4. Write a Python program to swap two variables?"
   ]
  },
  {
   "cell_type": "code",
   "execution_count": 11,
   "id": "324a4b2f",
   "metadata": {},
   "outputs": [
    {
     "name": "stdout",
     "output_type": "stream",
     "text": [
      "Numbers before swapping :  a =  20 b =  30\n",
      "Numbers After swapping :  a =  30 b =  20\n"
     ]
    }
   ],
   "source": [
    "a = 20\n",
    "b = 30\n",
    "print(\"Numbers before swapping : \", \"a = \",a , \"b = \", b)\n",
    "#creating temp variable for swappping\n",
    "temp = a\n",
    "a = b\n",
    "b = temp\n",
    "print(\"Numbers After swapping : \", \"a = \",a , \"b = \", b)"
   ]
  },
  {
   "cell_type": "markdown",
   "id": "1e190d2f",
   "metadata": {},
   "source": [
    "# 5. Write a Python program to generate a random number?"
   ]
  },
  {
   "cell_type": "code",
   "execution_count": 4,
   "id": "c97f621a",
   "metadata": {},
   "outputs": [
    {
     "name": "stdout",
     "output_type": "stream",
     "text": [
      "Random number is :  3\n"
     ]
    }
   ],
   "source": [
    "try:\n",
    "    #importing random module\n",
    "    import random\n",
    "    a = random.randint(0, 10)\n",
    "    print(\"Random number is : \",a)\n",
    "\n",
    "except Exception as e:\n",
    "    print(e)"
   ]
  }
 ],
 "metadata": {
  "kernelspec": {
   "display_name": "Python 3 (ipykernel)",
   "language": "python",
   "name": "python3"
  },
  "language_info": {
   "codemirror_mode": {
    "name": "ipython",
    "version": 3
   },
   "file_extension": ".py",
   "mimetype": "text/x-python",
   "name": "python",
   "nbconvert_exporter": "python",
   "pygments_lexer": "ipython3",
   "version": "3.9.12"
  }
 },
 "nbformat": 4,
 "nbformat_minor": 5
}
