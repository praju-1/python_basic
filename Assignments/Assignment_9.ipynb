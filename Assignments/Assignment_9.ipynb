{
 "cells": [
  {
   "cell_type": "markdown",
   "id": "ee7b47c6",
   "metadata": {},
   "source": [
    "1. Write a Python program to check if the given number is a Disarium Number?\n",
    "2. Write a Python program to print all disarium numbers between 1 to 100?\n",
    "3. Write a Python program to check if the given number is Happy Number?\n",
    "4. Write a Python program to print all happy numbers between 1 and 100?\n",
    "5. Write a Python program to determine whether the given number is a Harshad Number?\n",
    "6. Write a Python program to print all pronic numbers between 1 and 100?"
   ]
  },
  {
   "cell_type": "code",
   "execution_count": null,
   "id": "7bf0878d",
   "metadata": {},
   "outputs": [],
   "source": [
    "1. Write a Python program to check if the given number is a Disarium Number?"
   ]
  },
  {
   "cell_type": "markdown",
   "id": "cf6a37ed",
   "metadata": {},
   "source": [
    " Disarium Number - A number is called Disarium if sum of its digits powered with their respective positions is equal to the number itself."
   ]
  },
  {
   "cell_type": "code",
   "execution_count": null,
   "id": "47e80e71",
   "metadata": {},
   "outputs": [],
   "source": []
  },
  {
   "cell_type": "code",
   "execution_count": null,
   "id": "f1dac013",
   "metadata": {},
   "outputs": [],
   "source": []
  },
  {
   "cell_type": "code",
   "execution_count": null,
   "id": "b54d4812",
   "metadata": {},
   "outputs": [],
   "source": [
    "2. Write a Python program to print all disarium numbers between 1 to 100?"
   ]
  },
  {
   "cell_type": "code",
   "execution_count": null,
   "id": "9acae138",
   "metadata": {},
   "outputs": [],
   "source": []
  },
  {
   "cell_type": "code",
   "execution_count": null,
   "id": "78993160",
   "metadata": {},
   "outputs": [],
   "source": []
  },
  {
   "cell_type": "code",
   "execution_count": null,
   "id": "dc9db9b0",
   "metadata": {},
   "outputs": [],
   "source": [
    "3. Write a Python program to check if the given number is Happy Number?"
   ]
  },
  {
   "cell_type": "markdown",
   "id": "a43b8c6c",
   "metadata": {},
   "source": [
    "Happy Number - a happy number is a number which eventually reaches 1 when replaced by the sum of the square of each digit."
   ]
  },
  {
   "cell_type": "code",
   "execution_count": 1,
   "id": "f3540cb9",
   "metadata": {},
   "outputs": [
    {
     "name": "stdout",
     "output_type": "stream",
     "text": [
      "Enter a number: 34\n",
      "34  is an Unhappy Number!!!\n"
     ]
    }
   ],
   "source": [
    "def isHappyNumber(n):    \n",
    "    digit = sum = 0    \n",
    "    while(n > 0):    \n",
    "        digit = n % 10 \n",
    "        sum = sum + (digit * digit)    \n",
    "        n = n // 10   \n",
    "    return sum    \n",
    "\n",
    "if __name__ == \"__main__\":\n",
    "    num = int(input(\"Enter a number: \"))    \n",
    "    result = num    \n",
    "    \"\"\" If the inputted number is 1 or 4 we don’t need to use isHappyNumber().\n",
    "    because 1 is already happy number and if it is 4 then it is going to end in an endless cycle\"\"\" \n",
    "    while(result != 1 and result != 4):\n",
    "        result = isHappyNumber(result)   \n",
    "     \n",
    "    if(result == 1):    \n",
    "        print(num, \" is a Happy Number!!!\")   \n",
    "    else:    \n",
    "        print(num, \" is an Unhappy Number!!!\")\n"
   ]
  },
  {
   "cell_type": "code",
   "execution_count": null,
   "id": "147f6b92",
   "metadata": {},
   "outputs": [],
   "source": [
    "4. Write a Python program to print all happy numbers between 1 and 100?"
   ]
  },
  {
   "cell_type": "code",
   "execution_count": null,
   "id": "965c05ee",
   "metadata": {},
   "outputs": [],
   "source": []
  },
  {
   "cell_type": "code",
   "execution_count": null,
   "id": "56102852",
   "metadata": {},
   "outputs": [],
   "source": [
    "5. Write a Python program to determine whether the given number is a Harshad Number?"
   ]
  },
  {
   "cell_type": "markdown",
   "id": "c34b8fd3",
   "metadata": {},
   "source": [
    "Harshad Number - In mathematics, a harshad number (or Niven number) in a given number base is an integer that is divisible by the sum of its digits when written in that base"
   ]
  },
  {
   "cell_type": "code",
   "execution_count": null,
   "id": "f0f01db7",
   "metadata": {},
   "outputs": [],
   "source": []
  },
  {
   "cell_type": "code",
   "execution_count": null,
   "id": "cb228777",
   "metadata": {},
   "outputs": [],
   "source": [
    "6. Write a Python program to print all pronic numbers between 1 and 100?"
   ]
  },
  {
   "cell_type": "markdown",
   "id": "d131d4b2",
   "metadata": {},
   "source": [
    "pronic Number - A pronic number is a number that is the product of two consecutive integers, that is, a number of the form. "
   ]
  },
  {
   "cell_type": "code",
   "execution_count": null,
   "id": "c4998f3c",
   "metadata": {},
   "outputs": [],
   "source": []
  }
 ],
 "metadata": {
  "kernelspec": {
   "display_name": "Python 3 (ipykernel)",
   "language": "python",
   "name": "python3"
  },
  "language_info": {
   "codemirror_mode": {
    "name": "ipython",
    "version": 3
   },
   "file_extension": ".py",
   "mimetype": "text/x-python",
   "name": "python",
   "nbconvert_exporter": "python",
   "pygments_lexer": "ipython3",
   "version": "3.9.13"
  }
 },
 "nbformat": 4,
 "nbformat_minor": 5
}
