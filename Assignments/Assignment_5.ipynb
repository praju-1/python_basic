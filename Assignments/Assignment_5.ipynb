{
 "cells": [
  {
   "cell_type": "raw",
   "id": "ed8b0b3e",
   "metadata": {},
   "source": [
    "1. Write a Python Program to Find LCM?\n",
    "2. Write a Python Program to Find HCF?\n",
    "3. Write a Python Program to Convert Decimal to Binary, Octal and Hexadecimal?\n",
    "4. Write a Python Program To Find ASCII value of a character?\n",
    "5. Write a Python Program to Make a Simple Calculator with 4 basic mathematical operations?"
   ]
  },
  {
   "cell_type": "markdown",
   "id": "6f1be8b1",
   "metadata": {},
   "source": [
    "# 1. Write a Python Program to Find LCM?"
   ]
  },
  {
   "cell_type": "code",
   "execution_count": 3,
   "id": "fcbb5fe9",
   "metadata": {},
   "outputs": [
    {
     "name": "stdout",
     "output_type": "stream",
     "text": [
      "Enter first number : 54\n",
      "Enter second number : 34\n",
      "The L.C.M. of two numbers is 918\n"
     ]
    }
   ],
   "source": [
    "try:\n",
    "    num1 = int(input(\"Enter first number : \"))\n",
    "    num2 = int(input(\"Enter second number : \"))\n",
    "\n",
    "    def find_lcm(x, y):\n",
    "        \"This function will find LCM of two numbers\"\n",
    "        try:\n",
    "            # choose the greater number\n",
    "            if x > y:\n",
    "                greater = x\n",
    "            else:\n",
    "                greater = y\n",
    "\n",
    "            while(True):\n",
    "                if((greater % x == 0) and (greater % y == 0)):\n",
    "                    lcm = greater\n",
    "                    break\n",
    "                greater += 1\n",
    "\n",
    "            return lcm\n",
    "        except Exception as e:\n",
    "            print(e)\n",
    "    print(\"The L.C.M. of two numbers is\", find_lcm(num1, num2))\n",
    "except Exception as e:\n",
    "    print(e)"
   ]
  },
  {
   "cell_type": "markdown",
   "id": "67dc3903",
   "metadata": {},
   "source": [
    "# 2. Write a Python Program to Find HCF?"
   ]
  },
  {
   "cell_type": "code",
   "execution_count": 4,
   "id": "020eb303",
   "metadata": {},
   "outputs": [
    {
     "name": "stdout",
     "output_type": "stream",
     "text": [
      "Enter first number : 54\n",
      "Enter second number : 24\n",
      "The H.C.F. is 6\n"
     ]
    }
   ],
   "source": [
    "try:\n",
    "    num1 = int(input(\"Enter first number : \"))\n",
    "    num2 = int(input(\"Enter second number : \"))\n",
    "    def find_hcf(x, y):\n",
    "        \"This function will return HCF of numbers\"\n",
    "        try:\n",
    "            #choose the smaller number\n",
    "            if x > y:\n",
    "                smaller = y\n",
    "            else:\n",
    "                smaller = x\n",
    "                \n",
    "            for i in range(1, smaller+1):\n",
    "                if((x % i == 0) and (y % i == 0)):\n",
    "                    hcf = i \n",
    "            return hcf\n",
    "\n",
    "        except Exception as e:\n",
    "            print(e)\n",
    "            \n",
    "    print(\"The H.C.F. of two numbers is\", find_hcf(num1, num2))\n",
    "    \n",
    "except Exception as e:\n",
    "    print(e)"
   ]
  },
  {
   "cell_type": "markdown",
   "id": "59fa1283",
   "metadata": {},
   "source": [
    "# 3. Write a Python Program to Convert Decimal to Binary, Octal and Hexadecimal?"
   ]
  },
  {
   "cell_type": "code",
   "execution_count": 7,
   "id": "25c61171",
   "metadata": {},
   "outputs": [
    {
     "name": "stdout",
     "output_type": "stream",
     "text": [
      "Enter any number to convert : 45\n",
      "The decimal value of 45 is:\n",
      "0b101101 in binary.\n",
      "0o55 in octal.\n",
      "0x2d in hexadecimal.\n"
     ]
    }
   ],
   "source": [
    "try:\n",
    "    num = int(input(\"Enter any number to convert : \"))\n",
    "    def convert_num(a):\n",
    "        \"This function will return different conversion of number\"\n",
    "        try:\n",
    "            print(\"The decimal value of\", a, \"is:\")\n",
    "            print(bin(a), \"in binary.\")\n",
    "            print(oct(a), \"in octal.\")\n",
    "            print(hex(a), \"in hexadecimal.\")\n",
    "            \n",
    "        except Exception as e:\n",
    "            print(e)\n",
    "            \n",
    "    convert_num(num)\n",
    "    \n",
    "except Exception as e:\n",
    "    print(e)"
   ]
  },
  {
   "cell_type": "markdown",
   "id": "36e0c7ac",
   "metadata": {},
   "source": [
    "# 4. Write a Python Program To Find ASCII value of a character?"
   ]
  },
  {
   "cell_type": "code",
   "execution_count": 9,
   "id": "b78c0556",
   "metadata": {},
   "outputs": [
    {
     "name": "stdout",
     "output_type": "stream",
     "text": [
      "Enter any character to get ascii value : a\n",
      "The ASCII value of 'a' is 97\n"
     ]
    }
   ],
   "source": [
    "try:\n",
    "    c = input(\"Enter any character to get ascii value : \")\n",
    "    def char_to_ascii(a):\n",
    "        \"This function return ASCII value of character\"\n",
    "        try:\n",
    "            result = ord(a)\n",
    "            print(\"The ASCII value of '\" + c + \"' is\", result)\n",
    "        except Exception as e:\n",
    "            print(e)\n",
    "            \n",
    "    char_to_ascii(c)\n",
    "    \n",
    "except Exception as e:\n",
    "    print(e)"
   ]
  },
  {
   "cell_type": "markdown",
   "id": "47c9efac",
   "metadata": {},
   "source": [
    "# 5. Write a Python Program to Make a Simple Calculator with 4 basic mathematical operations?"
   ]
  },
  {
   "cell_type": "code",
   "execution_count": 11,
   "id": "fc477490",
   "metadata": {},
   "outputs": [
    {
     "name": "stdout",
     "output_type": "stream",
     "text": [
      "Select operation.\n",
      "1.Add\n",
      "2.Subtract\n",
      "3.Multiply\n",
      "4.Divide\n",
      "Enter choice(1/2/3/4): 1\n",
      "Enter first number: 23\n",
      "Enter second number: 2\n",
      "Addition of  23.0 + 2.0 = 25.0\n",
      "Let's do next calculation? (yes/no): no\n"
     ]
    }
   ],
   "source": [
    "try:\n",
    "    # This function adds two numbers\n",
    "    def add(x, y):\n",
    "        return x + y\n",
    "\n",
    "    # This function subtracts two numbers\n",
    "    def subtract(x, y):\n",
    "        return x - y\n",
    "\n",
    "    # This function multiplies two numbers\n",
    "    def multiply(x, y):\n",
    "        return x * y\n",
    "\n",
    "    # This function divides two numbers\n",
    "    def divide(x, y):\n",
    "        return x / y\n",
    "\n",
    "\n",
    "    print(\"Select operation.\")\n",
    "    print(\"1.Add\")\n",
    "    print(\"2.Subtract\")\n",
    "    print(\"3.Multiply\")\n",
    "    print(\"4.Divide\")\n",
    "\n",
    "    while True:\n",
    "        # take input from the user\n",
    "        choice = input(\"Enter choice(1/2/3/4): \")\n",
    "\n",
    "        # check if choice is one of the four options\n",
    "        if choice in ('1', '2', '3', '4'):\n",
    "            try:\n",
    "                num1 = float(input(\"Enter first number: \"))\n",
    "                num2 = float(input(\"Enter second number: \"))\n",
    "            except ValueError:\n",
    "                print(\"Invalid input. Please enter a number.\")\n",
    "                continue\n",
    "\n",
    "            if choice == '1':\n",
    "                print(\"Addition of \", num1, \"+\", num2, \"=\", add(num1, num2))\n",
    "\n",
    "            elif choice == '2':\n",
    "                print(\"Substraction of \", num1, \"-\", num2, \"=\", subtract(num1, num2))\n",
    "\n",
    "            elif choice == '3':\n",
    "                print(\"Multiplication of \", num1, \"*\", num2, \"=\", multiply(num1, num2))\n",
    "\n",
    "            elif choice == '4':\n",
    "                print(\"Division of \", num1, \"/\", num2, \"=\", divide(num1, num2))\n",
    "\n",
    "            # check if user wants another calculation\n",
    "            # break the while loop if answer is no\n",
    "            next_calculation = input(\"Let's do next calculation? (yes/no): \")\n",
    "            if next_calculation == \"no\":\n",
    "                break\n",
    "        else:\n",
    "            print(\"Invalid Input\")\n",
    "except Exception as e:\n",
    "    print(e)"
   ]
  }
 ],
 "metadata": {
  "kernelspec": {
   "display_name": "Python 3 (ipykernel)",
   "language": "python",
   "name": "python3"
  },
  "language_info": {
   "codemirror_mode": {
    "name": "ipython",
    "version": 3
   },
   "file_extension": ".py",
   "mimetype": "text/x-python",
   "name": "python",
   "nbconvert_exporter": "python",
   "pygments_lexer": "ipython3",
   "version": "3.9.13"
  }
 },
 "nbformat": 4,
 "nbformat_minor": 5
}
