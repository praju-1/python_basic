{
 "cells": [
  {
   "cell_type": "raw",
   "id": "a333fa1c",
   "metadata": {},
   "source": [
    "1.Write a Python program to find sum of elements in list?\n",
    "2.Write a Python program to  Multiply all numbers in the list?\n",
    "3.Write a Python program to find smallest number in a list?\n",
    "4.Write a Python program to find largest number in a list?\n",
    "5.Write a Python program to find second largest number in a list?\n",
    "6.Write a Python program to find N largest elements from a list?\n",
    "7.Write a Python program to Remove empty List from List?\n",
    "8.Write a Python program to Cloning or Copying a list?\n",
    "9.Write a Python program to Count occurrences of an element in a list?"
   ]
  },
  {
   "cell_type": "markdown",
   "id": "d19c34f0",
   "metadata": {},
   "source": [
    "# 1.Write a Python program to find sum of elements in list?"
   ]
  },
  {
   "cell_type": "code",
   "execution_count": 4,
   "id": "9ae20875",
   "metadata": {},
   "outputs": [
    {
     "name": "stdout",
     "output_type": "stream",
     "text": [
      "Given list is :  [34, 23, 23, 56, 5, 3, 2, 4]\n",
      "Sum of elements from given list :  150\n"
     ]
    }
   ],
   "source": [
    "try:\n",
    "    l = [34, 23, 23, 56, 5, 3, 2, 4]\n",
    "    \n",
    "    def sum_ele(a : list):\n",
    "        \"This function will return sum of elements from given list\"\n",
    "        try:\n",
    "            print(\"Given list is : \", a)\n",
    "            sum = 0\n",
    "            for i in l:\n",
    "                sum = sum + i\n",
    "            print(\"Sum of elements from given list : \", sum)\n",
    "            \n",
    "        except Exception as e:\n",
    "            print(e)\n",
    "            \n",
    "    sum_ele(l)\n",
    "    \n",
    "except Exception as e:\n",
    "    print(e)"
   ]
  },
  {
   "cell_type": "markdown",
   "id": "ff55113b",
   "metadata": {},
   "source": [
    "# 2.Write a Python program to  Multiply all numbers in the list?"
   ]
  },
  {
   "cell_type": "code",
   "execution_count": 5,
   "id": "be7462aa",
   "metadata": {},
   "outputs": [
    {
     "name": "stdout",
     "output_type": "stream",
     "text": [
      "Multiplication of all number from list is :  362880\n"
     ]
    }
   ],
   "source": [
    "try:\n",
    "    l = [3, 2, 4, 5, 6, 7, 8, 9]\n",
    "    def multipy_list(a : list):\n",
    "        \"This function will return multiply of all number in the list\"\n",
    "        try:\n",
    "            result = 1\n",
    "            for i in range(0,len(a)):\n",
    "                result = result * a[i]\n",
    "            print(\"Multiplication of all number from list is : \", result)\n",
    "\n",
    "        except Exception as e:\n",
    "            print(e)\n",
    "            \n",
    "    multipy_list(l)\n",
    "    \n",
    "except Exception as e:\n",
    "    print(e)"
   ]
  },
  {
   "cell_type": "markdown",
   "id": "f2d122a2",
   "metadata": {},
   "source": [
    "# 3.Write a Python program to find smallest number in a list?"
   ]
  },
  {
   "cell_type": "code",
   "execution_count": null,
   "id": "804f4aa9",
   "metadata": {},
   "outputs": [],
   "source": [
    "try:\n",
    "        try:\n",
    "\n",
    "        except Exception as e:\n",
    "            print(e)\n",
    "except Exception as e:\n",
    "    print(e)"
   ]
  },
  {
   "cell_type": "code",
   "execution_count": null,
   "id": "7a2e7de0",
   "metadata": {},
   "outputs": [],
   "source": [
    "4.Write a Python program to find largest number in a list?"
   ]
  },
  {
   "cell_type": "code",
   "execution_count": null,
   "id": "b5b5cb22",
   "metadata": {},
   "outputs": [],
   "source": [
    "try:\n",
    "        try:\n",
    "\n",
    "        except Exception as e:\n",
    "            print(e)\n",
    "except Exception as e:\n",
    "    print(e)"
   ]
  },
  {
   "cell_type": "code",
   "execution_count": null,
   "id": "b6d1479a",
   "metadata": {},
   "outputs": [],
   "source": [
    "5.Write a Python program to find second largest number in a list?"
   ]
  },
  {
   "cell_type": "code",
   "execution_count": null,
   "id": "d5626c91",
   "metadata": {},
   "outputs": [],
   "source": [
    "try:\n",
    "        try:\n",
    "\n",
    "        except Exception as e:\n",
    "            print(e)\n",
    "            \n",
    "except Exception as e:\n",
    "    print(e)"
   ]
  },
  {
   "cell_type": "code",
   "execution_count": null,
   "id": "94e37a9f",
   "metadata": {},
   "outputs": [],
   "source": [
    "6.Write a Python program to find N largest elements from a list?"
   ]
  },
  {
   "cell_type": "code",
   "execution_count": null,
   "id": "60786ed1",
   "metadata": {},
   "outputs": [],
   "source": [
    "try:\n",
    "        try:\n",
    "\n",
    "        except Exception as e:\n",
    "            print(e)\n",
    "except Exception as e:\n",
    "    print(e)"
   ]
  },
  {
   "cell_type": "code",
   "execution_count": null,
   "id": "8257b675",
   "metadata": {},
   "outputs": [],
   "source": [
    "7.Write a Python program to Remove empty List from List?"
   ]
  },
  {
   "cell_type": "code",
   "execution_count": null,
   "id": "c9353aaf",
   "metadata": {},
   "outputs": [],
   "source": [
    "try:\n",
    "        try:\n",
    "\n",
    "        except Exception as e:\n",
    "            print(e)\n",
    "except Exception as e:\n",
    "    print(e)"
   ]
  },
  {
   "cell_type": "code",
   "execution_count": null,
   "id": "0e6de6ab",
   "metadata": {},
   "outputs": [],
   "source": [
    "8.Write a Python program to Cloning or Copying a list?"
   ]
  },
  {
   "cell_type": "code",
   "execution_count": null,
   "id": "ebc71ec5",
   "metadata": {},
   "outputs": [],
   "source": [
    "try:\n",
    "        try:\n",
    "\n",
    "        except Exception as e:\n",
    "            print(e)\n",
    "except Exception as e:\n",
    "    print(e)"
   ]
  },
  {
   "cell_type": "code",
   "execution_count": null,
   "id": "4df0179c",
   "metadata": {},
   "outputs": [],
   "source": [
    "9.Write a Python program to Count occurrences of an element in a list?"
   ]
  },
  {
   "cell_type": "code",
   "execution_count": null,
   "id": "7d828cd8",
   "metadata": {},
   "outputs": [],
   "source": [
    "try:\n",
    "        try:\n",
    "\n",
    "        except Exception as e:\n",
    "            print(e)\n",
    "except Exception as e:\n",
    "    print(e)"
   ]
  }
 ],
 "metadata": {
  "kernelspec": {
   "display_name": "Python 3 (ipykernel)",
   "language": "python",
   "name": "python3"
  },
  "language_info": {
   "codemirror_mode": {
    "name": "ipython",
    "version": 3
   },
   "file_extension": ".py",
   "mimetype": "text/x-python",
   "name": "python",
   "nbconvert_exporter": "python",
   "pygments_lexer": "ipython3",
   "version": "3.9.13"
  }
 },
 "nbformat": 4,
 "nbformat_minor": 5
}
