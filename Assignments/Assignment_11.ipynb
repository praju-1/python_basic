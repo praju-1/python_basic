{
 "cells": [
  {
   "cell_type": "markdown",
   "id": "6a83ba72",
   "metadata": {},
   "source": [
    "1. Write a Python program to find words which are greater than given length k?\n",
    "2. Write a Python program for removing i-th character from a string?\n",
    "3. Write a Python program to split and join a string?\n",
    "4. Write a Python to check if a given string is binary string or not?\n",
    "5. Write a Python program to find uncommon words from two Strings?\n",
    "6. Write a Python to find all duplicate characters in string?\n",
    "7. Write a Python Program to check if a string contains any special character?"
   ]
  },
  {
   "cell_type": "markdown",
   "id": "923c6594",
   "metadata": {},
   "source": [
    "# 1. Write a Python program to find words which are greater than given length k?"
   ]
  },
  {
   "cell_type": "code",
   "execution_count": null,
   "id": "1f8236dd",
   "metadata": {},
   "outputs": [],
   "source": [
    "try:\n",
    "\n",
    "    \n",
    "except exception as e:\n",
    "    print(e)"
   ]
  },
  {
   "cell_type": "code",
   "execution_count": null,
   "id": "d7a9fb63",
   "metadata": {},
   "outputs": [],
   "source": [
    "2. Write a Python program for removing i-th character from a string?"
   ]
  },
  {
   "cell_type": "code",
   "execution_count": null,
   "id": "ae8718e9",
   "metadata": {},
   "outputs": [],
   "source": [
    "try:\n",
    "    \n",
    "    \n",
    "except exception as e:\n",
    "    print(e)"
   ]
  },
  {
   "cell_type": "markdown",
   "id": "abc969ec",
   "metadata": {},
   "source": [
    "# 3. Write a Python program to split and join a string?"
   ]
  },
  {
   "cell_type": "code",
   "execution_count": 5,
   "id": "3a99cad3",
   "metadata": {},
   "outputs": [
    {
     "name": "stdout",
     "output_type": "stream",
     "text": [
      "Enter any string : good morning\n",
      "Given String is :  good morning\n",
      "String after splitting will be :  ['good', 'morning']\n",
      "String after joining will be :  g#o#o#d# #m#o#r#n#i#n#g\n"
     ]
    }
   ],
   "source": [
    "try:\n",
    "    string = input(\"Enter any string : \")\n",
    "    def split_join(a : str):\n",
    "        \"Above will split and join the string\"\n",
    "        try:\n",
    "            print(\"Given String is : \", a)\n",
    "            \n",
    "            #we first split the string\n",
    "            splited_string = a.split(\" \")\n",
    "            print(\"String after splitting will be : \", splited_string)\n",
    "            \n",
    "            #we join the string\n",
    "            #you join string with any symbol\n",
    "            joined_string = \"#\".join(a)\n",
    "            print(\"String after joining will be : \" , joined_string)\n",
    "        \n",
    "        except exception as e:\n",
    "            print(e)\n",
    "            \n",
    "    split_join(string)\n",
    "    \n",
    "except exception as e:\n",
    "    print(e)"
   ]
  },
  {
   "cell_type": "code",
   "execution_count": null,
   "id": "3cfa4991",
   "metadata": {},
   "outputs": [],
   "source": [
    "4. Write a Python to check if a given string is binary string or not?"
   ]
  },
  {
   "cell_type": "code",
   "execution_count": null,
   "id": "42927d2c",
   "metadata": {},
   "outputs": [],
   "source": [
    "try:\n",
    "\n",
    "    \n",
    "except exception as e:\n",
    "    print(e)"
   ]
  },
  {
   "cell_type": "code",
   "execution_count": null,
   "id": "bd7d3848",
   "metadata": {},
   "outputs": [],
   "source": [
    "5. Write a Python program to find uncommon words from two Strings?"
   ]
  },
  {
   "cell_type": "code",
   "execution_count": null,
   "id": "34e61625",
   "metadata": {},
   "outputs": [],
   "source": [
    "try:\n",
    "\n",
    "    \n",
    "except exception as e:\n",
    "    print(e)"
   ]
  },
  {
   "cell_type": "code",
   "execution_count": null,
   "id": "dc28c6cb",
   "metadata": {},
   "outputs": [],
   "source": [
    "6. Write a Python to find all duplicate characters in string?"
   ]
  },
  {
   "cell_type": "code",
   "execution_count": null,
   "id": "f218b142",
   "metadata": {},
   "outputs": [],
   "source": [
    "try:\n",
    "\n",
    "    \n",
    "except exception as e:\n",
    "    print(e)"
   ]
  },
  {
   "cell_type": "markdown",
   "id": "21e597a9",
   "metadata": {},
   "source": [
    "# 7. Write a Python Program to check if a string contains any special character?"
   ]
  },
  {
   "cell_type": "code",
   "execution_count": 5,
   "id": "2fe6cec0",
   "metadata": {},
   "outputs": [
    {
     "name": "stdout",
     "output_type": "stream",
     "text": [
      "Enter any string you want to check : Hello\n",
      "The string does not contain special characters.\n"
     ]
    }
   ],
   "source": [
    "import re\n",
    "try:\n",
    "    string = input(\"Enter any string you want to check : \")\n",
    "    def special_char(input_string):\n",
    "        try:\n",
    "            # Define a regular expression pattern to match special characters\n",
    "            pattern = r'[!@#$%^&*()_+{}\\[\\]:;<>,.?~\\\\/\\|=]'\n",
    "\n",
    "            # Use re.search() to find if the pattern exists in the input string\n",
    "            if re.search(pattern, input_string):\n",
    "                return True\n",
    "            else:\n",
    "                return False\n",
    "        except Exception as e:\n",
    "            print(e)\n",
    "    # Test the function\n",
    "    input_string = \"HelloWorld123\"\n",
    "    if special_char(string):\n",
    "        print(\"The string contains special characters.\")\n",
    "    else:\n",
    "        print(\"The string does not contain special characters.\")\n",
    "        \n",
    "except Exception as e:\n",
    "    print(e)"
   ]
  },
  {
   "cell_type": "code",
   "execution_count": null,
   "id": "7cc0ed62",
   "metadata": {},
   "outputs": [],
   "source": []
  }
 ],
 "metadata": {
  "kernelspec": {
   "display_name": "Python 3 (ipykernel)",
   "language": "python",
   "name": "python3"
  },
  "language_info": {
   "codemirror_mode": {
    "name": "ipython",
    "version": 3
   },
   "file_extension": ".py",
   "mimetype": "text/x-python",
   "name": "python",
   "nbconvert_exporter": "python",
   "pygments_lexer": "ipython3",
   "version": "3.9.13"
  }
 },
 "nbformat": 4,
 "nbformat_minor": 5
}
