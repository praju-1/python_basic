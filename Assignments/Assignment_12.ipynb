{
 "cells": [
  {
   "cell_type": "markdown",
   "id": "ebf37979",
   "metadata": {},
   "source": [
    "# 1. Write a Python program to Extract Unique values dictionary values?"
   ]
  },
  {
   "cell_type": "code",
   "execution_count": 17,
   "id": "00139a72",
   "metadata": {},
   "outputs": [
    {
     "name": "stdout",
     "output_type": "stream",
     "text": [
      "List of unique value from dictionary :  ['John', 12345, 'john123@gmail.com']\n"
     ]
    }
   ],
   "source": [
    "try:\n",
    "    dictionary = {\"name\" : \"John\", \n",
    "                  \"contact\" : 12345, \n",
    "                  \"mail\" : \"john123@gmail.com\", \n",
    "                  \"name1\" : \"John\",\n",
    "                 \"mail2\" : \"john123@gmail.com\"}\n",
    "    def unique_value(x : dict):\n",
    "        \"\"\"This function will return list of unique values from dictionary\"\"\"\n",
    "        try:\n",
    "            unique_value = []\n",
    "            for i in d.values():\n",
    "#                 print(i)\n",
    "                if i not in unique_value:\n",
    "                    unique_value.append(i)\n",
    "            print(\"List of unique value from dictionary : \", unique_value)\n",
    "        except Exception as e:\n",
    "            print(e)\n",
    "    unique_value(dictionary)\n",
    "except Exception as e:\n",
    "    print(e)"
   ]
  },
  {
   "cell_type": "code",
   "execution_count": null,
   "id": "d83c9db4",
   "metadata": {},
   "outputs": [],
   "source": [
    "2. Write a Python program to find the sum of all items in a dictionary?"
   ]
  },
  {
   "cell_type": "code",
   "execution_count": 1,
   "id": "72346094",
   "metadata": {},
   "outputs": [
    {
     "name": "stdout",
     "output_type": "stream",
     "text": [
      "The sum of all item from dictionary:  12\n"
     ]
    }
   ],
   "source": [
    "try:\n",
    "    dictionary = {'a':1, 'b':2, 'c':4, 'd': 5}\n",
    "    def sum_of_value(x : dict):\n",
    "        \"\"\"This function will return sum of all items in dictionary\"\"\"\n",
    "        try:\n",
    "            total_sum = sum(x.values())\n",
    "            print(\"The sum of all item from dictionary: \", total_sum)\n",
    "        except Exception as e:\n",
    "            print(e)\n",
    "    sum_of_value(dictionary)\n",
    "except Exception as e:\n",
    "    print(e)"
   ]
  },
  {
   "cell_type": "code",
   "execution_count": null,
   "id": "53446db6",
   "metadata": {},
   "outputs": [],
   "source": [
    "3. Write a Python program to Merging two Dictionaries?"
   ]
  },
  {
   "cell_type": "code",
   "execution_count": 10,
   "id": "3b49a018",
   "metadata": {},
   "outputs": [
    {
     "name": "stdout",
     "output_type": "stream",
     "text": [
      "Dictionary after merging : \n",
      " {'a': 1, 'b': 2, 'c': 4, 'd': 5, 'name': 'John', 'contact': 12345, 'mail': 'john123@gmail.com', 'name1': 'John', 'mail2': 'john123@gmail.com'}\n"
     ]
    }
   ],
   "source": [
    "try:\n",
    "    dictionary = {'a':1, 'b':2, 'c':4, 'd': 5}\n",
    "    dictionary1 =  {\"name\" : \"John\", \n",
    "                  \"contact\" : 12345, \n",
    "                  \"mail\" : \"john123@gmail.com\", \n",
    "                  \"name1\" : \"John\",\n",
    "                 \"mail2\" : \"john123@gmail.com\"}\n",
    "    def merge_dict(x : dict, y : dict):\n",
    "        \"\"\"This function will return sum of all items in dictionary\"\"\"\n",
    "        try:\n",
    "            x.update(y)\n",
    "            print(\"Dictionary after merging : \\n\", x)\n",
    "        \n",
    "        except Exception as e:\n",
    "            print(e)\n",
    "    merge_dict(dictionary, dictionary1)\n",
    "except Exception as e:\n",
    "    print(e)"
   ]
  },
  {
   "cell_type": "code",
   "execution_count": null,
   "id": "4bdfc3fb",
   "metadata": {},
   "outputs": [],
   "source": [
    "4. Write a Python program to convert key-values list to flat dictionary?"
   ]
  },
  {
   "cell_type": "code",
   "execution_count": 15,
   "id": "ef496d68",
   "metadata": {},
   "outputs": [
    {
     "name": "stdout",
     "output_type": "stream",
     "text": [
      "Flat Dictionary created from list : {'Name': 'John', 'Contact': 12345, 'Address': 'Pune', 'id': 1}\n"
     ]
    }
   ],
   "source": [
    "try:\n",
    "    key_value_list = [('Name', \"John\"), ('Contact', 12345), ('Address', 'Pune'), ('id', 1)]\n",
    "    def flat_dict(x : list):\n",
    "        \"\"\"This function will convert list into flat dictionary\"\"\"\n",
    "        try:\n",
    "            flat_dict = {}\n",
    "            for key, value in key_value_list:\n",
    "                flat_dict[key] = value\n",
    "            print(\"Flat Dictionary created from list :\", flat_dict)\n",
    "        except Exception as e:\n",
    "            print(e)\n",
    "    flat_dict(key_value_list)\n",
    "except Exception as e:\n",
    "    print(e)"
   ]
  },
  {
   "cell_type": "code",
   "execution_count": null,
   "id": "7a74dbdb",
   "metadata": {},
   "outputs": [],
   "source": [
    "5. Write a Python program to insertion at the beginning in OrderedDict?"
   ]
  },
  {
   "cell_type": "code",
   "execution_count": null,
   "id": "7104e333",
   "metadata": {},
   "outputs": [],
   "source": []
  },
  {
   "cell_type": "code",
   "execution_count": 8,
   "id": "4de83e4b",
   "metadata": {},
   "outputs": [
    {
     "data": {
      "text/plain": [
       "{'name': 'John',\n",
       " 'contact': 12345,\n",
       " 'mail': 'john123@gmail.com',\n",
       " 'name1': 'John',\n",
       " 'mail2': 'john123@gmail.com'}"
      ]
     },
     "execution_count": 8,
     "metadata": {},
     "output_type": "execute_result"
    }
   ],
   "source": [
    "6. Write a Python program to check order of character in string using OrderedDict()?"
   ]
  },
  {
   "cell_type": "code",
   "execution_count": null,
   "id": "435ded7c",
   "metadata": {},
   "outputs": [],
   "source": [
    "7. Write a Python program to sort Python Dictionaries by Key or Value?"
   ]
  },
  {
   "cell_type": "code",
   "execution_count": 16,
   "id": "bcd740c5",
   "metadata": {},
   "outputs": [
    {
     "name": "stdout",
     "output_type": "stream",
     "text": [
      "Sorted by Key:\n",
      "{'apple': 3, 'banana': 1, 'cherry': 2, 'date': 4}\n"
     ]
    }
   ],
   "source": [
    "# 1 sorting by key\n",
    "\n",
    "fruits_dict = {'apple': 3, 'banana': 1, 'cherry': 2, 'date': 4}\n",
    "\n",
    "\n",
    "sorted_dict_by_key = dict(sorted(fruits_dict.items()))\n",
    "\n",
    "# Print the sorted dictionary by key\n",
    "print(\"Sorted by Key:\")\n",
    "print(sorted_dict_by_key)\n"
   ]
  },
  {
   "cell_type": "code",
   "execution_count": 17,
   "id": "86836c76",
   "metadata": {},
   "outputs": [
    {
     "name": "stdout",
     "output_type": "stream",
     "text": [
      "Sorted by Value:\n",
      "{'banana': 1, 'cherry': 2, 'apple': 3, 'date': 4}\n"
     ]
    }
   ],
   "source": [
    "# 2 sorted by key\n",
    "\n",
    "fruits_dict = {'apple': 3, 'banana': 1, 'cherry': 2, 'date': 4}\n",
    "\n",
    "# Sort the dictionary by values\n",
    "sorted_dict_by_value = dict(sorted(fruits_dict.items(), key=lambda item: item[1]))\n",
    "\n",
    "# Print the sorted dictionary by value\n",
    "print(\"Sorted by Value:\")\n",
    "print(sorted_dict_by_value)"
   ]
  },
  {
   "cell_type": "code",
   "execution_count": null,
   "id": "ffeb1704",
   "metadata": {},
   "outputs": [],
   "source": []
  }
 ],
 "metadata": {
  "kernelspec": {
   "display_name": "Python 3 (ipykernel)",
   "language": "python",
   "name": "python3"
  },
  "language_info": {
   "codemirror_mode": {
    "name": "ipython",
    "version": 3
   },
   "file_extension": ".py",
   "mimetype": "text/x-python",
   "name": "python",
   "nbconvert_exporter": "python",
   "pygments_lexer": "ipython3",
   "version": "3.9.13"
  }
 },
 "nbformat": 4,
 "nbformat_minor": 5
}
