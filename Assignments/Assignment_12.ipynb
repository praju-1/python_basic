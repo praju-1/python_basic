{
 "cells": [
  {
   "cell_type": "markdown",
   "id": "7767bbb9",
   "metadata": {},
   "source": [
    "\n",
    "\n",
    "3. Write a Python program to Merging two Dictionaries?\n",
    "4. Write a Python program to convert key-values list to flat dictionary?\n",
    "5. Write a Python program to insertion at the beginning in OrderedDict?\n",
    "6. Write a Python program to check order of character in string using OrderedDict()?\n",
    "7. Write a Python program to sort Python Dictionaries by Key or Value?"
   ]
  },
  {
   "cell_type": "markdown",
   "id": "ebf37979",
   "metadata": {},
   "source": [
    "# 1. Write a Python program to Extract Unique values dictionary values?"
   ]
  },
  {
   "cell_type": "code",
   "execution_count": 17,
   "id": "00139a72",
   "metadata": {},
   "outputs": [
    {
     "name": "stdout",
     "output_type": "stream",
     "text": [
      "List of unique value from dictionary :  ['John', 12345, 'john123@gmail.com']\n"
     ]
    }
   ],
   "source": [
    "try:\n",
    "    dictionary = {\"name\" : \"John\", \n",
    "                  \"contact\" : 12345, \n",
    "                  \"mail\" : \"john123@gmail.com\", \n",
    "                  \"name1\" : \"John\",\n",
    "                 \"mail2\" : \"john123@gmail.com\"}\n",
    "    def unique_value(x : dict):\n",
    "        \"\"\"This function will return list of unique values from dictionary\"\"\"\n",
    "        try:\n",
    "            unique_value = []\n",
    "            for i in d.values():\n",
    "#                 print(i)\n",
    "                if i not in unique_value:\n",
    "                    unique_value.append(i)\n",
    "            print(\"List of unique value from dictionary : \", unique_value)\n",
    "        except Exception as e:\n",
    "            print(e)\n",
    "    unique_value(dictionary)\n",
    "except Exception as e:\n",
    "    print(e)"
   ]
  },
  {
   "cell_type": "code",
   "execution_count": null,
   "id": "d83c9db4",
   "metadata": {},
   "outputs": [],
   "source": [
    "2. Write a Python program to find the sum of all items in a dictionary?"
   ]
  },
  {
   "cell_type": "code",
   "execution_count": 21,
   "id": "72346094",
   "metadata": {},
   "outputs": [
    {
     "name": "stdout",
     "output_type": "stream",
     "text": [
      "12\n"
     ]
    }
   ],
   "source": [
    "try:\n",
    "    dictionary = {'a':1, 'b':2, 'c':4, 'd': 5}\n",
    "    def sum_of_value(x : dict):\n",
    "        \"\"\"This function will return sum of all items in dictionary\"\"\"\n",
    "        try:\n",
    "            total_sum = sum(x.values())\n",
    "            print(total_sum)\n",
    "        except Exception as e:\n",
    "            print(e)\n",
    "    sum_of_value(dictionary)\n",
    "except Exception as e:\n",
    "    print(e)"
   ]
  },
  {
   "cell_type": "code",
   "execution_count": null,
   "id": "53446db6",
   "metadata": {},
   "outputs": [],
   "source": []
  }
 ],
 "metadata": {
  "kernelspec": {
   "display_name": "Python 3 (ipykernel)",
   "language": "python",
   "name": "python3"
  },
  "language_info": {
   "codemirror_mode": {
    "name": "ipython",
    "version": 3
   },
   "file_extension": ".py",
   "mimetype": "text/x-python",
   "name": "python",
   "nbconvert_exporter": "python",
   "pygments_lexer": "ipython3",
   "version": "3.9.13"
  }
 },
 "nbformat": 4,
 "nbformat_minor": 5
}
