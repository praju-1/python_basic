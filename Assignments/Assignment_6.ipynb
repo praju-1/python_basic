{
 "cells": [
  {
   "cell_type": "raw",
   "id": "5d65da47",
   "metadata": {},
   "source": [
    "1. Write a Python Program to Display Fibonacci Sequence Using Recursion?\n",
    "2. Write a Python Program to Find Factorial of Number Using Recursion?\n",
    "3. Write a Python Program to calculate your Body Mass Index?\n",
    "4. Write a Python Program to calculate the natural logarithm of any number?\n",
    "5. Write a Python Program for cube sum of first n natural numbers?"
   ]
  },
  {
   "cell_type": "markdown",
   "id": "13fe35fe",
   "metadata": {},
   "source": [
    "# 1. Write a Python Program to Display Fibonacci Sequence Using Recursion?"
   ]
  },
  {
   "cell_type": "code",
   "execution_count": 13,
   "id": "781e6c28",
   "metadata": {},
   "outputs": [
    {
     "name": "stdout",
     "output_type": "stream",
     "text": [
      "Enter how many number you want in series : 10\n",
      "Fibonacci sequence:\n",
      "0 1 1 2 3 5 8 13 21 34 "
     ]
    }
   ],
   "source": [
    "try:\n",
    "    nterms = int(input(\"Enter how many number you want in series : \"))\n",
    "    def recurrsion_fibonacci(n):\n",
    "        if n <= 1:\n",
    "            return n\n",
    "        else:\n",
    "            return(recurrsion_fibonacci(n-1) + recurrsion_fibonacci(n-2))\n",
    "\n",
    "  \n",
    "\n",
    "    # check if the number of terms is valid\n",
    "    if nterms <= 0:\n",
    "        print(\"Plese enter a positive integer\")\n",
    "    else:\n",
    "        print(\"Fibonacci sequence:\")\n",
    "        for i in range(nterms):\n",
    "            print(recurrsion_fibonacci(i), end = \" \")\n",
    "\n",
    "except Exception as e:\n",
    "    print(e)"
   ]
  },
  {
   "cell_type": "markdown",
   "id": "4ca5295f",
   "metadata": {},
   "source": [
    "# 2. Write a Python Program to Find Factorial of Number Using Recursion?"
   ]
  },
  {
   "cell_type": "code",
   "execution_count": 12,
   "id": "386ef1cf",
   "metadata": {},
   "outputs": [
    {
     "name": "stdout",
     "output_type": "stream",
     "text": [
      "Enter any number : 5\n",
      "The factorial of 5 is 120\n"
     ]
    }
   ],
   "source": [
    "try:\n",
    "    num = int(input(\"Enter any number : \"))\n",
    "\n",
    "    def recurrsion_factorial(n):\n",
    "        \"This function will return factorial of number\"\n",
    "        if n == 1:\n",
    "            return n\n",
    "        else:\n",
    "            return n*recurrsion_factorial(n-1)\n",
    "\n",
    "\n",
    "\n",
    "    # check if the number is negative\n",
    "    if num < 0:\n",
    "        print(\"Sorry, factorial does not exist for negative numbers\")\n",
    "    elif num == 0:\n",
    "        print(\"The factorial of 0 is 1\")\n",
    "    else:\n",
    "        print(\"The factorial of\", num, \"is\", recurrsion_factorial(num))\n",
    "except Exception as e:\n",
    "    print(e)"
   ]
  },
  {
   "cell_type": "markdown",
   "id": "ce827edf",
   "metadata": {},
   "source": [
    "# 3. Write a Python Program to calculate your Body Mass Index?"
   ]
  },
  {
   "cell_type": "code",
   "execution_count": 1,
   "id": "41db648e",
   "metadata": {},
   "outputs": [
    {
     "name": "stdout",
     "output_type": "stream",
     "text": [
      "Enter your weight : 89\n",
      "Enter your height in meter : 156\n",
      "BMI of person is :  0.0036571334648257724\n"
     ]
    }
   ],
   "source": [
    "try:\n",
    "    weight = int(input(\"Enter your weight : \"))\n",
    "    height = int(input(\"Enter your height in meter : \"))\n",
    "    def bmi(a, b):\n",
    "        \"This function will return BMI of person\"\n",
    "        try:\n",
    "            index = a / b**2\n",
    "            print(\"BMI of person is : \", index)\n",
    "    \n",
    "        except Exception as e:\n",
    "            print(e)\n",
    "    bmi(weight, height)\n",
    "except Exception as e:\n",
    "    print(e)"
   ]
  },
  {
   "cell_type": "markdown",
   "id": "9cc85837",
   "metadata": {},
   "source": [
    "# 4. Write a Python Program to calculate the natural logarithm of any number?"
   ]
  },
  {
   "cell_type": "code",
   "execution_count": 14,
   "id": "2e0154f3",
   "metadata": {},
   "outputs": [
    {
     "name": "stdout",
     "output_type": "stream",
     "text": [
      "Enter the number: 10\n",
      "The value is :  2.302585092994046\n"
     ]
    }
   ],
   "source": [
    "#importing math module for calculation\n",
    "import math\n",
    "try:\n",
    "    number = int(input(\"Enter the number: \"))\n",
    "    def natural_log(n):\n",
    "        \"This function will return logarithmic value of any number\"\n",
    "        try:\n",
    "            result = math.log(n)\n",
    "            print(\"The value is : \", result)\n",
    "        except Exception as e:\n",
    "            print(e)\n",
    "            \n",
    "    natural_log(number)\n",
    "    \n",
    "except Exception as e:\n",
    "    print(e)        "
   ]
  },
  {
   "cell_type": "markdown",
   "id": "dc2ebedc",
   "metadata": {},
   "source": [
    "# 5. Write a Python Program for cube sum of first n natural numbers?"
   ]
  },
  {
   "cell_type": "code",
   "execution_count": 23,
   "id": "ba932e02",
   "metadata": {},
   "outputs": [
    {
     "name": "stdout",
     "output_type": "stream",
     "text": [
      "Enter any number : 5\n",
      "Total sum of cube of number is :  225\n"
     ]
    }
   ],
   "source": [
    "try:\n",
    "    num = int(input(\"Enter any number : \"))\n",
    "    def cube_sum_of_natural(n):\n",
    "        \"This function will return cube sum of natural number\"\n",
    "        try:\n",
    "            sum = 0\n",
    "            for i in range(1, n+1):\n",
    "                sum  += i**3\n",
    "            return sum\n",
    "        \n",
    "        except Exception as e:\n",
    "            print(e)\n",
    "            \n",
    "    print(\"Total sum of cube of number is : \", cube_sum_of_natural(num))\n",
    "    \n",
    "except Exception as e:\n",
    "    print(e)"
   ]
  }
 ],
 "metadata": {
  "kernelspec": {
   "display_name": "Python 3 (ipykernel)",
   "language": "python",
   "name": "python3"
  },
  "language_info": {
   "codemirror_mode": {
    "name": "ipython",
    "version": 3
   },
   "file_extension": ".py",
   "mimetype": "text/x-python",
   "name": "python",
   "nbconvert_exporter": "python",
   "pygments_lexer": "ipython3",
   "version": "3.9.13"
  }
 },
 "nbformat": 4,
 "nbformat_minor": 5
}
