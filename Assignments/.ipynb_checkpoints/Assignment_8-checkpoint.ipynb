{
 "cells": [
  {
   "cell_type": "raw",
   "id": "e0482a63",
   "metadata": {},
   "source": [
    "1. Write a Python Program to Add Two Matrices?\n",
    "2. Write a Python Program to Multiply Two Matrices?\n",
    "3. Write a Python Program to Transpose a Matrix?\n",
    "4. Write a Python Program to Sort Words in Alphabetic Order?\n",
    "5. Write a Python Program to Remove Punctuation From a String?"
   ]
  },
  {
   "cell_type": "markdown",
   "id": "a6b63fc2",
   "metadata": {},
   "source": [
    "# 1. Write a Python Program to Add Two Matrices?"
   ]
  },
  {
   "cell_type": "code",
   "execution_count": 26,
   "id": "1ec0aafd",
   "metadata": {},
   "outputs": [
    {
     "name": "stdout",
     "output_type": "stream",
     "text": [
      "First array is : \n",
      " [[1 2 3]\n",
      " [4 5 6]\n",
      " [7 8 9]]\n",
      "\n",
      "Second array is : \n",
      " [[10 11 12]\n",
      " [13 14 15]\n",
      " [16 17 18]]\n",
      "\n",
      "Addition of two matrices is :\n",
      "[11 13 15]\n",
      "[17 19 21]\n",
      "[23 25 27]\n"
     ]
    }
   ],
   "source": [
    "import numpy as np\n",
    "try:\n",
    "    # Creating two arrays with the help of numpy\n",
    "    X = np.arange(1,10).reshape(3,3)\n",
    "    Y = np.arange(10, 19).reshape(3,3)\n",
    "    result = np.zeros((3,3), dtype=int)\n",
    "    def add_matrix(a, b):\n",
    "        'This function will return addition of two matrices'\n",
    "        try:\n",
    "            print(\"First array is : \\n\", a)\n",
    "            print(\"\\nSecond array is : \\n\", b)\n",
    "            \n",
    "            # iterate through rows\n",
    "            for i in range(len(a)):\n",
    "               # iterate through columns\n",
    "               for j in range(len(a[0])):\n",
    "                    result[i][j] = a[i][j] + b[i][j]\n",
    "            print(\"\\nAddition of two matrices is :\")\n",
    "            for r in result:\n",
    "                print(r)\n",
    "\n",
    "        except Exception as e:\n",
    "            print(e)\n",
    "            \n",
    "    add_matrix(X, Y)\n",
    "    \n",
    "except Exception as e:\n",
    "    print(e)"
   ]
  },
  {
   "cell_type": "markdown",
   "id": "a42e9b49",
   "metadata": {},
   "source": [
    "# 2. Write a Python Program to Multiply Two Matrices?"
   ]
  },
  {
   "cell_type": "code",
   "execution_count": 27,
   "id": "af9fe198",
   "metadata": {},
   "outputs": [
    {
     "name": "stdout",
     "output_type": "stream",
     "text": [
      "First array is : \n",
      " [[1 2 3]\n",
      " [4 5 6]\n",
      " [7 8 9]]\n",
      "\n",
      "Second array is : \n",
      " [[10 11 12]\n",
      " [13 14 15]\n",
      " [16 17 18]]\n",
      "\n",
      "Multiplication of two matrices is :\n",
      "[10 22 36]\n",
      "[52 70 90]\n",
      "[112 136 162]\n"
     ]
    }
   ],
   "source": [
    "import numpy as np\n",
    "try:\n",
    "    # Creating two arrays with the help of numpy\n",
    "    X = np.arange(1,10).reshape(3,3)\n",
    "    Y = np.arange(10, 19).reshape(3,3)\n",
    "    result = np.ones((3,3),dtype=int)\n",
    "    def add_matrix(a, b):\n",
    "        'This function will return Multiplication of two matrices'\n",
    "        try:\n",
    "            print(\"First array is : \\n\", a)\n",
    "            print(\"\\nSecond array is : \\n\", b)\n",
    "            \n",
    "            # iterate through rows\n",
    "            for i in range(len(a)):\n",
    "               # iterate through columns\n",
    "               for j in range(len(a[0])):\n",
    "                    result[i][j] = a[i][j] * b[i][j]\n",
    "            print(\"\\nMultiplication of two matrices is :\")\n",
    "            for r in result:\n",
    "                print(r)\n",
    "\n",
    "        except Exception as e:\n",
    "            print(e)\n",
    "            \n",
    "    add_matrix(X, Y)\n",
    "    \n",
    "except Exception as e:\n",
    "    print(e)"
   ]
  },
  {
   "cell_type": "markdown",
   "id": "6b46c048",
   "metadata": {},
   "source": [
    "# 3. Write a Python Program to Transpose a Matrix?"
   ]
  },
  {
   "cell_type": "code",
   "execution_count": 31,
   "id": "4b6dbc2c",
   "metadata": {},
   "outputs": [
    {
     "name": "stdout",
     "output_type": "stream",
     "text": [
      "Original matrix is : \n",
      " [[1 2 3]\n",
      " [4 5 6]\n",
      " [7 8 9]]\n",
      "Matrix after transpose : \n",
      " [[1 4 7]\n",
      " [2 5 8]\n",
      " [3 6 9]]\n"
     ]
    }
   ],
   "source": [
    "import numpy as np\n",
    "try:\n",
    "    # Creating array with the help of numpy\n",
    "    X = np.arange(1,10).reshape(3,3)\n",
    "    \n",
    "    def transpose(a):\n",
    "        \"This function will return transpose of matrix\"\n",
    "        try:\n",
    "            print(\"Original matrix is : \\n\", a)\n",
    "            result = np.transpose(a)\n",
    "            print(\"Matrix after transpose : \\n\", result)\n",
    "    \n",
    "        except Exception as e:\n",
    "            print(e)\n",
    "    \n",
    "    transpose(X)\n",
    "\n",
    "except Exception as e:\n",
    "    print(e)"
   ]
  },
  {
   "cell_type": "markdown",
   "id": "abc21294",
   "metadata": {},
   "source": [
    "# 4. Write a Python Program to Sort Words in Alphabetic Order?"
   ]
  },
  {
   "cell_type": "code",
   "execution_count": 37,
   "id": "973a7ae8",
   "metadata": {},
   "outputs": [
    {
     "name": "stdout",
     "output_type": "stream",
     "text": [
      "Enter a string: This is example\n",
      "\n",
      "The sorted words are:\n",
      "example\n",
      "is\n",
      "this\n"
     ]
    }
   ],
   "source": [
    "try:\n",
    "    # To take input from the user\n",
    "    my_str = input(\"Enter a string: \")\n",
    "    \n",
    "    def sort_word(a : str):\n",
    "        \"This function will return words in Alphabetics order\"\n",
    "        try:\n",
    "            # breakdown the string into a list of words\n",
    "            words = [word.lower() for word in a.split()]\n",
    "\n",
    "            # sort the list\n",
    "            words.sort()\n",
    "\n",
    "            # display the sorted words\n",
    "            print(\"\\nThe sorted words are:\")\n",
    "            for word in words:\n",
    "                print(word)\n",
    "\n",
    "        except Exception as e:\n",
    "            print(e)\n",
    "            \n",
    "    sort_word(my_str)\n",
    "    \n",
    "except Exception as e:\n",
    "    print(e)"
   ]
  },
  {
   "cell_type": "code",
   "execution_count": null,
   "id": "ce3c5f82",
   "metadata": {},
   "outputs": [],
   "source": [
    "gayatri shinde"
   ]
  },
  {
   "cell_type": "markdown",
   "id": "ee809f42",
   "metadata": {},
   "source": [
    "# 5. Write a Python Program to Remove Punctuation From a String?"
   ]
  },
  {
   "cell_type": "code",
   "execution_count": 1,
   "id": "4dabc2db",
   "metadata": {},
   "outputs": [
    {
     "name": "stdout",
     "output_type": "stream",
     "text": [
      "Enter any string : adf$%djf^7\n",
      "The string without punctuation is:  adfdjf7\n"
     ]
    }
   ],
   "source": [
    "#importing regular expression\n",
    "import re\n",
    "try:\n",
    "    string = input(\"Enter any string : \")\n",
    "    def remove_punctuation(a : str):\n",
    "        \"This function will remove punctuation from string\"\n",
    "        try:\n",
    "            result = re.sub(r'[^\\w\\s]', '', a)\n",
    "            print(\"The string without punctuation is: \", result)\n",
    "           \n",
    "        except Exception as e:\n",
    "            print(e)\n",
    "\n",
    "    remove_punctuation(string)\n",
    "except Exception as e:\n",
    "    print(e)   "
   ]
  }
 ],
 "metadata": {
  "kernelspec": {
   "display_name": "Python 3 (ipykernel)",
   "language": "python",
   "name": "python3"
  },
  "language_info": {
   "codemirror_mode": {
    "name": "ipython",
    "version": 3
   },
   "file_extension": ".py",
   "mimetype": "text/x-python",
   "name": "python",
   "nbconvert_exporter": "python",
   "pygments_lexer": "ipython3",
   "version": "3.9.13"
  }
 },
 "nbformat": 4,
 "nbformat_minor": 5
}
