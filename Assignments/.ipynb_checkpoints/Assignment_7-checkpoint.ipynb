{
 "cells": [
  {
   "cell_type": "code",
   "execution_count": null,
   "id": "b05ea53e",
   "metadata": {},
   "outputs": [],
   "source": [
    "1. Write a Python Program to find sum of array?\n",
    "2. Write a Python Program to find largest element in an array?\n",
    "3. Write a Python Program for array rotation?\n",
    "4. Write a Python Program to Split the array and add the first part to the end?\n",
    "5. Write a Python Program to check if given array is Monotonic?"
   ]
  },
  {
   "cell_type": "code",
   "execution_count": null,
   "id": "df033202",
   "metadata": {},
   "outputs": [],
   "source": [
    "1. Write a Python Program to find sum of array?"
   ]
  },
  {
   "cell_type": "code",
   "execution_count": null,
   "id": "c52508e0",
   "metadata": {},
   "outputs": [],
   "source": []
  },
  {
   "cell_type": "code",
   "execution_count": null,
   "id": "e1592c05",
   "metadata": {},
   "outputs": [],
   "source": [
    "2. Write a Python Program to find largest element in an array?"
   ]
  },
  {
   "cell_type": "code",
   "execution_count": null,
   "id": "58dd7d60",
   "metadata": {},
   "outputs": [],
   "source": []
  },
  {
   "cell_type": "markdown",
   "id": "1f8ed72d",
   "metadata": {},
   "source": [
    "# 3. Write a Python Program for array rotation?"
   ]
  },
  {
   "cell_type": "code",
   "execution_count": 2,
   "id": "6b0eec71",
   "metadata": {},
   "outputs": [
    {
     "name": "stdout",
     "output_type": "stream",
     "text": [
      " Original array is :  [1, 2, 3, 4, 5, 6, 7]\n",
      " Array after left rotation is:  [3, 4, 5, 6, 7, 1, 2]\n"
     ]
    }
   ],
   "source": [
    "try:\n",
    "    def rotated_array(arr, n, d):\n",
    "        \"This function will return rotated array\"\n",
    "        temp = []\n",
    "        i = 0\n",
    "        while (i < d):\n",
    "            temp.append(arr[i])\n",
    "            i = i + 1\n",
    "        i = 0\n",
    "        \"\"\" loop for rotation differnce is less than n\"\"\"\n",
    "        while (d < n):\n",
    "            arr[i] = arr[d]\n",
    "            i = i + 1\n",
    "            d = d + 1\n",
    "        arr[:] = arr[: i] + temp\n",
    "        return arr\n",
    "\n",
    "\n",
    "    arr = [1, 2, 3, 4, 5, 6, 7]\n",
    "    print(\" Original array is : \", arr)\n",
    "    print(\" Array after left rotation is: \", end=' ')\n",
    "    print(rotated_array(arr, len(arr), 2))  \n",
    "except Exception as e:\n",
    "    print(e)"
   ]
  },
  {
   "cell_type": "code",
   "execution_count": null,
   "id": "e7a5cce5",
   "metadata": {},
   "outputs": [],
   "source": [
    "4. Write a Python Program to Split the array and add the first part to the end?"
   ]
  },
  {
   "cell_type": "code",
   "execution_count": null,
   "id": "7a8c3a61",
   "metadata": {},
   "outputs": [],
   "source": []
  },
  {
   "cell_type": "code",
   "execution_count": null,
   "id": "11345102",
   "metadata": {},
   "outputs": [],
   "source": [
    "5. Write a Python Program to check if given array is Monotonic?"
   ]
  }
 ],
 "metadata": {
  "kernelspec": {
   "display_name": "Python 3 (ipykernel)",
   "language": "python",
   "name": "python3"
  },
  "language_info": {
   "codemirror_mode": {
    "name": "ipython",
    "version": 3
   },
   "file_extension": ".py",
   "mimetype": "text/x-python",
   "name": "python",
   "nbconvert_exporter": "python",
   "pygments_lexer": "ipython3",
   "version": "3.9.13"
  }
 },
 "nbformat": 4,
 "nbformat_minor": 5
}
