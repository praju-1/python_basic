{
 "cells": [
  {
   "cell_type": "raw",
   "id": "fa759ee8",
   "metadata": {},
   "source": [
    "1. Write a Python Program to Find the Factorial of a Number?\n",
    "2. Write a Python Program to Display the multiplication Table?\n",
    "3. Write a Python Program to Print the Fibonacci sequence?\n",
    "4. Write a Python Program to Check Armstrong Number?\n",
    "5. Write a Python Program to Find Armstrong Number in an Interval?\n",
    "6. Write a Python Program to Find the Sum of Natural Numbers?"
   ]
  },
  {
   "cell_type": "markdown",
   "id": "542c520b",
   "metadata": {},
   "source": [
    "# 1. Write a Python Program to Find the Factorial of a Number?"
   ]
  },
  {
   "cell_type": "code",
   "execution_count": 3,
   "id": "a374c21b",
   "metadata": {},
   "outputs": [
    {
     "name": "stdout",
     "output_type": "stream",
     "text": [
      "Enter any number for factorial : 5\n",
      "Factorial of a number is : 120\n"
     ]
    }
   ],
   "source": [
    "try:\n",
    "    n = int(input(\"Enter any number for factorial : \"))\n",
    "    def factorial(a : int):\n",
    "        \"This function will return factorial of a number.\"\n",
    "        try:\n",
    "            fact = 1\n",
    "            for i in range(1, a+1):\n",
    "                fact = fact * i\n",
    "            print(\"Factorial of a number is :\", fact)\n",
    "                        \n",
    "        except Exception as e:\n",
    "            print(e)\n",
    "    \n",
    "    factorial(n)\n",
    "except Exception as e:\n",
    "    print(e)"
   ]
  },
  {
   "cell_type": "markdown",
   "id": "3bea3bbf",
   "metadata": {},
   "source": [
    "# 2. Write a Python Program to Display the multiplication Table?"
   ]
  },
  {
   "cell_type": "code",
   "execution_count": 4,
   "id": "329e64db",
   "metadata": {},
   "outputs": [
    {
     "name": "stdout",
     "output_type": "stream",
     "text": [
      "Enter any number for table : 3\n",
      "3 x 1 = 3\n",
      "3 x 2 = 6\n",
      "3 x 3 = 9\n",
      "3 x 4 = 12\n",
      "3 x 5 = 15\n",
      "3 x 6 = 18\n",
      "3 x 7 = 21\n",
      "3 x 8 = 24\n",
      "3 x 9 = 27\n",
      "3 x 10 = 30\n"
     ]
    }
   ],
   "source": [
    "try:\n",
    "    n = int(input(\"Enter any number for table : \"))\n",
    "    def table(a : int):\n",
    "        \"This function will create table of any number\"\n",
    "        try:\n",
    "            for i in range(1, 11):\n",
    "                print(a , \"x\", i, \"=\", i *a)\n",
    "        except Exception as e:\n",
    "            print(e)\n",
    "    table(n)    \n",
    "except Exception as e:\n",
    "    print(e)"
   ]
  },
  {
   "cell_type": "markdown",
   "id": "25a7e4e7",
   "metadata": {},
   "source": [
    "# 3. Write a Python Program to Print the Fibonacci sequence?"
   ]
  },
  {
   "cell_type": "code",
   "execution_count": 6,
   "id": "d9fd7d3f",
   "metadata": {},
   "outputs": [
    {
     "name": "stdout",
     "output_type": "stream",
     "text": [
      "How many terms you want? 10\n",
      "Fibonacci sequence: 0\n",
      "1\n",
      "1\n",
      "2\n",
      "3\n",
      "5\n",
      "8\n",
      "13\n",
      "21\n",
      "34\n"
     ]
    }
   ],
   "source": [
    "try:\n",
    "    num = int(input(\"How many terms you want? \"))\n",
    "    # first two terms\n",
    "    num1, num2 = 0, 1\n",
    "\n",
    "    def fibbo_seq(n: int, n1: int, n2: int):\n",
    "        \"This function return fibonacci sequence\"\n",
    "        try:\n",
    "            count = 0\n",
    "            # check if the number of terms is valid\n",
    "            if n <= 0:\n",
    "                print(\"Please enter a positive integer\")\n",
    "            # if there is only one term, return n1\n",
    "            elif n == 1:\n",
    "                print(\"Fibonacci sequence upto : \", n)\n",
    "                print(n1)\n",
    "            # generate fibonacci sequence\n",
    "            else:\n",
    "                print(\"Fibonacci sequence:\", end = \" \")\n",
    "                while count < n:\n",
    "                    print(n1)\n",
    "                    nth = n1 + n2\n",
    "                    # update values\n",
    "                    n1 = n2\n",
    "                    n2 = nth\n",
    "                    count += 1\n",
    "        except Exception as e:\n",
    "                print(e) \n",
    "                \n",
    "    fibbo_seq(num, num1, num2)\n",
    "    \n",
    "except Exception as e:\n",
    "    print(e)"
   ]
  },
  {
   "cell_type": "markdown",
   "id": "fa493e59",
   "metadata": {},
   "source": [
    "# 4. Write a Python Program to Check Armstrong Number?"
   ]
  },
  {
   "cell_type": "markdown",
   "id": "e8839988",
   "metadata": {},
   "source": [
    "- Armstrong number - \n",
    "abcd... = an + bn + cn + dn + ..."
   ]
  },
  {
   "cell_type": "markdown",
   "id": "122d747e",
   "metadata": {},
   "source": [
    "153 = 1*1*1 + 5*5*5 + 3*3*3  // 153 is an Armstrong number."
   ]
  },
  {
   "cell_type": "code",
   "execution_count": 4,
   "id": "15b045b6",
   "metadata": {},
   "outputs": [
    {
     "name": "stdout",
     "output_type": "stream",
     "text": [
      "Enter a number: 153\n",
      "153 is an Armstrong number\n"
     ]
    }
   ],
   "source": [
    "try:\n",
    "    # take input from the user\n",
    "    n = int(input(\"Enter a number: \"))\n",
    "    def armstrong(num):\n",
    "        \"This function check given number is armstrong or not\"\n",
    "        try:\n",
    "            sum = 0\n",
    "\n",
    "            # find the sum of the cube of each digit\n",
    "            temp = num\n",
    "            while temp > 0:\n",
    "                digit = temp % 10\n",
    "                sum += digit ** 3\n",
    "                temp //= 10\n",
    "\n",
    "            if num == sum:\n",
    "                print(num,\"is an Armstrong number\")\n",
    "            else:\n",
    "                print(num,\"is not an Armstrong number\")\n",
    "        except Exception as e:\n",
    "            print(e)\n",
    "    armstrong(n)\n",
    "    \n",
    "except Exception as e:\n",
    "    print(e)"
   ]
  },
  {
   "cell_type": "markdown",
   "id": "8fb25e2f",
   "metadata": {},
   "source": [
    "# 5. Write a Python Program to Find Armstrong Number in an Interval?"
   ]
  },
  {
   "cell_type": "code",
   "execution_count": 7,
   "id": "ce63866d",
   "metadata": {},
   "outputs": [
    {
     "name": "stdout",
     "output_type": "stream",
     "text": [
      "Enter a lower range to start : 100\n",
      "Enter a upper range upto you want number : 2000\n",
      "153\n",
      "370\n",
      "371\n",
      "407\n",
      "1634\n"
     ]
    }
   ],
   "source": [
    "try:\n",
    "    lower = int(input(\"Enter a lower range to start : \"))\n",
    "    upper = int(input(\"Enter a upper range upto you want number : \"))\n",
    "    \n",
    "    def armstrong_num(n, n1):\n",
    "        \"This function will return armstrong number within range\"\n",
    "        try:\n",
    "            for num in range(lower, upper + 1):\n",
    "                # order of number\n",
    "                order = len(str(num))\n",
    "\n",
    "                # initialize sum\n",
    "                sum = 0\n",
    "\n",
    "                temp = num\n",
    "                while temp > 0:\n",
    "                    digit = temp % 10\n",
    "                    sum += digit ** order\n",
    "                    temp //= 10\n",
    "\n",
    "                if num == sum:\n",
    "                    print(num)\n",
    "        except Exception as e:\n",
    "            print(e)   \n",
    "    armstrong_num(lower, upper)\n",
    "        \n",
    "except Exception as e:\n",
    "    print(e)"
   ]
  },
  {
   "cell_type": "markdown",
   "id": "4997517c",
   "metadata": {},
   "source": [
    "# 6. Write a Python Program to Find the Sum of Natural Numbers?"
   ]
  },
  {
   "cell_type": "code",
   "execution_count": 6,
   "id": "1d605405",
   "metadata": {},
   "outputs": [
    {
     "name": "stdout",
     "output_type": "stream",
     "text": [
      "Enter any range for addition : 10\n",
      "The sum is 55\n"
     ]
    }
   ],
   "source": [
    "try:\n",
    "    num = int(input(\"Enter any range for addition : \"))\n",
    "    def sum_natural(a :int):\n",
    "        \"This function return sum of natural numbers\"\n",
    "        try:\n",
    "            if a < 0:\n",
    "                print(\"Enter a positive number\")\n",
    "            else:\n",
    "                sum = 0\n",
    "                # use while loop to iterate until zero\n",
    "                while(a > 0):\n",
    "                    sum += a\n",
    "                    a -= 1\n",
    "                print(\"The sum is\", sum)\n",
    "        except Exception as e:\n",
    "            print(e)   \n",
    "    sum_natural(num)\n",
    "    \n",
    "except Exception as e:\n",
    "    print(e)"
   ]
  }
 ],
 "metadata": {
  "kernelspec": {
   "display_name": "Python 3 (ipykernel)",
   "language": "python",
   "name": "python3"
  },
  "language_info": {
   "codemirror_mode": {
    "name": "ipython",
    "version": 3
   },
   "file_extension": ".py",
   "mimetype": "text/x-python",
   "name": "python",
   "nbconvert_exporter": "python",
   "pygments_lexer": "ipython3",
   "version": "3.9.13"
  }
 },
 "nbformat": 4,
 "nbformat_minor": 5
}
