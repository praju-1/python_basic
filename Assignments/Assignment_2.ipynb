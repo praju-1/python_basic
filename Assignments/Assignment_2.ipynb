{
 "cells": [
  {
   "cell_type": "markdown",
   "id": "7bad0ff9",
   "metadata": {},
   "source": [
    "1. Write a Python program to convert kilometers to miles?\n",
    "2. Write a Python program to convert Celsius to Fahrenheit?\n",
    "3. Write a Python program to display calendar?\n",
    "4. Write a Python program to solve quadratic equation?\n",
    "5. Write a Python program to swap two variables without temp variable?\n"
   ]
  },
  {
   "cell_type": "markdown",
   "id": "9af908dd",
   "metadata": {},
   "source": [
    "# 1. Write a Python program to convert kilometers to miles?"
   ]
  },
  {
   "cell_type": "code",
   "execution_count": 5,
   "id": "06641c38",
   "metadata": {},
   "outputs": [
    {
     "name": "stdout",
     "output_type": "stream",
     "text": [
      "Enter kilometer to convert into miles : 5\n",
      "\n",
      "5.00 kilometers is equal to 3.11 miles. \n"
     ]
    }
   ],
   "source": [
    "try:\n",
    "    #taking input from user\n",
    "    km = float(input(\"Enter kilometer to convert into miles : \"))\n",
    "    #value of 1miles is\n",
    "    to_convert =  0.621371\n",
    "\n",
    "    def km_to_mile(n : float, m : float):\n",
    "        \"This function convert kilometer to miles\"\n",
    "        try:\n",
    "            #calculating miles\n",
    "            miles = n * m\n",
    "            print('\\n%0.2f kilometers is equal to %0.2f miles. ' %(n, miles))\n",
    "            \n",
    "        except Exception as e:\n",
    "            print(e)\n",
    "            \n",
    "    km_to_mile(km, to_convert)\n",
    "    \n",
    "except Exception as e:\n",
    "    print(e)"
   ]
  },
  {
   "cell_type": "markdown",
   "id": "be9c2aa5",
   "metadata": {},
   "source": [
    "# 2. Write a Python program to convert Celsius to Fahrenheit?"
   ]
  },
  {
   "cell_type": "code",
   "execution_count": 13,
   "id": "dfae5845",
   "metadata": {},
   "outputs": [
    {
     "name": "stdout",
     "output_type": "stream",
     "text": [
      "Enter kilometer to convert into miles : 20\n",
      "\n",
      "20 celcius is equal to 68 Fahrenheit. \n"
     ]
    }
   ],
   "source": [
    "try:\n",
    "    #taking input from user\n",
    "    celcius = float(input(\"Enter kilometer to convert into miles : \"))\n",
    "\n",
    "    def cel_to_farh(temp : int):\n",
    "        \"This function convert celcius to Fahrenheit\"\n",
    "        try:\n",
    "            #calculating miles\n",
    "            Fahrenheit = temp * (9/5) + 32\n",
    "            print('\\n%d celcius is equal to %d Fahrenheit. ' %(temp, Fahrenheit))\n",
    "            \n",
    "        except Exception as e:\n",
    "            print(e)\n",
    "            \n",
    "    cel_to_farh(celcius)\n",
    "    \n",
    "except Exception as e:\n",
    "    print(e)"
   ]
  },
  {
   "cell_type": "markdown",
   "id": "544a61f5",
   "metadata": {},
   "source": [
    "# 3. Write a Python program to display calendar?"
   ]
  },
  {
   "cell_type": "code",
   "execution_count": 16,
   "id": "576565ad",
   "metadata": {},
   "outputs": [
    {
     "name": "stdout",
     "output_type": "stream",
     "text": [
      "Enter year: 2023\n",
      "Enter month: 1\n",
      "    January 2023\n",
      "Mo Tu We Th Fr Sa Su\n",
      "                   1\n",
      " 2  3  4  5  6  7  8\n",
      " 9 10 11 12 13 14 15\n",
      "16 17 18 19 20 21 22\n",
      "23 24 25 26 27 28 29\n",
      "30 31\n",
      "\n"
     ]
    }
   ],
   "source": [
    "try:\n",
    "    # importing calendar module\n",
    "    import calendar\n",
    "\n",
    "    # To take month and year input from the user\n",
    "    year = int(input(\"Enter year: \"))\n",
    "    month = int(input(\"Enter month: \"))\n",
    "    \n",
    "    def calendar_d(value1 : int, value2: int):\n",
    "        try:\n",
    "            # display the calendar\n",
    "            print(calendar.month(value1, value2))\n",
    "        except Exception as e:\n",
    "            print(e)\n",
    "    calendar_d(year, month)\n",
    "except Exception as e:\n",
    "    print(e)"
   ]
  },
  {
   "cell_type": "markdown",
   "id": "0cd788a5",
   "metadata": {},
   "source": [
    "# 4. Write a Python program to solve quadratic equation?"
   ]
  },
  {
   "cell_type": "raw",
   "id": "e5931dfc",
   "metadata": {},
   "source": [
    "Quadratic equation is : \n",
    "ax2 + bx + c = 0, where\n",
    "a, b and c are real numbers and\n",
    "a ≠ 0\n",
    "\n",
    "Solution is given by following formula\n",
    "- (-b ± (b ** 2 - 4 * a * c) ** 0.5) / (2 * a)"
   ]
  },
  {
   "cell_type": "code",
   "execution_count": 9,
   "id": "79c7cbb0",
   "metadata": {},
   "outputs": [
    {
     "name": "stdout",
     "output_type": "stream",
     "text": [
      "Enter first value : 8\n",
      "Enter second value : 5\n",
      "Enter third value : 8\n",
      "The solution are (-0.3125-0.9499177595981665j) and (-0.3125+0.9499177595981665j)\n"
     ]
    }
   ],
   "source": [
    "try:\n",
    "    import cmath\n",
    "    a = int(input(\"Enter first value : \"))\n",
    "    b = int(input(\"Enter second value : \"))\n",
    "    c = int(input(\"Enter third value : \"))\n",
    "\n",
    "    def quad_equation(num1 : int, num2 : int, num3 : int):\n",
    "        try:\n",
    "            # calculate the discriminant\n",
    "            d = (b**2) - (4*a*c)\n",
    "\n",
    "            # find two solutions for different sign\n",
    "            sol1 = (-b-cmath.sqrt(d))/(2*a)\n",
    "            sol2 = (-b+cmath.sqrt(d))/(2*a)\n",
    "\n",
    "            print('The solution are {0} and {1}'.format(sol1,sol2))\n",
    "            \n",
    "        except Exception as e:\n",
    "            print(e)\n",
    "    \n",
    "    quad_equation(a, b, c)\n",
    "            \n",
    "except Exception as e:\n",
    "    print(e)"
   ]
  },
  {
   "cell_type": "markdown",
   "id": "49c16648",
   "metadata": {},
   "source": [
    "# 5. Write a Python program to swap two variables without temp variable?"
   ]
  },
  {
   "cell_type": "code",
   "execution_count": 26,
   "id": "32d5306a",
   "metadata": {},
   "outputs": [
    {
     "name": "stdout",
     "output_type": "stream",
     "text": [
      "Enter first value : 11\n",
      "Enter second value : 22\n",
      "Number before swapping :  11 22\n",
      "Number After swapping :  22 11\n"
     ]
    }
   ],
   "source": [
    "try:\n",
    "\n",
    "    a = int(input(\"Enter first value : \"))\n",
    "    b = int(input(\"Enter second value : \"))\n",
    "\n",
    "    def swap_num(num1 : int, num2 :int):\n",
    "        try:\n",
    "            print(\"Number before swapping : \" ,num1, num2)\n",
    "            num1 = num1 + num2\n",
    "\n",
    "            num2 = num1 - num2\n",
    "\n",
    "            num1 = num1 - num2\n",
    "\n",
    "            print(\"Number After swapping : \", num1, num2)\n",
    "\n",
    "        except Exception as e:\n",
    "            print(e)\n",
    "        \n",
    "    swap_num(a, b)\n",
    "    \n",
    "except Exception as e:\n",
    "    print(e)"
   ]
  }
 ],
 "metadata": {
  "kernelspec": {
   "display_name": "Python 3 (ipykernel)",
   "language": "python",
   "name": "python3"
  },
  "language_info": {
   "codemirror_mode": {
    "name": "ipython",
    "version": 3
   },
   "file_extension": ".py",
   "mimetype": "text/x-python",
   "name": "python",
   "nbconvert_exporter": "python",
   "pygments_lexer": "ipython3",
   "version": "3.9.12"
  }
 },
 "nbformat": 4,
 "nbformat_minor": 5
}
