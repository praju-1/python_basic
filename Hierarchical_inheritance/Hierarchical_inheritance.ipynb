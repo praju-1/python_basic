{
 "cells": [
  {
   "cell_type": "code",
   "execution_count": 1,
   "id": "65a68381",
   "metadata": {
    "scrolled": true
   },
   "outputs": [
    {
     "name": "stdout",
     "output_type": "stream",
     "text": [
      "********* Autobiography object *********\n",
      "\n",
      "\n",
      "Name of the Book is :  Wings of Fire\n",
      "Type of the Book is :  Autobiography\n",
      "Author of  Wings of Fire is :  Dr. A. P. J. Abdul Kalam\n",
      "Edition of  Wings of Fire is :  First\n",
      "\n",
      "********* Biography object *********\n",
      "\n",
      "\n",
      "Name of the Book is :  Here, There and Everywhere\n",
      "Type of the Book is :  biography\n",
      "Author of  Here, There and Everywhere is :  Sudha Murty\n",
      "Publication of the  Here, There and Everywhere is :  Penguin\n"
     ]
    }
   ],
   "source": [
    "\"Python program for Hierarchical inheritance\"\n",
    "\n",
    "\"Here we create Base Class of Books\"\n",
    "class Books:\n",
    "    def __init__(self, book_name, book_type, author):\n",
    "        self.book_name = book_name\n",
    "        self.book_type = book_type\n",
    "        self.author = author\n",
    "\n",
    "    def display(self):\n",
    "        \"This function display the Information about books\"\n",
    "        print(\"Name of the Book is : \", self.book_name)\n",
    "        print(\"Type of the Book is : \", self.book_type)\n",
    "        print(\"Author of \", self.book_name, \"is : \", self.author)\n",
    "\n",
    "\"Derived class from Base class\"\n",
    "class Books_autobiography(Books):\n",
    "    def __init__(self, book_name, book_type, author, edition):\n",
    "        Books.__init__(self, book_name, book_type, author)\n",
    "        self.edition = edition\n",
    "    \n",
    "    def display(self):\n",
    "        Books.display(self)\n",
    "        print(\"Edition of \", self.book_name, \"is : \", self.edition)\n",
    "\n",
    "class Books_biography(Books):\n",
    "    def __init__(self, book_name, book_type, author, publication):\n",
    "        Books.__init__(self, book_name, book_type, author)\n",
    "        self.publication = publication\n",
    "\n",
    "    def display(self):\n",
    "        Books.display(self)\n",
    "        print(\"Publication of the \", self.book_name, \"is : \", self.publication)\n",
    "\n",
    "print(\"********* Autobiography object *********\")\n",
    "print(\"\\n\")\n",
    "a = Books_autobiography(\"Wings of Fire\", \"Autobiography\", \"Dr. A. P. J. Abdul Kalam\", \"First\")\n",
    "a.display()\n",
    "print(\"\\n********* Biography object *********\")\n",
    "print(\"\\n\")\n",
    "b = Books_biography(\"Here, There and Everywhere\", \"biography\", \"Sudha Murty\", \"Penguin\")\n",
    "b.display()\n"
   ]
  }
 ],
 "metadata": {
  "kernelspec": {
   "display_name": "Python 3 (ipykernel)",
   "language": "python",
   "name": "python3"
  },
  "language_info": {
   "codemirror_mode": {
    "name": "ipython",
    "version": 3
   },
   "file_extension": ".py",
   "mimetype": "text/x-python",
   "name": "python",
   "nbconvert_exporter": "python",
   "pygments_lexer": "ipython3",
   "version": "3.10.7"
  },
  "vscode": {
   "interpreter": {
    "hash": "fbc768028c3e6ead51d9a200ddcb2ec858ae62844dcd1994729a8279be9b48f2"
   }
  }
 },
 "nbformat": 4,
 "nbformat_minor": 5
}
