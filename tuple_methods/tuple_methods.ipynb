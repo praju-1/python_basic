{
 "cells": [
  {
   "cell_type": "markdown",
   "id": "32faff69",
   "metadata": {},
   "source": [
    "# Tuple Methods"
   ]
  },
  {
   "cell_type": "markdown",
   "id": "1bf56658",
   "metadata": {},
   "source": [
    "Tuple have only 2 methods : \n",
    "1. count()\t\n",
    "2. index()\t"
   ]
  },
  {
   "cell_type": "markdown",
   "id": "b9599f7a",
   "metadata": {},
   "source": [
    "# 1. count():"
   ]
  },
  {
   "cell_type": "markdown",
   "id": "23ff83cb",
   "metadata": {},
   "source": [
    "Returns the number of times a specified value occurs in a tuple"
   ]
  },
  {
   "cell_type": "code",
   "execution_count": 7,
   "id": "f6804de8",
   "metadata": {},
   "outputs": [
    {
     "name": "stdout",
     "output_type": "stream",
     "text": [
      "\n",
      "Given Tuple :  ('Bakula', 'Gopi', 'Mahashweta', 2022, 'Bakula', 45, 'Bakula')\n",
      "\n",
      "Count of the element is :  3\n"
     ]
    }
   ],
   "source": [
    "try:\n",
    "    tuple1 = (\"Bakula\", \"Gopi\", \"Mahashweta\", 2022, \"Bakula\", 45, \"Bakula\")\n",
    "    def count_element_of_tuple(a : tuple, element : any):\n",
    "        \"This function return count of element from tuple\"\n",
    "        try:\n",
    "            print(\"\\nGiven Tuple : \", a)\n",
    "            x = a.count(element)\n",
    "            print(\"\\nCount of the element is : \", x)\n",
    "        except Exception as e:\n",
    "            print(e)\n",
    "        \n",
    "    count_element_of_tuple(tuple1, \"Bakula\")\n",
    "except Exception as e:\n",
    "    print(e)"
   ]
  },
  {
   "cell_type": "markdown",
   "id": "a077fc35",
   "metadata": {},
   "source": [
    "# 2. index() : "
   ]
  },
  {
   "cell_type": "markdown",
   "id": "6df0bfa7",
   "metadata": {},
   "source": [
    "Searches the tuple for a specified value and returns the position of where it was found"
   ]
  },
  {
   "cell_type": "code",
   "execution_count": 20,
   "id": "92188b22",
   "metadata": {},
   "outputs": [
    {
     "name": "stdout",
     "output_type": "stream",
     "text": [
      "\n",
      "Given Tuple :  ('Bakula', 'Gopi', 'Mahashweta', 2022, 'Bakula', 45, 'Bakula')\n",
      "\n",
      "Index of the element is :  0\n"
     ]
    }
   ],
   "source": [
    "try:\n",
    "    tuple1 = (\"Bakula\", \"Gopi\", \"Mahashweta\", 2022, \"Bakula\", 45, \"Bakula\")\n",
    "    def index_of_element(a : tuple, element : any):\n",
    "        \"This function return count of element from tuple\"\n",
    "        try:\n",
    "            print(\"\\nGiven Tuple : \", a)\n",
    "            x = a.index(element)\n",
    "            print(\"\\nIndex of the element is : \", x)\n",
    "        except Exception as e:\n",
    "            print(e)\n",
    "        \n",
    "    index_of_element(tuple1, \"Bakula\")\n",
    "except Exception as e:\n",
    "    print(e)"
   ]
  },
  {
   "cell_type": "markdown",
   "id": "f331bf94",
   "metadata": {},
   "source": [
    "# * index () method with start and end parameter :"
   ]
  },
  {
   "cell_type": "markdown",
   "id": "6b01a329",
   "metadata": {},
   "source": [
    "1. start: The starting index from where the searching is started\n",
    "2. end : The ending index till where the searching is done\n",
    "* This method raises a ValueError if the element is not found in the tuple."
   ]
  },
  {
   "cell_type": "code",
   "execution_count": 18,
   "id": "0d0a69a6",
   "metadata": {},
   "outputs": [
    {
     "name": "stdout",
     "output_type": "stream",
     "text": [
      "\n",
      "Given Tuple :  (0, 1, 2, 3, 2, 3, 1, 3, 2)\n",
      "\n",
      "Index of the element is :  6\n"
     ]
    }
   ],
   "source": [
    "try:\n",
    "    tuple1 = (0, 1, 2, 3, 2, 3, 1, 3, 2)\n",
    "    def index_of_tuple(a : tuple, start : any, end : any):\n",
    "        \"This function return index of element from tuple\"\n",
    "        try:\n",
    "            print(\"\\nGiven Tuple : \", a)\n",
    "            x = a.index(start, end)\n",
    "            print(\"\\nIndex of the element is : \", x)\n",
    "        except Exception as e:\n",
    "            print(e)\n",
    "        \n",
    "    index_of_tuple(tuple1, 1, 3)\n",
    "except Exception as e:\n",
    "    print(e)"
   ]
  },
  {
   "cell_type": "markdown",
   "id": "c0372207",
   "metadata": {},
   "source": [
    "* Below code take input from user"
   ]
  },
  {
   "cell_type": "code",
   "execution_count": 2,
   "id": "9987e466",
   "metadata": {},
   "outputs": [
    {
     "name": "stdout",
     "output_type": "stream",
     "text": [
      "Enter element : Gopi\n",
      "\n",
      "Given Tuple :  ('Bakula', 'Gopi', 'Mahashweta', 2022, 'Bakula', 45, 'Bakula')\n",
      "\n",
      "Count of the element is :  1\n"
     ]
    }
   ],
   "source": [
    "try:\n",
    "    tuple1 = (\"Bakula\", \"Gopi\", \"Mahashweta\", 2022, \"Bakula\", 45, \"Bakula\")\n",
    "    element = input(\"Enter element : \")\n",
    "    def count_element_of_tuple(a : tuple, start : any, end : any):\n",
    "        \"This function return count of element from tuple\"\n",
    "        try:\n",
    "            print(\"\\nGiven Tuple : \", a)\n",
    "            x = a.index(element, start, end)\n",
    "            print(\"\\nCount of the element is : \", x)\n",
    "        except Exception as e:\n",
    "            print(e)\n",
    "        \n",
    "    count_element_of_tuple(tuple1, 1, 5)\n",
    "except Exception as e:\n",
    "    print(e)"
   ]
  }
 ],
 "metadata": {
  "kernelspec": {
   "display_name": "Python 3 (ipykernel)",
   "language": "python",
   "name": "python3"
  },
  "language_info": {
   "codemirror_mode": {
    "name": "ipython",
    "version": 3
   },
   "file_extension": ".py",
   "mimetype": "text/x-python",
   "name": "python",
   "nbconvert_exporter": "python",
   "pygments_lexer": "ipython3",
   "version": "3.9.12"
  }
 },
 "nbformat": 4,
 "nbformat_minor": 5
}
