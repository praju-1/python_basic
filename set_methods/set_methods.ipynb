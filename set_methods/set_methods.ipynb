{
 "cells": [
  {
   "cell_type": "markdown",
   "id": "257fe3ea",
   "metadata": {},
   "source": [
    "# Set Methods"
   ]
  },
  {
   "cell_type": "markdown",
   "id": "8e773225",
   "metadata": {},
   "source": [
    "Set include total 20 methods.\n",
    "\n",
    "1. add()\t\n",
    "2. clear()\t\n",
    "3. copy()\t\n",
    "4. difference()\t\n",
    "5. difference_update()\t\n",
    "6. discard()\t\n",
    "7. intersection()\t\n",
    "8. intersection_update()\t\n",
    "9. isdisjoint()\t\n",
    "10. issubset()\t\n",
    "11. issuperset()\t\n",
    "12. pop()\t\n",
    "13. remove()\t\n",
    "14. symmetric_difference()\t\n",
    "15. symmetric_difference_update()\t\n",
    "16. union()\n",
    "17. update()\n",
    "18. len()\n",
    "19. type()\n",
    "20. frozenset()"
   ]
  },
  {
   "cell_type": "markdown",
   "id": "4c272a92",
   "metadata": {},
   "source": [
    "# 1. add() :"
   ]
  },
  {
   "cell_type": "markdown",
   "id": "859a3960",
   "metadata": {},
   "source": [
    "This method Adds an element to the set"
   ]
  },
  {
   "cell_type": "code",
   "execution_count": 3,
   "id": "7a84a7f4",
   "metadata": {},
   "outputs": [
    {
     "name": "stdout",
     "output_type": "stream",
     "text": [
      "Enter item you want to add: Muskmelon\n",
      "\n",
      "Given set of Fruits is :  {'Pineapple', 'Mango', 'Watermelon', 'Apple', 'Cherry'}\n",
      "\n",
      "Set after adding element :  {'Muskmelon', 'Pineapple', 'Mango', 'Watermelon', 'Apple', 'Cherry'}\n"
     ]
    }
   ],
   "source": [
    "try:\n",
    "    fruits = {\"Apple\", \"Cherry\", \"Pineapple\", \"Watermelon\", \"Mango\"}\n",
    "    new = input(\"Enter item you want to add: \")\n",
    "    def add_element_to_set(items : set, element : str):\n",
    "        \"This function will add item to the set\"\n",
    "        try:\n",
    "            print(\"\\nGiven set of Fruits is : \", items)\n",
    "            items.add(element)\n",
    "            print(\"\\nSet after adding element : \", items)\n",
    "        except Exception as e:\n",
    "            print(e)\n",
    "        \n",
    "    add_element_to_set(fruits, new)\n",
    "except Exception as e:\n",
    "    print(e)"
   ]
  },
  {
   "cell_type": "markdown",
   "id": "7c0c779f",
   "metadata": {},
   "source": [
    "# 2. clear() : "
   ]
  },
  {
   "cell_type": "markdown",
   "id": "60b8fb86",
   "metadata": {},
   "source": [
    "This method Removes all the elements from the set"
   ]
  },
  {
   "cell_type": "code",
   "execution_count": 5,
   "id": "9f639bb0",
   "metadata": {},
   "outputs": [
    {
     "name": "stdout",
     "output_type": "stream",
     "text": [
      "\n",
      "Given set of Fruits is :  {'Pineapple', 'Mango', 'Watermelon', 'Apple', 'Cherry'}\n",
      "\n",
      "Set after clear method :  set()\n"
     ]
    }
   ],
   "source": [
    "try:\n",
    "    fruits = {\"Apple\", \"Cherry\", \"Pineapple\", \"Watermelon\", \"Mango\"}\n",
    "    def clear_set(items : set):\n",
    "        \"This function remove all item from set\"\n",
    "        try:\n",
    "            print(\"\\nGiven set of Fruits is : \", items)\n",
    "            items.clear()\n",
    "            print(\"\\nSet after clear method : \", items)\n",
    "        except Exception as e:\n",
    "            print(e)\n",
    "        \n",
    "    clear_set(fruits)\n",
    "except Exception as e:\n",
    "    print(e)"
   ]
  },
  {
   "cell_type": "markdown",
   "id": "1c62ce25",
   "metadata": {},
   "source": [
    "# 3. copy() : "
   ]
  },
  {
   "cell_type": "markdown",
   "id": "fcedf600",
   "metadata": {},
   "source": [
    "This method Returns a copy of the set"
   ]
  },
  {
   "cell_type": "code",
   "execution_count": 7,
   "id": "59d7ed23",
   "metadata": {},
   "outputs": [
    {
     "name": "stdout",
     "output_type": "stream",
     "text": [
      "\n",
      "Given set of Fruits is :  {'Pineapple', 'Mango', 'Watermelon', 'Apple', 'Cherry'}\n",
      "\n",
      "Copy of set Fruits is  :  {'Pineapple', 'Mango', 'Watermelon', 'Apple', 'Cherry'}\n"
     ]
    }
   ],
   "source": [
    "try:\n",
    "    fruits = {\"Apple\", \"Cherry\", \"Pineapple\", \"Watermelon\", \"Mango\"}\n",
    "    def copy_set(items : set):\n",
    "        \"This function copy item from one to another\"\n",
    "        try:\n",
    "            print(\"\\nGiven set of Fruits is : \", items)\n",
    "            x = items.copy()\n",
    "            print(\"\\nCopy of set Fruits is  : \", x)\n",
    "        except Exception as e:\n",
    "            print(e)\n",
    "        \n",
    "    copy_set(fruits)\n",
    "except Exception as e:\n",
    "    print(e)"
   ]
  },
  {
   "cell_type": "markdown",
   "id": "28bf7970",
   "metadata": {},
   "source": [
    "# 4. difference() :"
   ]
  },
  {
   "cell_type": "markdown",
   "id": "4519e712",
   "metadata": {},
   "source": [
    "This method Returns a set containing the difference between two or more sets"
   ]
  },
  {
   "cell_type": "code",
   "execution_count": 19,
   "id": "f436da0a",
   "metadata": {},
   "outputs": [
    {
     "name": "stdout",
     "output_type": "stream",
     "text": [
      "\n",
      "First set of Fruits is :  {'Pineapple', 'Mango', 'Watermelon', 'Apple', 'Cherry'}\n",
      "\n",
      "Second set of Fruits is :  {'Grapes', 'Coconut', 'Apple', 'Pineapple'}\n",
      "\n",
      "Diffrenece between sets are  :  {'Mango', 'Watermelon', 'Cherry'}\n",
      "\n",
      "Differenece between sets are  :  {'Grapes', 'Coconut'}\n"
     ]
    }
   ],
   "source": [
    "try:\n",
    "    fruits = {\"Apple\", \"Cherry\", \"Pineapple\", \"Watermelon\", \"Mango\"}\n",
    "    fruits1 = {\"Apple\", \"Coconut\", \"Pineapple\", \"Grapes\"}\n",
    "    def difference_of_set(items : set, items1 : set):\n",
    "        \"This function return difference between two sets \"\n",
    "        try:\n",
    "            print(\"\\nFirst set of Fruits is : \", items)\n",
    "            print(\"\\nSecond set of Fruits is : \", items1)\n",
    "            \n",
    "            # returns items present only in set fruits\n",
    "            x = items.difference(items1)\n",
    "            print(\"\\nDiffrenece between sets are  : \", x)\n",
    "            \n",
    "            # returns items present only in set fruits1\n",
    "            y = items1.difference(items)\n",
    "            print(\"\\nDifferenece between sets are  : \", y)\n",
    "        except Exception as e:\n",
    "            print(e)\n",
    "        \n",
    "    difference_of_set(fruits, fruits1)\n",
    "except Exception as e:\n",
    "    print(e)"
   ]
  },
  {
   "cell_type": "markdown",
   "id": "8ee610fc",
   "metadata": {},
   "source": [
    "# 5. difference_update() :"
   ]
  },
  {
   "cell_type": "markdown",
   "id": "6dd2d9d0",
   "metadata": {},
   "source": [
    "This method Removes the items in this set that are also included in another, specified set"
   ]
  },
  {
   "cell_type": "code",
   "execution_count": 24,
   "id": "b72103fb",
   "metadata": {},
   "outputs": [
    {
     "name": "stdout",
     "output_type": "stream",
     "text": [
      "\n",
      "First set of Fruits is :  {'Pineapple', 'Mango', 'Watermelon', 'Apple', 'Cherry'}\n",
      "\n",
      "Second set of Fruits is :  {'Grapes', 'Coconut', 'Apple', 'Pineapple'}\n",
      "\n",
      "Updated set is  :  {'Mango', 'Watermelon', 'Cherry'}\n"
     ]
    }
   ],
   "source": [
    "try:\n",
    "    fruits = {\"Apple\", \"Cherry\", \"Pineapple\", \"Watermelon\", \"Mango\"}\n",
    "    fruits1 = {\"Apple\", \"Coconut\", \"Pineapple\", \"Grapes\"}\n",
    "    def difference_update_of_set(items : set, items1 : set):\n",
    "        \"This function computes the difference between two set and updates set fruits with the resulting set.\"\n",
    "        try:\n",
    "            print(\"\\nFirst set of Fruits is : \", items)\n",
    "            print(\"\\nSecond set of Fruits is : \", items1)\n",
    "            \n",
    "            #computes fruits - fruits1 and updates fruits with the resulting set\n",
    "            items.difference_update(items1)\n",
    "    \n",
    "            print(\"\\nUpdated set is  : \", items)\n",
    "        except Exception as e:\n",
    "            print(e)\n",
    "        \n",
    "    difference_update_of_set(fruits, fruits1)\n",
    "except Exception as e:\n",
    "    print(e)"
   ]
  },
  {
   "cell_type": "markdown",
   "id": "5a52bcee",
   "metadata": {},
   "source": [
    "# 6. discard() :"
   ]
  },
  {
   "cell_type": "markdown",
   "id": "5dff9c76",
   "metadata": {},
   "source": [
    "This method Remove the specified item"
   ]
  },
  {
   "cell_type": "code",
   "execution_count": 25,
   "id": "0795ad0f",
   "metadata": {},
   "outputs": [
    {
     "name": "stdout",
     "output_type": "stream",
     "text": [
      "Enter item you want to remove : Cherry\n",
      "\n",
      "Set of Fruits is :  {'Pineapple', 'Mango', 'Watermelon', 'Apple', 'Cherry'}\n",
      "\n",
      "Set after removal of item  :  {'Pineapple', 'Mango', 'Watermelon', 'Apple'}\n"
     ]
    }
   ],
   "source": [
    "try:\n",
    "    fruits = {\"Apple\", \"Cherry\", \"Pineapple\", \"Watermelon\", \"Mango\"}\n",
    "    val = input(\"Enter item you want to remove : \")\n",
    "    def remove_item_from_set(items : set, v : str):\n",
    "        \"This function remove specified item from set.\"\n",
    "        try:\n",
    "            print(\"\\nSet of Fruits is : \", items)\n",
    "            items.discard(v)\n",
    "            print(\"\\nSet after removal of item  : \", items)\n",
    "        except Exception as e:\n",
    "            print(e)\n",
    "        \n",
    "    remove_item_from_set(fruits, val)\n",
    "except Exception as e:\n",
    "    print(e)"
   ]
  },
  {
   "cell_type": "markdown",
   "id": "df3a253e",
   "metadata": {},
   "source": [
    "# 7. intersection() :"
   ]
  },
  {
   "cell_type": "markdown",
   "id": "a8503225",
   "metadata": {},
   "source": [
    "This method Returns a set, that is the intersection of two or more sets"
   ]
  },
  {
   "cell_type": "code",
   "execution_count": 27,
   "id": "f25b7fcb",
   "metadata": {},
   "outputs": [
    {
     "name": "stdout",
     "output_type": "stream",
     "text": [
      "\n",
      "First set of Fruits is :  {'Pineapple', 'Mango', 'Watermelon', 'Apple', 'Cherry'}\n",
      "\n",
      "Second set of Fruits is :  {'Grapes', 'Coconut', 'Apple', 'Pineapple'}\n",
      "\n",
      "Intersection of sets is :  {'Apple', 'Pineapple'}\n"
     ]
    }
   ],
   "source": [
    "try:\n",
    "    fruits = {\"Apple\", \"Cherry\", \"Pineapple\", \"Watermelon\", \"Mango\"}\n",
    "    fruits1 = {\"Apple\", \"Coconut\", \"Pineapple\", \"Grapes\"}\n",
    "    def intersection_of_sets(items : set, items1 : set):\n",
    "        \"This function Return a set that contains the items that exist in both set fruits, and set fruits1.\"\n",
    "        try:\n",
    "            print(\"\\nFirst set of Fruits is : \", items)\n",
    "            print(\"\\nSecond set of Fruits is : \", items1)\n",
    "            \n",
    "            x =items.intersection(items1)\n",
    "            print(\"\\nIntersection of sets is : \", x)\n",
    "        except Exception as e:\n",
    "            print(e)\n",
    "        \n",
    "    intersection_of_sets(fruits, fruits1)\n",
    "except Exception as e:\n",
    "    print(e)"
   ]
  },
  {
   "cell_type": "markdown",
   "id": "a1212a64",
   "metadata": {},
   "source": [
    "# 8. intersection_update() :"
   ]
  },
  {
   "cell_type": "markdown",
   "id": "2e945226",
   "metadata": {},
   "source": [
    "This method Removes the items in this set that are not present in other, specified set(s)"
   ]
  },
  {
   "cell_type": "code",
   "execution_count": 3,
   "id": "0bd8e8ba",
   "metadata": {},
   "outputs": [
    {
     "name": "stdout",
     "output_type": "stream",
     "text": [
      "\n",
      "First set of Fruits is :  {'Apple', 'Cherry'}\n",
      "\n",
      "Second set of Fruits is :  {'Apple', 'Grapes', 'Coconut', 'Pineapple'}\n",
      "\n",
      "Intersection update of sets is :  {'Apple'}\n"
     ]
    }
   ],
   "source": [
    "try:\n",
    "    fruits = {\"Apple\", \"Cherry\"}\n",
    "    fruits1 = {\"Apple\", \"Coconut\", \"Pineapple\", \"Grapes\"}\n",
    "    def intersection_update_sets(items : set, items1 : set):\n",
    "        \"This function Remove the items that is not present in both fruits and fruits1.\"\n",
    "        try:\n",
    "            print(\"\\nFirst set of Fruits is : \", items)\n",
    "            print(\"\\nSecond set of Fruits is : \", items1)\n",
    "            \n",
    "            x =items.intersection_update(items1)\n",
    "            print(\"\\nIntersection update of sets is : \", items)\n",
    "        except Exception as e:\n",
    "            print(e)\n",
    "        \n",
    "    intersection_update_sets(fruits, fruits1)\n",
    "except Exception as e:\n",
    "    print(e)"
   ]
  },
  {
   "cell_type": "markdown",
   "id": "e9bcfc8d",
   "metadata": {},
   "source": [
    "# 9. isdisjoint() :"
   ]
  },
  {
   "cell_type": "markdown",
   "id": "b69fd751",
   "metadata": {},
   "source": [
    "This method Returns whether two sets have a intersection or not"
   ]
  },
  {
   "cell_type": "code",
   "execution_count": 32,
   "id": "17f50a2c",
   "metadata": {},
   "outputs": [
    {
     "name": "stdout",
     "output_type": "stream",
     "text": [
      "\n",
      "First set of Fruits is :  {'Pineapple', 'Mango', 'Watermelon', 'Apple', 'Cherry'}\n",
      "\n",
      "Second set of Fruits is :  {'Grapes', 'Coconut'}\n",
      "\n",
      "Result of this method is :  True\n"
     ]
    }
   ],
   "source": [
    "try:\n",
    "    fruits = {\"Apple\", \"Cherry\", \"Pineapple\", \"Watermelon\", \"Mango\"}\n",
    "    fruits1 = {\"Coconut\",\"Grapes\"}\n",
    "    def disjoint_sets(items : set, items1 : set):\n",
    "        \"This function Return True if no items in set fruits is present in set fruits1\"\n",
    "        try:\n",
    "            print(\"\\nFirst set of Fruits is : \", items)\n",
    "            print(\"\\nSecond set of Fruits is : \", items1)\n",
    "            \n",
    "            x =items.isdisjoint(items1)\n",
    "            print(\"\\nResult of this method is : \", x)\n",
    "        except Exception as e:\n",
    "            print(e)\n",
    "        \n",
    "    disjoint_sets(fruits, fruits1)\n",
    "except Exception as e:\n",
    "    print(e)"
   ]
  },
  {
   "cell_type": "markdown",
   "id": "7f48eb48",
   "metadata": {},
   "source": [
    "# 10. issubset() :"
   ]
  },
  {
   "cell_type": "markdown",
   "id": "9b969a60",
   "metadata": {},
   "source": [
    "This method Returns whether another set contains this set or not"
   ]
  },
  {
   "cell_type": "code",
   "execution_count": 36,
   "id": "ea2e761f",
   "metadata": {},
   "outputs": [
    {
     "name": "stdout",
     "output_type": "stream",
     "text": [
      "\n",
      "First set of Fruits is :  {'Pineapple', 'Mango', 'Watermelon', 'Apple', 'Cherry'}\n",
      "\n",
      "Second set of Fruits is :  {'Grapes', 'Pineapple', 'Mango', 'Watermelon', 'Coconut', 'Cherry', 'Apple'}\n",
      "\n",
      "Is both sets are subset of each other ?  :  True\n"
     ]
    }
   ],
   "source": [
    "try:\n",
    "    fruits = {\"Apple\", \"Cherry\", \"Pineapple\", \"Watermelon\", \"Mango\"}\n",
    "    fruits1 = {\"Apple\", \"Coconut\", \"Pineapple\", \"Grapes\", \"Cherry\", \"Watermelon\", \"Mango\" }\n",
    "    def check_subset_sets(items : set, items1 : set):\n",
    "        \"This function Return True if all items in set fruits are present in set fruits1.\"\n",
    "        try:\n",
    "            print(\"\\nFirst set of Fruits is : \", items)\n",
    "            print(\"\\nSecond set of Fruits is : \", items1)\n",
    "            \n",
    "            x =items.issubset(items1)\n",
    "            print(\"\\nIs both sets are subset of each other ?  : \", x)\n",
    "        except Exception as e:\n",
    "            print(e)\n",
    "        \n",
    "    check_subset_sets(fruits, fruits1)\n",
    "except Exception as e:\n",
    "    print(e)"
   ]
  },
  {
   "cell_type": "markdown",
   "id": "84a3ca44",
   "metadata": {},
   "source": [
    "# 11. issuperset() :"
   ]
  },
  {
   "cell_type": "markdown",
   "id": "c15c7752",
   "metadata": {},
   "source": [
    "This method Returns whether this set contains another set or not"
   ]
  },
  {
   "cell_type": "code",
   "execution_count": 37,
   "id": "d8d8c089",
   "metadata": {},
   "outputs": [
    {
     "name": "stdout",
     "output_type": "stream",
     "text": [
      "\n",
      "First set of Fruits is :  {'Pineapple', 'Mango', 'Watermelon', 'Apple', 'Cherry'}\n",
      "\n",
      "Second set of Fruits is :  {'Grapes', 'Coconut', 'Apple', 'Pineapple'}\n",
      "\n",
      "Intersection update of sets is :  False\n"
     ]
    }
   ],
   "source": [
    "try:\n",
    "    fruits = {\"Apple\", \"Cherry\", \"Pineapple\", \"Watermelon\", \"Mango\"}\n",
    "    fruits1 = {\"Apple\", \"Coconut\", \"Pineapple\", \"Grapes\"}\n",
    "    def check_superset(items : set, items1 : set):\n",
    "        \"This function Return True if all items set fruits1 are present in set fruits\"\n",
    "        try:\n",
    "            print(\"\\nFirst set of Fruits is : \", items)\n",
    "            print(\"\\nSecond set of Fruits is : \", items1)\n",
    "            \n",
    "            x =items.issuperset(items1)\n",
    "            print(\"\\nIntersection update of sets is : \", x)\n",
    "        except Exception as e:\n",
    "            print(e)\n",
    "        \n",
    "    check_superset(fruits, fruits1)\n",
    "except Exception as e:\n",
    "    print(e)"
   ]
  },
  {
   "cell_type": "markdown",
   "id": "e6935926",
   "metadata": {},
   "source": [
    "# 12. pop() :"
   ]
  },
  {
   "cell_type": "markdown",
   "id": "0dcbf5c6",
   "metadata": {},
   "source": [
    "This method Removes an element from the set"
   ]
  },
  {
   "cell_type": "code",
   "execution_count": 39,
   "id": "a04e0b3b",
   "metadata": {},
   "outputs": [
    {
     "name": "stdout",
     "output_type": "stream",
     "text": [
      "\n",
      "First set of Fruits is :  {'Pineapple', 'Mango', 'Watermelon', 'Apple', 'Cherry'}\n",
      "\n",
      "Set after pop method :  {'Mango', 'Watermelon', 'Apple', 'Cherry'}\n"
     ]
    }
   ],
   "source": [
    "try:\n",
    "    fruits = {\"Apple\", \"Cherry\", \"Pineapple\", \"Watermelon\", \"Mango\"}\n",
    "    def remove_element(items : set):\n",
    "        \"This function remove first element of the set\"\n",
    "        try:\n",
    "            print(\"\\nFirst set of Fruits is : \", items) \n",
    "            x =items.pop()\n",
    "            print(\"\\nSet after pop method : \", items)\n",
    "        except Exception as e:\n",
    "            print(e)\n",
    "        \n",
    "    remove_element(fruits)\n",
    "except Exception as e:\n",
    "    print(e)"
   ]
  },
  {
   "cell_type": "markdown",
   "id": "18246fef",
   "metadata": {},
   "source": [
    "# 13. remove():"
   ]
  },
  {
   "cell_type": "markdown",
   "id": "dd3dd98b",
   "metadata": {},
   "source": [
    "This method Removes the specified element"
   ]
  },
  {
   "cell_type": "code",
   "execution_count": 43,
   "id": "8c852dc9",
   "metadata": {},
   "outputs": [
    {
     "name": "stdout",
     "output_type": "stream",
     "text": [
      "Enter element you want to remove : Cherry\n",
      "\n",
      "First set of Fruits is :  {'Pineapple', 'Mango', 'Watermelon', 'Apple', 'Cherry'}\n",
      "\n",
      "Set after remove method :  {'Pineapple', 'Mango', 'Watermelon', 'Apple'}\n"
     ]
    }
   ],
   "source": [
    "try:\n",
    "    fruits = {\"Apple\", \"Cherry\", \"Pineapple\", \"Watermelon\", \"Mango\"}\n",
    "    element = input(\"Enter element you want to remove : \")\n",
    "    def remove_specific_element(items : set, ele : str):\n",
    "        \"This function remove specific element of the set\"\n",
    "        try:\n",
    "            print(\"\\nFirst set of Fruits is : \", items) \n",
    "            x = items.remove(ele)\n",
    "            print(\"\\nSet after remove method : \", items)\n",
    "        except Exception as e:\n",
    "            print(e)\n",
    "        \n",
    "    remove_specific_element(fruits, element)\n",
    "except Exception as e:\n",
    "    print(e)"
   ]
  },
  {
   "cell_type": "markdown",
   "id": "a63e4395",
   "metadata": {},
   "source": [
    "# 14. symmetric_difference() :"
   ]
  },
  {
   "cell_type": "markdown",
   "id": "2d697eff",
   "metadata": {},
   "source": [
    "This method Returns a set with the symmetric differences of two sets"
   ]
  },
  {
   "cell_type": "code",
   "execution_count": 45,
   "id": "08f79ac5",
   "metadata": {},
   "outputs": [
    {
     "name": "stdout",
     "output_type": "stream",
     "text": [
      "\n",
      "First set of Fruits is :  {'Pineapple', 'Mango', 'Watermelon', 'Apple', 'Cherry'}\n",
      "\n",
      "Second set of Fruits is :  {'Grapes', 'Coconut', 'Apple', 'Pineapple'}\n",
      "\n",
      "Symmetric difference of sets is :  {'Mango', 'Coconut', 'Watermelon', 'Cherry', 'Grapes'}\n"
     ]
    }
   ],
   "source": [
    "try:\n",
    "    fruits = {\"Apple\", \"Cherry\", \"Pineapple\", \"Watermelon\", \"Mango\"}\n",
    "    fruits1 = {\"Apple\", \"Coconut\", \"Pineapple\", \"Grapes\"}\n",
    "    def symmetric_differnce(items : set, items1 : set):\n",
    "        \"This function Return a set that contains all items from both sets, except items that are present in both sets\"\n",
    "        try:\n",
    "            print(\"\\nFirst set of Fruits is : \", items)\n",
    "            print(\"\\nSecond set of Fruits is : \", items1)\n",
    "            \n",
    "            x =items.symmetric_difference(items1)\n",
    "            print(\"\\nSymmetric difference of sets is : \", x)\n",
    "        except Exception as e:\n",
    "            print(e)\n",
    "        \n",
    "    symmetric_differnce(fruits, fruits1)\n",
    "except Exception as e:\n",
    "    print(e)"
   ]
  },
  {
   "cell_type": "markdown",
   "id": "d61c840c",
   "metadata": {},
   "source": [
    "# 15. symmetric_difference_update() :"
   ]
  },
  {
   "cell_type": "markdown",
   "id": "89b6a6b9",
   "metadata": {},
   "source": [
    "This method inserts the symmetric differences from this set and another"
   ]
  },
  {
   "cell_type": "code",
   "execution_count": 47,
   "id": "d1842cd4",
   "metadata": {},
   "outputs": [
    {
     "name": "stdout",
     "output_type": "stream",
     "text": [
      "\n",
      "First set of Fruits is :  {'Pineapple', 'Mango', 'Watermelon', 'Apple', 'Cherry'}\n",
      "\n",
      "Second set of Fruits is :  {'Grapes', 'Coconut', 'Apple', 'Pineapple'}\n",
      "\n",
      "Symmetric difference of sets is :  {'Mango', 'Coconut', 'Watermelon', 'Cherry', 'Grapes'}\n"
     ]
    }
   ],
   "source": [
    "try:\n",
    "    fruits = {\"Apple\", \"Cherry\", \"Pineapple\", \"Watermelon\", \"Mango\"}\n",
    "    fruits1 = {\"Apple\", \"Coconut\", \"Pineapple\", \"Grapes\"}\n",
    "    def symmetric_differnce_update(items : set, items1 : set):\n",
    "        \"This function Return a set that contains all items from both sets, except items that are present in both sets\"\n",
    "        try:\n",
    "            print(\"\\nFirst set of Fruits is : \", items)\n",
    "            print(\"\\nSecond set of Fruits is : \", items1)\n",
    "            \n",
    "            x =items.symmetric_difference(items1)\n",
    "            print(\"\\nSymmetric difference of sets is : \", x)\n",
    "        except Exception as e:\n",
    "            print(e)\n",
    "        \n",
    "    symmetric_differnce_update(fruits, fruits1)\n",
    "except Exception as e:\n",
    "    print(e)"
   ]
  },
  {
   "cell_type": "markdown",
   "id": "da0b2bbc",
   "metadata": {},
   "source": [
    "# 16. union() :"
   ]
  },
  {
   "cell_type": "markdown",
   "id": "dfb40b45",
   "metadata": {},
   "source": [
    "This method return a set containing the union of sets"
   ]
  },
  {
   "cell_type": "code",
   "execution_count": 48,
   "id": "39d22701",
   "metadata": {},
   "outputs": [
    {
     "name": "stdout",
     "output_type": "stream",
     "text": [
      "\n",
      "First set of Fruits is :  {'Pineapple', 'Mango', 'Watermelon', 'Apple', 'Cherry'}\n",
      "\n",
      "Second set of Fruits is :  {'Grapes', 'Coconut', 'Apple', 'Pineapple'}\n",
      "\n",
      "Union of two sets is :  {'Mango', 'Watermelon', 'Apple', 'Cherry', 'Coconut', 'Grapes', 'Pineapple'}\n"
     ]
    }
   ],
   "source": [
    "try:\n",
    "    fruits = {\"Apple\", \"Cherry\", \"Pineapple\", \"Watermelon\", \"Mango\"}\n",
    "    fruits1 = {\"Apple\", \"Coconut\", \"Pineapple\", \"Grapes\"}\n",
    "    def union_of_sets(items : set, items1 : set):\n",
    "        \"This function Return union of two sets\"\n",
    "        try:\n",
    "            print(\"\\nFirst set of Fruits is : \", items)\n",
    "            print(\"\\nSecond set of Fruits is : \", items1)\n",
    "            \n",
    "            x =items.union(items1)\n",
    "            print(\"\\nUnion of two sets is : \", x)\n",
    "        except Exception as e:\n",
    "            print(e)\n",
    "        \n",
    "    union_of_sets(fruits, fruits1)\n",
    "except Exception as e:\n",
    "    print(e)"
   ]
  },
  {
   "cell_type": "markdown",
   "id": "4c24db10",
   "metadata": {},
   "source": [
    "# 17. update() :"
   ]
  },
  {
   "cell_type": "markdown",
   "id": "8e91a79e",
   "metadata": {},
   "source": [
    "This method Update the set with another set, or any other iterable"
   ]
  },
  {
   "cell_type": "code",
   "execution_count": 50,
   "id": "973412f3",
   "metadata": {},
   "outputs": [
    {
     "name": "stdout",
     "output_type": "stream",
     "text": [
      "\n",
      "First set of Fruits is :  {'Pineapple', 'Mango', 'Watermelon', 'Apple', 'Cherry'}\n",
      "\n",
      "Second set of Fruits is :  {'Grapes', 'Coconut', 'Apple', 'Pineapple'}\n",
      "\n",
      "Updated set is :  {'Mango', 'Watermelon', 'Apple', 'Cherry', 'Coconut', 'Grapes', 'Pineapple'}\n"
     ]
    }
   ],
   "source": [
    "try:\n",
    "    fruits = {\"Apple\", \"Cherry\", \"Pineapple\", \"Watermelon\", \"Mango\"}\n",
    "    fruits1 = {\"Apple\", \"Coconut\", \"Pineapple\", \"Grapes\"}\n",
    "    def update_sets(items : set, items1 : set):\n",
    "        \"This function update set with another one\"\n",
    "        try:\n",
    "            print(\"\\nFirst set of Fruits is : \", items)\n",
    "            print(\"\\nSecond set of Fruits is : \", items1)\n",
    "            \n",
    "            items.update(items1)\n",
    "            print(\"\\nUpdated set is : \", items)\n",
    "        except Exception as e:\n",
    "            print(e)\n",
    "        \n",
    "    update_sets(fruits, fruits1)\n",
    "except Exception as e:\n",
    "    print(e)"
   ]
  },
  {
   "cell_type": "markdown",
   "id": "10a30079",
   "metadata": {},
   "source": [
    "# 18. len() :"
   ]
  },
  {
   "cell_type": "markdown",
   "id": "6639d9f3",
   "metadata": {},
   "source": [
    "This method gives length of the set."
   ]
  },
  {
   "cell_type": "code",
   "execution_count": 52,
   "id": "7855f046",
   "metadata": {},
   "outputs": [
    {
     "name": "stdout",
     "output_type": "stream",
     "text": [
      "\n",
      "Set of Fruits is :  {'Pineapple', 'Mango', 'Watermelon', 'Apple', 'Cherry'}\n",
      "\n",
      "Length of given set is :  5\n"
     ]
    }
   ],
   "source": [
    "try:\n",
    "    fruits = {\"Apple\", \"Cherry\", \"Pineapple\", \"Watermelon\", \"Mango\"}\n",
    "    \n",
    "    def length_of_set(items : set):\n",
    "        \"This function return length of the set.\"\n",
    "        try:\n",
    "            print(\"\\nSet of Fruits is : \", items)\n",
    "            x = len(items)\n",
    "            print(\"\\nLength of given set is : \", x)\n",
    "        except Exception as e:\n",
    "            print(e)\n",
    "        \n",
    "    length_of_set(fruits)\n",
    "except Exception as e:\n",
    "    print(e)"
   ]
  },
  {
   "cell_type": "markdown",
   "id": "b1b8bdf8",
   "metadata": {},
   "source": [
    "# 19. type() :"
   ]
  },
  {
   "cell_type": "markdown",
   "id": "0f174c57",
   "metadata": {},
   "source": [
    "This method return the type of elements."
   ]
  },
  {
   "cell_type": "code",
   "execution_count": 53,
   "id": "dcd76731",
   "metadata": {},
   "outputs": [
    {
     "name": "stdout",
     "output_type": "stream",
     "text": [
      "\n",
      "Set of Fruits is :  {'Pineapple', 'Mango', 'Watermelon', 'Apple', 'Cherry'}\n",
      "\n",
      "Type of elemets is :  <class 'set'>\n"
     ]
    }
   ],
   "source": [
    "try:\n",
    "    fruits = {\"Apple\", \"Cherry\", \"Pineapple\", \"Watermelon\", \"Mango\"}\n",
    "    \n",
    "    def type_of_elements(items : set):\n",
    "        \"This function return length of the set.\"\n",
    "        try:\n",
    "            print(\"\\nSet of Fruits is : \", items)\n",
    "            x = type(items)\n",
    "            print(\"\\nType of elemets is : \", x)\n",
    "        except Exception as e:\n",
    "            print(e)\n",
    "        \n",
    "    type_of_elements(fruits)\n",
    "except Exception as e:\n",
    "    print(e)"
   ]
  },
  {
   "cell_type": "markdown",
   "id": "553583b0",
   "metadata": {},
   "source": [
    "# 20. frozenset() :"
   ]
  },
  {
   "cell_type": "markdown",
   "id": "929b814d",
   "metadata": {},
   "source": [
    "This method Return an immutable frozenset object"
   ]
  },
  {
   "cell_type": "code",
   "execution_count": 55,
   "id": "0b80f60b",
   "metadata": {},
   "outputs": [
    {
     "name": "stdout",
     "output_type": "stream",
     "text": [
      "\n",
      "Set of Fruits is :  {'Pineapple', 'Mango', 'Watermelon', 'Apple', 'Cherry'}\n",
      "\n",
      "Set after methods is :  frozenset({'Pineapple', 'Mango', 'Watermelon', 'Apple', 'Cherry'})\n"
     ]
    }
   ],
   "source": [
    "try:\n",
    "    fruits = {\"Apple\", \"Cherry\", \"Pineapple\", \"Watermelon\", \"Mango\"}\n",
    "    \n",
    "    def frozen_set(items : set):\n",
    "        \"This function Freeze the set, and make it unchangeable.\"\n",
    "        try:\n",
    "            print(\"\\nSet of Fruits is : \", items)\n",
    "            x = frozenset(items)\n",
    "            print(\"\\nSet after methods is : \", x)\n",
    "        except Exception as e:\n",
    "            print(e)\n",
    "        \n",
    "    frozen_set(fruits)\n",
    "except Exception as e:\n",
    "    print(e)"
   ]
  }
 ],
 "metadata": {
  "kernelspec": {
   "display_name": "Python 3 (ipykernel)",
   "language": "python",
   "name": "python3"
  },
  "language_info": {
   "codemirror_mode": {
    "name": "ipython",
    "version": 3
   },
   "file_extension": ".py",
   "mimetype": "text/x-python",
   "name": "python",
   "nbconvert_exporter": "python",
   "pygments_lexer": "ipython3",
   "version": "3.9.12"
  }
 },
 "nbformat": 4,
 "nbformat_minor": 5
}
