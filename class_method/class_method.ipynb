{
 "cells": [
  {
   "cell_type": "markdown",
   "id": "6f71cf4c",
   "metadata": {},
   "source": [
    "# Classes in python:"
   ]
  },
  {
   "cell_type": "markdown",
   "id": "3b953c77",
   "metadata": {},
   "source": [
    "* Class of string methods"
   ]
  },
  {
   "cell_type": "code",
   "execution_count": 19,
   "id": "95e5c53b",
   "metadata": {},
   "outputs": [
    {
     "name": "stdout",
     "output_type": "stream",
     "text": [
      "The given string is :  Good Morning\n",
      "\n",
      "Length of given string is :  12\n",
      "\n",
      "Output of center method is :  *******Good Morning******\n",
      "\n",
      "Upper form of given string is : GOOD MORNING\n"
     ]
    }
   ],
   "source": [
    "class string_methods:\n",
    "    \"This class is used for string methods\"\n",
    "    def __init__(self, string, element, character):\n",
    "        self.string = string\n",
    "        self.element = element\n",
    "        self.character = character\n",
    "        \n",
    "    def length_of_string(self):\n",
    "        \"This function is used to get length of string\"\n",
    "        try:\n",
    "            x = len(self.string)\n",
    "            print(\"\\nLength of given string is : \", x)\n",
    "        except Exception as e:\n",
    "            print(e)  \n",
    "        \n",
    "    def string_to_centre(self):\n",
    "        \"This function is used to centralize the string\"\n",
    "        try:\n",
    "            x = self.string.center(self.element, self.character)\n",
    "            print(\"\\nOutput of center method is : \", x)\n",
    "        except Exception as e:\n",
    "            print(e)\n",
    "    \n",
    "    def upper_string(self):\n",
    "        \"This function convert string to upper case.\"\n",
    "        try:\n",
    "            x = self.string.upper()\n",
    "            print(\"\\nUpper form of given string is :\", x)\n",
    "        except Exception as e:\n",
    "            print(e)\n",
    "        \n",
    "        \n",
    "s = string_methods(\"Good Morning\", 25, '*')\n",
    "print(\"The given string is : \", s.string)\n",
    "s.length_of_string()\n",
    "s.string_to_centre()\n",
    "s.upper_string()\n",
    "        "
   ]
  },
  {
   "cell_type": "markdown",
   "id": "3ba8f0da",
   "metadata": {},
   "source": [
    "* Class of the List methods"
   ]
  },
  {
   "cell_type": "code",
   "execution_count": 24,
   "id": "840114de",
   "metadata": {},
   "outputs": [
    {
     "name": "stdout",
     "output_type": "stream",
     "text": [
      "The given list is :  ['Hello', 25, 'Hello', 453, 64, 'Morning']\n",
      "\n",
      "Length of given List is :  6\n",
      "\n",
      "List after appending element :  ['Hello', 25, 'Hello', 453, 64, 'Morning', 100]\n",
      "\n",
      "Count of the element is :  2\n"
     ]
    }
   ],
   "source": [
    "class list_methods:\n",
    "    \"This class is used for list methods\"\n",
    "    def __init__(self, element_list, element, character):\n",
    "        self.element_list = element_list\n",
    "        self.element = element\n",
    "        self.character = character\n",
    "        \n",
    "    def length_of_list(self):\n",
    "        \"This function is used to get length of list\"\n",
    "        try:\n",
    "            x = len(self.element_list)\n",
    "            print(\"\\nLength of given List is : \", x)\n",
    "        except Exception as e:\n",
    "            print(e)  \n",
    "        \n",
    "    def append_element_to_list(self):\n",
    "        \"This function will add item to the list\"\n",
    "        try:\n",
    "            self.element_list.append(self.element)\n",
    "            print(\"\\nList after appending element : \", self.element_list)\n",
    "        except Exception as e:\n",
    "            print(e)\n",
    "    \n",
    "    def count_element_of_list(self):\n",
    "        \"This function return count of element in the list\"\n",
    "        try:\n",
    "            x = self.element_list.count(self.character)\n",
    "            print(\"\\nCount of the element is : \", x)\n",
    "        except Exception as e:\n",
    "            print(e)\n",
    "        \n",
    "        \n",
    "l = list_methods([\"Hello\", 25, \"Hello\", 453, 64, \"Morning\"], 100, \"Hello\")\n",
    "print(\"The given list is : \", l.element_list)\n",
    "l.length_of_list()\n",
    "l.append_element_to_list()\n",
    "l.count_element_of_list()"
   ]
  },
  {
   "cell_type": "markdown",
   "id": "deabcf2b",
   "metadata": {},
   "source": [
    "* List method by user input"
   ]
  },
  {
   "cell_type": "code",
   "execution_count": 1,
   "id": "7f3968d7",
   "metadata": {},
   "outputs": [
    {
     "name": "stdout",
     "output_type": "stream",
     "text": [
      "Enter element for append: 23\n",
      "\n",
      "Enter element to count : 234\n",
      "\n",
      "The given list is :  ['Hello', 25, 'Hello', 453, 64, 'Morning']\n",
      "\n",
      "Length of given List is :  6\n",
      "\n",
      "List after appending element :  ['Hello', 25, 'Hello', 453, 64, 'Morning', '23']\n",
      "\n",
      "Count of the element is :  0\n"
     ]
    }
   ],
   "source": [
    "class list_methods:\n",
    "    \n",
    "    \"This class is used for list methods\"\n",
    "    def __init__(self,  element, character, element_list = [\"Hello\", 25, \"Hello\", 453, 64, \"Morning\"]):\n",
    "        self.list1 = element_list\n",
    "        self.element = element\n",
    "        self.character = character\n",
    "    \n",
    "    @classmethod    \n",
    "    def get_user_input(self):\n",
    "        while 1:\n",
    "            try:\n",
    "                element = input(\"Enter element for append: \")\n",
    "                character = input(\"\\nEnter element to count : \")\n",
    "                return self(element, character)\n",
    "            except:\n",
    "                print('Invalid input!')\n",
    "                continue\n",
    "        \n",
    "    def length_of_list(self):\n",
    "        \"This function is used to get length of list\"\n",
    "        try:\n",
    "            x = len(self.list1)\n",
    "            print(\"\\nLength of given List is : \", x)\n",
    "        except Exception as e:\n",
    "            print(e)  \n",
    "        \n",
    "    def append_element_to_list(self):\n",
    "        \"This function will add item to the list\"\n",
    "        try:\n",
    "            self.list1.append(self.element)\n",
    "            print(\"\\nList after appending element : \", self.list1)\n",
    "        except Exception as e:\n",
    "            print(e)\n",
    "    \n",
    "    def count_element_of_list(self):\n",
    "        \"This function return count of element in the list\"\n",
    "\n",
    "        try:\n",
    "            x = self.list1.count(self.character)\n",
    "            print(\"\\nCount of the element is : \", x)\n",
    "        except Exception as e:\n",
    "            print(e)\n",
    "        \n",
    "        \n",
    "l = list_methods.get_user_input()\n",
    "print(\"\\nThe given list is : \", l.list1)\n",
    "l.length_of_list()\n",
    "l.append_element_to_list()\n",
    "l.count_element_of_list()"
   ]
  }
 ],
 "metadata": {
  "kernelspec": {
   "display_name": "Python 3 (ipykernel)",
   "language": "python",
   "name": "python3"
  },
  "language_info": {
   "codemirror_mode": {
    "name": "ipython",
    "version": 3
   },
   "file_extension": ".py",
   "mimetype": "text/x-python",
   "name": "python",
   "nbconvert_exporter": "python",
   "pygments_lexer": "ipython3",
   "version": "3.9.12"
  }
 },
 "nbformat": 4,
 "nbformat_minor": 5
}
