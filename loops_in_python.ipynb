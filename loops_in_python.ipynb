{
 "cells": [
  {
   "cell_type": "markdown",
   "id": "0fd63278",
   "metadata": {},
   "source": [
    "# Loops in Python"
   ]
  },
  {
   "cell_type": "markdown",
   "id": "d6896a5e",
   "metadata": {},
   "source": [
    "There are two types of loops in python:\n",
    "1. For loop\n",
    "2. While loop"
   ]
  },
  {
   "cell_type": "markdown",
   "id": "4ede9683",
   "metadata": {},
   "source": [
    "# 1. For loop"
   ]
  },
  {
   "cell_type": "markdown",
   "id": "70f9f1a7",
   "metadata": {},
   "source": [
    "\n",
    "A for loop is used for iterating over a sequence (that is either a list, a tuple, a dictionary, a set, or a string).\n"
   ]
  },
  {
   "cell_type": "code",
   "execution_count": 4,
   "id": "a81716aa",
   "metadata": {},
   "outputs": [
    {
     "name": "stdout",
     "output_type": "stream",
     "text": [
      "Python\n",
      "23\n",
      "78.9\n",
      "Hello\n",
      "Morning\n"
     ]
    }
   ],
   "source": [
    "try:\n",
    "    n = [\"Python\", 23, 78.9, \"Hello\", \"Morning\"]\n",
    "    def print_num(num : list):\n",
    "        \"This function print element from collection\"\n",
    "        try:\n",
    "            for i in num:\n",
    "                print(i)\n",
    "        except Exception as e:\n",
    "            print(e)\n",
    "    print_num(n)  \n",
    "except Exception as e:\n",
    "        print(e)"
   ]
  },
  {
   "cell_type": "markdown",
   "id": "52931142",
   "metadata": {},
   "source": [
    "# For loop using range() function : "
   ]
  },
  {
   "cell_type": "markdown",
   "id": "6be54591",
   "metadata": {},
   "source": [
    "range() function we can use it by 3 way : "
   ]
  },
  {
   "cell_type": "markdown",
   "id": "96cef1d8",
   "metadata": {},
   "source": [
    "# 1"
   ]
  },
  {
   "cell_type": "code",
   "execution_count": 5,
   "id": "5b8e7028",
   "metadata": {},
   "outputs": [
    {
     "name": "stdout",
     "output_type": "stream",
     "text": [
      "Enter how many number you want to print : 10\n",
      "0\n",
      "1\n",
      "2\n",
      "3\n",
      "4\n",
      "5\n",
      "6\n",
      "7\n",
      "8\n",
      "9\n"
     ]
    }
   ],
   "source": [
    "try:\n",
    "    n = int(input(\"Enter how many number you want to print : \"))\n",
    "    def print_num_in_range(num : int):\n",
    "        \"This function print element from collection\"\n",
    "        try:\n",
    "            for i in range(num):\n",
    "                print(i)\n",
    "        except Exception as e:\n",
    "            print(e)\n",
    "    print_num_in_range(n)  \n",
    "except Exception as e:\n",
    "        print(e)"
   ]
  },
  {
   "cell_type": "markdown",
   "id": "c2925a30",
   "metadata": {},
   "source": [
    "We can print above code output in single line using end"
   ]
  },
  {
   "cell_type": "code",
   "execution_count": 8,
   "id": "2d2fcdb1",
   "metadata": {},
   "outputs": [
    {
     "name": "stdout",
     "output_type": "stream",
     "text": [
      "Enter how many number you want to print : 10\n",
      "0 1 2 3 4 5 6 7 8 9 "
     ]
    }
   ],
   "source": [
    "try:\n",
    "    n = int(input(\"Enter how many number you want to print : \"))\n",
    "    def print_num_in_range(num : int):\n",
    "        \"This function print element within range\"\n",
    "        try:\n",
    "            for i in range(num):\n",
    "                print(i, end = \" \")\n",
    "        except Exception as e:\n",
    "            print(e)\n",
    "    print_num_in_range(n)  \n",
    "except Exception as e:\n",
    "        print(e)"
   ]
  },
  {
   "cell_type": "markdown",
   "id": "86a02f1c",
   "metadata": {},
   "source": [
    "# 2"
   ]
  },
  {
   "cell_type": "markdown",
   "id": "ee5c099f",
   "metadata": {},
   "source": [
    "range() function with parameters"
   ]
  },
  {
   "cell_type": "code",
   "execution_count": 16,
   "id": "999ae1a7",
   "metadata": {},
   "outputs": [
    {
     "name": "stdout",
     "output_type": "stream",
     "text": [
      "Enter number from which you want start number : 5\n",
      "\n",
      "Enter number upto which you want to print : 15\n",
      "5 6 7 8 9 10 11 12 13 14 "
     ]
    }
   ],
   "source": [
    "try:\n",
    "    n = int(input(\"Enter number from which you want start number : \"))\n",
    "    m = int(input(\"\\nEnter number upto which you want to print : \"))\n",
    "    def within_range(num1 : int, num2 : int):\n",
    "        \"This function print element within specific range\"\n",
    "        try:\n",
    "            for i in range(num1, num2):\n",
    "                print(i, end = \" \")\n",
    "        except Exception as e:\n",
    "            print(e)\n",
    "    within_range(n, m)  \n",
    "except Exception as e:\n",
    "        print(e)"
   ]
  },
  {
   "cell_type": "markdown",
   "id": "9d2d396d",
   "metadata": {},
   "source": [
    "# 3"
   ]
  },
  {
   "cell_type": "markdown",
   "id": "aa8aae7d",
   "metadata": {},
   "source": [
    "range() function with step parameter :\n",
    "It will print element after particular step"
   ]
  },
  {
   "cell_type": "code",
   "execution_count": 17,
   "id": "61c1ea30",
   "metadata": {},
   "outputs": [
    {
     "name": "stdout",
     "output_type": "stream",
     "text": [
      "Enter number from which you want start number : 10\n",
      "\n",
      "Enter number upto which you want to print : 30\n",
      "\n",
      "Enter step you want given : 2\n",
      "10 12 14 16 18 20 22 24 26 28 "
     ]
    }
   ],
   "source": [
    "try:\n",
    "    i = int(input(\"Enter number from which you want start number : \"))\n",
    "    j = int(input(\"\\nEnter number upto which you want to print : \"))\n",
    "    k = int(input(\"\\nEnter step you want given : \"))\n",
    "    def with_step(num1 : int, num2 : int, num3: int):\n",
    "        \"This function print element within specific range after specific step\"\n",
    "        try:\n",
    "            for i in range(num1, num2, num3):\n",
    "                print(i, end = \" \")\n",
    "        except Exception as e:\n",
    "            print(e)\n",
    "    with_step(i, j, k)  \n",
    "except Exception as e:\n",
    "        print(e)"
   ]
  },
  {
   "cell_type": "markdown",
   "id": "c54cff01",
   "metadata": {},
   "source": [
    "# Iterating by the index of sequences: "
   ]
  },
  {
   "cell_type": "markdown",
   "id": "e33e31de",
   "metadata": {},
   "source": [
    "Using len() function"
   ]
  },
  {
   "cell_type": "markdown",
   "id": "3aba3efe",
   "metadata": {},
   "source": [
    "We can also use the index of elements in the sequence to iterate. The key idea is to first calculate the length of the list and in iterate over the sequence within the range of this length"
   ]
  },
  {
   "cell_type": "code",
   "execution_count": 24,
   "id": "ac1d574a",
   "metadata": {},
   "outputs": [
    {
     "name": "stdout",
     "output_type": "stream",
     "text": [
      "Python\n",
      "23\n",
      "78.9\n",
      "Hello\n",
      "Morning\n"
     ]
    }
   ],
   "source": [
    "try:\n",
    "    n = [\"Python\", 23, 78.9, \"Hello\", \"Morning\"]\n",
    "    def print_element(num : list):\n",
    "        \"This function print element from collection according to its length\"\n",
    "        try:\n",
    "            for i in range(len(num)):\n",
    "                print(n[i])\n",
    "        except Exception as e:\n",
    "            print(e)\n",
    "    print_element(n)  \n",
    "except Exception as e:\n",
    "        print(e)"
   ]
  },
  {
   "cell_type": "markdown",
   "id": "c79c847d",
   "metadata": {},
   "source": [
    "# for loop with if statement :"
   ]
  },
  {
   "cell_type": "code",
   "execution_count": 19,
   "id": "0a7dca6c",
   "metadata": {},
   "outputs": [
    {
     "name": "stdout",
     "output_type": "stream",
     "text": [
      "Python\n",
      "23\n"
     ]
    }
   ],
   "source": [
    "try:\n",
    "    n = [\"Python\", 23, 78.9, \"Hello\", \"Morning\"]\n",
    "    def conditional_loop(num : list):\n",
    "        \"This function print till the condition is true\"\n",
    "        try:\n",
    "            for i in num:\n",
    "                print(i)\n",
    "                if i == 23:\n",
    "                    break\n",
    "        except Exception as e:\n",
    "            print(e)\n",
    "    conditional_loop(n)  \n",
    "except Exception as e:\n",
    "        print(e)"
   ]
  },
  {
   "cell_type": "markdown",
   "id": "9513d42d",
   "metadata": {},
   "source": [
    "# for loop with else statement"
   ]
  },
  {
   "cell_type": "markdown",
   "id": "51be3d3d",
   "metadata": {},
   "source": [
    "The else keyword in a for loop specifies a block of code to be executed when the loop is finished:"
   ]
  },
  {
   "cell_type": "code",
   "execution_count": 21,
   "id": "68b133d5",
   "metadata": {},
   "outputs": [
    {
     "name": "stdout",
     "output_type": "stream",
     "text": [
      "Enter how many number you want to print : 5\n",
      "0\n",
      "1\n",
      "2\n",
      "3\n",
      "4\n",
      "\n",
      "Loop is finished now\n"
     ]
    }
   ],
   "source": [
    "try:\n",
    "    n = int(input(\"Enter how many number you want to print : \"))\n",
    "    def else_loop(num : int):\n",
    "        \"This function print message when the loop has ended.\"\n",
    "        try:\n",
    "            for i in range(num):\n",
    "                print(i)\n",
    "            else:\n",
    "                print(\"\\nLoop is finished now\")\n",
    "        except Exception as e:\n",
    "            print(e)\n",
    "    else_loop(n)  \n",
    "except Exception as e:\n",
    "        print(e)"
   ]
  },
  {
   "cell_type": "markdown",
   "id": "2f4a1f55",
   "metadata": {},
   "source": [
    "# Nested loop"
   ]
  },
  {
   "cell_type": "markdown",
   "id": "8152631f",
   "metadata": {},
   "source": [
    "A nested loop is a loop inside the body of the outer loop."
   ]
  },
  {
   "cell_type": "code",
   "execution_count": 28,
   "id": "a09effe2",
   "metadata": {},
   "outputs": [
    {
     "name": "stdout",
     "output_type": "stream",
     "text": [
      "Enter how many number you want to print : 5\n",
      "* \n",
      "* * \n",
      "* * * \n",
      "* * * * \n",
      "* * * * * \n"
     ]
    }
   ],
   "source": [
    "try:\n",
    "    n = int(input(\"Enter how many number you want to print : \"))\n",
    "    def nested_loop(num : int):\n",
    "        \"This function print the specific pattern.\"\n",
    "        try:\n",
    "            # outer loop\n",
    "            for i in range(1, num + 1):\n",
    "            # inner loop\n",
    "                for j in range(1, i + 1):\n",
    "                    print(\"*\", end=\" \")\n",
    "                print('')\n",
    "        except Exception as e:\n",
    "            print(e)\n",
    "    nested_loop(n)  \n",
    "except Exception as e:\n",
    "        print(e)"
   ]
  },
  {
   "cell_type": "markdown",
   "id": "d5865308",
   "metadata": {},
   "source": [
    "# 2. While loop"
   ]
  },
  {
   "cell_type": "code",
   "execution_count": 36,
   "id": "157594ef",
   "metadata": {},
   "outputs": [
    {
     "name": "stdout",
     "output_type": "stream",
     "text": [
      "Enter any number for printing : 4\n",
      "0\n",
      "1\n",
      "2\n",
      "3\n",
      "4\n"
     ]
    }
   ],
   "source": [
    "try:\n",
    "    n = int(input(\"Enter any number for printing : \"))\n",
    "    def printing(num : int):\n",
    "        \"This function print numbers\"\n",
    "        try:\n",
    "            i = 0\n",
    "            while i <= num:\n",
    "                print(i)\n",
    "                i += 1\n",
    "        except Exception as e:\n",
    "            print(e)\n",
    "    printing(n)  \n",
    "except Exception as e:\n",
    "        print(e)"
   ]
  },
  {
   "cell_type": "markdown",
   "id": "4e60a8bf",
   "metadata": {},
   "source": [
    "# while loop using else statement"
   ]
  },
  {
   "cell_type": "markdown",
   "id": "57ec3b4a",
   "metadata": {},
   "source": [
    "The else clause is only executed when your while condition becomes false. If you break out of the loop, or if an exception is raised, it won’t be executed. "
   ]
  },
  {
   "cell_type": "code",
   "execution_count": 37,
   "id": "3860d269",
   "metadata": {},
   "outputs": [
    {
     "name": "stdout",
     "output_type": "stream",
     "text": [
      "Enter any number for printing : 5\n",
      "0\n",
      "1\n",
      "2\n",
      "3\n",
      "4\n",
      "5\n",
      "This is else part\n"
     ]
    }
   ],
   "source": [
    "try:\n",
    "    n = int(input(\"Enter any number for printing : \"))\n",
    "    def printing(num : int):\n",
    "        \"This function execute else block\"\n",
    "        try:\n",
    "            i = 0\n",
    "            while i <= num:\n",
    "                print(i)\n",
    "                i += 1\n",
    "            else:\n",
    "                print(\"This is else part\")\n",
    "        except Exception as e:\n",
    "            print(e)\n",
    "    printing(n)  \n",
    "except Exception as e:\n",
    "        print(e)"
   ]
  }
 ],
 "metadata": {
  "kernelspec": {
   "display_name": "Python 3 (ipykernel)",
   "language": "python",
   "name": "python3"
  },
  "language_info": {
   "codemirror_mode": {
    "name": "ipython",
    "version": 3
   },
   "file_extension": ".py",
   "mimetype": "text/x-python",
   "name": "python",
   "nbconvert_exporter": "python",
   "pygments_lexer": "ipython3",
   "version": "3.9.12"
  }
 },
 "nbformat": 4,
 "nbformat_minor": 5
}
