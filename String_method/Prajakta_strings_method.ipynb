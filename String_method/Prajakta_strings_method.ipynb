{
 "cells": [
  {
   "cell_type": "markdown",
   "id": "5d5b85ba",
   "metadata": {},
   "source": [
    "# String Method"
   ]
  },
  {
   "cell_type": "markdown",
   "id": "ec9f4e61",
   "metadata": {},
   "source": [
    "There are total 46 method in string\n",
    "1. len()\n",
    "2. type()\n",
    "3. capitalize()\t\n",
    "5. center()\t\n",
    "6. count()\n",
    "7. encode()\t\n",
    "8. endswith()\t\n",
    "9. expandtabs()\n",
    "10. find()\t\n",
    "11. format()\t\n",
    "12. format_map()\t\n",
    "13. index()\t\n",
    "14. isalnum()\t\n",
    "15. isalpha()\t\n",
    "16. isascii()\n",
    "17. isdecimal()\t\n",
    "18. isdigit()\n",
    "19. isidentifier()\t\n",
    "20. islower()\n",
    "21. isnumeric()\n",
    "22. isprintable()\t\n",
    "23. isspace()\t\n",
    "24. istitle()\n",
    "25. isupper()\t\n",
    "26. join()\t\n",
    "27. ljust()\n",
    "28. lower()\t\n",
    "29. lstrip()\t\n",
    "30. maketrans()\n",
    "31. partition()\t\n",
    "32. replace()\t\n",
    "33. rfind()\t\n",
    "34. rindex()\t\n",
    "35. rjust()\t\n",
    "36. rpartition()\n",
    "37. rsplit()\t\n",
    "38. rstrip()\t\n",
    "39. split()\t\n",
    "40. splitlines()\n",
    "41. startswith()\t\n",
    "42. strip()\t\n",
    "43. swapcase()\t\n",
    "44. title()\t\n",
    "45. upper()\t\n",
    "46. zfill()\n",
    "47. Escape sequence :"
   ]
  },
  {
   "cell_type": "markdown",
   "id": "634162f8",
   "metadata": {},
   "source": [
    "# 1. len() :"
   ]
  },
  {
   "cell_type": "markdown",
   "id": "46a211b8",
   "metadata": {},
   "source": [
    "This method return length of the string."
   ]
  },
  {
   "cell_type": "code",
   "execution_count": 1,
   "id": "23389e48",
   "metadata": {},
   "outputs": [
    {
     "name": "stdout",
     "output_type": "stream",
     "text": [
      "\n",
      "Given string is :  Whoever is happy will make others happy too.\n",
      "\n",
      "Length of the string is :  44\n"
     ]
    }
   ],
   "source": [
    "try:\n",
    "    quote = \"Whoever is happy will make others happy too.\"\n",
    "  \n",
    "    def length_of_string(line : str):\n",
    "        \"This function return length of string\"\n",
    "        try:\n",
    "            print(\"\\nGiven string is : \", line)\n",
    "            x = len(line)\n",
    "            print(\"\\nLength of the string is : \", x)\n",
    "        except Exception as e:\n",
    "            print(e)\n",
    "        \n",
    "    length_of_string(quote)\n",
    "except Exception as e:\n",
    "    print(e)"
   ]
  },
  {
   "cell_type": "markdown",
   "id": "a8510ed6",
   "metadata": {},
   "source": [
    "# 2. type() : "
   ]
  },
  {
   "cell_type": "markdown",
   "id": "355fe063",
   "metadata": {},
   "source": [
    "This method return type of given input"
   ]
  },
  {
   "cell_type": "code",
   "execution_count": 2,
   "id": "697588c4",
   "metadata": {},
   "outputs": [
    {
     "name": "stdout",
     "output_type": "stream",
     "text": [
      "\n",
      "Given string is :  Whoever is happy will make others happy too.\n",
      "\n",
      "Type of line is :  <class 'str'>\n"
     ]
    }
   ],
   "source": [
    "try:\n",
    "    quote = \"Whoever is happy will make others happy too.\"\n",
    "  \n",
    "    def type_of_lines(line : str):\n",
    "        \"This function return length of string\"\n",
    "        try:\n",
    "            print(\"\\nGiven string is : \", line)\n",
    "            x = type(line)\n",
    "            print(\"\\nType of line is : \", x)\n",
    "        except Exception as e:\n",
    "            print(e)\n",
    "        \n",
    "    type_of_lines(quote)\n",
    "except Exception as e:\n",
    "    print(e)"
   ]
  },
  {
   "cell_type": "markdown",
   "id": "f28d19f2",
   "metadata": {},
   "source": [
    "# 3. capitalize() :"
   ]
  },
  {
   "cell_type": "markdown",
   "id": "d82e176c",
   "metadata": {},
   "source": [
    "This method Converts the first character to upper case"
   ]
  },
  {
   "cell_type": "code",
   "execution_count": 3,
   "id": "98925b0c",
   "metadata": {},
   "outputs": [
    {
     "name": "stdout",
     "output_type": "stream",
     "text": [
      "\n",
      "Given string is :  whoever is happy will make others happy too.\n",
      "\n",
      "Output of capitalize method is :  Whoever is happy will make others happy too.\n"
     ]
    }
   ],
   "source": [
    "try:\n",
    "    quote = \"whoever is happy will make others happy too.\"\n",
    "  \n",
    "    def capitalize_string(line : str):\n",
    "        \"This function capatilize the first character  of string to upper case\"\n",
    "        try:\n",
    "            print(\"\\nGiven string is : \", line)\n",
    "            x = line.capitalize()\n",
    "            print(\"\\nOutput of capitalize method is : \", x)\n",
    "        except Exception as e:\n",
    "            print(e)\n",
    "        \n",
    "    capitalize_string(quote)\n",
    "except Exception as e:\n",
    "    print(e)"
   ]
  },
  {
   "cell_type": "markdown",
   "id": "365d50ca",
   "metadata": {},
   "source": [
    "# 4. casefold() :"
   ]
  },
  {
   "cell_type": "markdown",
   "id": "f94192a7",
   "metadata": {},
   "source": [
    "This method Converts string into lower case"
   ]
  },
  {
   "cell_type": "code",
   "execution_count": 4,
   "id": "2ba8935f",
   "metadata": {},
   "outputs": [
    {
     "name": "stdout",
     "output_type": "stream",
     "text": [
      "\n",
      "Given string is :  whoever Is Happy Will Make Others happy too.\n",
      "\n",
      "Output of casefold method is :  whoever is happy will make others happy too.\n"
     ]
    }
   ],
   "source": [
    "try:\n",
    "    quote = \"whoever Is Happy Will Make Others happy too.\"\n",
    "  \n",
    "    def casefold_string(line : str):\n",
    "        \"This function return all characters of string in lower case\"\n",
    "        try:\n",
    "            print(\"\\nGiven string is : \", line)\n",
    "            x = line.casefold()\n",
    "            print(\"\\nOutput of casefold method is : \", x)\n",
    "        except Exception as e:\n",
    "            print(e)\n",
    "        \n",
    "    casefold_string(quote)\n",
    "except Exception as e:\n",
    "    print(e)"
   ]
  },
  {
   "cell_type": "markdown",
   "id": "9f7163fe",
   "metadata": {},
   "source": [
    "# 5. center() : "
   ]
  },
  {
   "cell_type": "markdown",
   "id": "4e598139",
   "metadata": {},
   "source": [
    "This method Returns a centered string"
   ]
  },
  {
   "cell_type": "code",
   "execution_count": 15,
   "id": "4bfac78d",
   "metadata": {},
   "outputs": [
    {
     "name": "stdout",
     "output_type": "stream",
     "text": [
      "Enter the length for making string centre : 25\n",
      "Enter the character which you want to add : *\n",
      "\n",
      "Given string is :  Good Morning\n",
      "\n",
      "Output of center method is :  *******Good Morning******\n"
     ]
    }
   ],
   "source": [
    "try:\n",
    "    quote = \"Good Morning\"\n",
    "    l = int(input(\"Enter the length for making string centre : \"))\n",
    "    c = input(\"Enter the character which you want to add : \")\n",
    "    def string_to_center(line : str, length : int, char : any):\n",
    "        \"This function creates and returns a new string that is padded with the specified character.\"\n",
    "        try:\n",
    "            print(\"\\nGiven string is : \", line)\n",
    "            x = line.center(length, char)\n",
    "            print(\"\\nOutput of center method is : \", x)\n",
    "        except Exception as e:\n",
    "            print(e)\n",
    "        \n",
    "    string_to_center(quote, l, c)\n",
    "except Exception as e:\n",
    "    print(e)"
   ]
  },
  {
   "cell_type": "markdown",
   "id": "57d02702",
   "metadata": {},
   "source": [
    "# 6. count() : "
   ]
  },
  {
   "cell_type": "markdown",
   "id": "9eefce03",
   "metadata": {},
   "source": [
    "This method Returns the number of times a specified value occurs in a string"
   ]
  },
  {
   "cell_type": "code",
   "execution_count": 19,
   "id": "351810f1",
   "metadata": {},
   "outputs": [
    {
     "name": "stdout",
     "output_type": "stream",
     "text": [
      "Enter the value you want to count : happy\n",
      "\n",
      "Given string is :  whoever is happy Will Make Others happy too.\n",
      "\n",
      "Count of the given value is :  2\n"
     ]
    }
   ],
   "source": [
    "try:\n",
    "    quote = \"whoever is happy Will Make Others happy too.\"\n",
    "    a = input(\"Enter the value you want to count : \")\n",
    "    def count_string(line : str, val : str):\n",
    "        \"This function return no. of time specified value occurs in string\"\n",
    "        try:\n",
    "            print(\"\\nGiven string is : \", line)\n",
    "            x = line.count(val)\n",
    "            print(\"\\nCount of the given value is : \", x)\n",
    "        except Exception as e:\n",
    "            print(e)\n",
    "        \n",
    "    count_string(quote, a)\n",
    "except Exception as e:\n",
    "    print(e)"
   ]
  },
  {
   "cell_type": "markdown",
   "id": "52741a4a",
   "metadata": {},
   "source": [
    "# 7. encode() : "
   ]
  },
  {
   "cell_type": "markdown",
   "id": "e2d8cc1d",
   "metadata": {},
   "source": [
    "This method Returns an encoded version of the string"
   ]
  },
  {
   "cell_type": "code",
   "execution_count": 22,
   "id": "4bcd2cde",
   "metadata": {},
   "outputs": [
    {
     "name": "stdout",
     "output_type": "stream",
     "text": [
      "\n",
      "Given string is :  whoever is happy Will Make Others happy too.\n",
      "\n",
      "Encoded version of string :  b'whoever is happy Will Make Others happy too.'\n"
     ]
    }
   ],
   "source": [
    "try:\n",
    "    quote = \"whoever is happy Will Make Others happy too.\"\n",
    "    def encode_string(line : str, val : str):\n",
    "        \"This function return encoded version of string\"\n",
    "        try:\n",
    "            print(\"\\nGiven string is : \", line)\n",
    "            x = line.encode()\n",
    "            print(\"\\nEncoded version of string : \", x)\n",
    "        except Exception as e:\n",
    "            print(e)\n",
    "        \n",
    "    encode_string(quote, a)\n",
    "except Exception as e:\n",
    "    print(e)"
   ]
  },
  {
   "cell_type": "markdown",
   "id": "1f6ff505",
   "metadata": {},
   "source": [
    "# 8. endswith() : "
   ]
  },
  {
   "cell_type": "markdown",
   "id": "25d86931",
   "metadata": {},
   "source": [
    "This method Returns true if the string ends with the specified value"
   ]
  },
  {
   "cell_type": "code",
   "execution_count": 28,
   "id": "59eb57ee",
   "metadata": {},
   "outputs": [
    {
     "name": "stdout",
     "output_type": "stream",
     "text": [
      "Enter the string to check end : too.\n",
      "\n",
      "Given string is :  whoever is happy Will Make Others happy too.\n",
      "\n",
      "Is string ended with too.  :  True\n"
     ]
    }
   ],
   "source": [
    "try:\n",
    "    quote = \"whoever is happy Will Make Others happy too.\"\n",
    "    a = input(\"Enter the string to check end : \")\n",
    "    def check_ending_string(line : str, val : str):\n",
    "        \"This function return true if string ends with specified value string\"\n",
    "        try:\n",
    "            print(\"\\nGiven string is : \", line)\n",
    "            x = line.endswith(val)\n",
    "            print(\"\\nIs string ended with\", val, \" : \", x)\n",
    "        except Exception as e:\n",
    "            print(e)\n",
    "        \n",
    "    check_ending_string(quote, a)\n",
    "except Exception as e:\n",
    "    print(e)"
   ]
  },
  {
   "cell_type": "markdown",
   "id": "dafa2706",
   "metadata": {},
   "source": [
    "# 9. expandtabs() : "
   ]
  },
  {
   "cell_type": "markdown",
   "id": "e7ffec37",
   "metadata": {},
   "source": [
    "This method Sets the tab size of the string"
   ]
  },
  {
   "cell_type": "code",
   "execution_count": 35,
   "id": "c448e221",
   "metadata": {},
   "outputs": [
    {
     "name": "stdout",
     "output_type": "stream",
     "text": [
      "Enter the tab size you want to set : 2\n",
      "\n",
      "Given string is :  Hello\tGood\tMorning\n",
      "\n",
      "String after tabset :  Hello Good  Morning\n"
     ]
    }
   ],
   "source": [
    "try:\n",
    "    quote = \"Hello\\tGood\\tMorning\"\n",
    "    a = int(input(\"Enter the tab size you want to set : \"))\n",
    "    def expanding_tab(line : str, val : int):\n",
    "        \"This function set tab of the string\"\n",
    "        try:\n",
    "            print(\"\\nGiven string is : \", line)\n",
    "            x = line.expandtabs(val)\n",
    "            print(\"\\nString after tabset : \", x)\n",
    "        except Exception as e:\n",
    "            print(e)\n",
    "        \n",
    "    expanding_tab(quote, a)\n",
    "except Exception as e:\n",
    "    print(e)"
   ]
  },
  {
   "cell_type": "markdown",
   "id": "53628d1a",
   "metadata": {},
   "source": [
    "# 10. find() :"
   ]
  },
  {
   "cell_type": "markdown",
   "id": "5ec2a506",
   "metadata": {},
   "source": [
    "This method Searches the string for a specified value and returns the position of where it was found"
   ]
  },
  {
   "cell_type": "code",
   "execution_count": 39,
   "id": "2c77626c",
   "metadata": {},
   "outputs": [
    {
     "name": "stdout",
     "output_type": "stream",
     "text": [
      "Enter the string to find : happy\n",
      "\n",
      "Given string is :  whoever is happy Will Make Others happy too.\n",
      "\n",
      "Position of the given string is :  11\n"
     ]
    }
   ],
   "source": [
    "try:\n",
    "    quote = \"whoever is happy Will Make Others happy too.\"\n",
    "    a = input(\"Enter the string to find : \")\n",
    "    def finding_string(line : str, val : str):\n",
    "        \"This function return position of string where it found\"\n",
    "        try:\n",
    "            print(\"\\nGiven string is : \", line)\n",
    "            x = line.find(val)\n",
    "            print(\"\\nPosition of the given string is : \", x)\n",
    "        except Exception as e:\n",
    "            print(e)\n",
    "        \n",
    "    finding_string(quote, a)\n",
    "except Exception as e:\n",
    "    print(e)"
   ]
  },
  {
   "cell_type": "markdown",
   "id": "8d3fa772",
   "metadata": {},
   "source": [
    "# 11. format() :"
   ]
  },
  {
   "cell_type": "markdown",
   "id": "d30566f9",
   "metadata": {},
   "source": [
    "This method Formats specified values in a string"
   ]
  },
  {
   "cell_type": "code",
   "execution_count": 40,
   "id": "1a44710e",
   "metadata": {},
   "outputs": [
    {
     "name": "stdout",
     "output_type": "stream",
     "text": [
      "Enter the string to complete sentence : Whoever\n",
      "\n",
      "Given string is :  {} is happy Will Make Others happy too.\n",
      "\n",
      "Formatted string :  Whoever is happy Will Make Others happy too.\n"
     ]
    }
   ],
   "source": [
    "try:\n",
    "    quote = \"{} is happy Will Make Others happy too.\"\n",
    "    a = input(\"Enter the string to complete sentence : \")\n",
    "    def formating_string(line : str, val : str):\n",
    "        \"This function format specific value to the string\"\n",
    "        try:\n",
    "            print(\"\\nGiven string is : \", line)\n",
    "            x = line.format(val)\n",
    "            print(\"\\nFormatted string : \", x)\n",
    "        except Exception as e:\n",
    "            print(e)\n",
    "        \n",
    "    formating_string(quote, a)\n",
    "except Exception as e:\n",
    "    print(e)"
   ]
  },
  {
   "cell_type": "markdown",
   "id": "ce441fcb",
   "metadata": {},
   "source": [
    "* format method used for specified string according to its index."
   ]
  },
  {
   "cell_type": "code",
   "execution_count": 2,
   "id": "c129104e",
   "metadata": {},
   "outputs": [
    {
     "name": "stdout",
     "output_type": "stream",
     "text": [
      "\n",
      "Given string is :  I want to pay {2} dollars for {0} pieces of item {1}.\n",
      "\n",
      "Formatted string :  I want to pay 49.95 dollars for 3 pieces of item 567.\n"
     ]
    }
   ],
   "source": [
    "try:\n",
    "    quote = \"I want to pay {2} dollars for {0} pieces of item {1}.\"\n",
    "    quantity = 3\n",
    "    itemno = 567\n",
    "    price = 49.95\n",
    "    def index_formating_string(line : str):\n",
    "        \"This function format specific value to the string to specified index\"\n",
    "        try:\n",
    "            print(\"\\nGiven string is : \", line)\n",
    "            x = line.format(quantity, itemno, price)\n",
    "            print(\"\\nFormatted string : \", x)\n",
    "        except Exception as e:\n",
    "            print(e)\n",
    "        \n",
    "    index_formating_string(quote)\n",
    "except Exception as e:\n",
    "    print(e)"
   ]
  },
  {
   "cell_type": "markdown",
   "id": "aca9b24e",
   "metadata": {},
   "source": [
    "# 12. format_map() : "
   ]
  },
  {
   "cell_type": "markdown",
   "id": "083fa8aa",
   "metadata": {},
   "source": [
    "This method Formats specified values in a string"
   ]
  },
  {
   "cell_type": "code",
   "execution_count": 45,
   "id": "3de4a557",
   "metadata": {},
   "outputs": [
    {
     "name": "stdout",
     "output_type": "stream",
     "text": [
      "\n",
      "Given dictionary is :  {'x': 'Python', 'y': 'learn'}\n",
      "\n",
      "Python is easy to learn\n"
     ]
    }
   ],
   "source": [
    "try:\n",
    "    quote = {'x':'Python', 'y':'learn'}\n",
    "    def format_map_string(line : dict):\n",
    "        \"This function format string return a dictionary key’s value\"\n",
    "        try:\n",
    "            print(\"\\nGiven dictionary is : \", line)\n",
    "            \n",
    "            print(\"\\n{x} is easy to {y}\".format_map(line))\n",
    "        except Exception as e:\n",
    "            print(e)\n",
    "        \n",
    "    format_map_string(quote)\n",
    "except Exception as e:\n",
    "    print(e)"
   ]
  },
  {
   "cell_type": "markdown",
   "id": "4c292db3",
   "metadata": {},
   "source": [
    "# 13. index() :"
   ]
  },
  {
   "cell_type": "markdown",
   "id": "3a49ddd2",
   "metadata": {},
   "source": [
    "This method Searches the string for a specified value and returns the position of where it was found"
   ]
  },
  {
   "cell_type": "code",
   "execution_count": 46,
   "id": "1888dc6b",
   "metadata": {},
   "outputs": [
    {
     "name": "stdout",
     "output_type": "stream",
     "text": [
      "Enter the string to find its index : is\n",
      "\n",
      "Given string is :  whoever is happy Will Make Others happy too.\n",
      "\n",
      "Index of the given string is :  8\n"
     ]
    }
   ],
   "source": [
    "try:\n",
    "    quote = \"whoever is happy Will Make Others happy too.\"\n",
    "    a = input(\"Enter the string to find its index : \")\n",
    "    def index_of_string(line : str, val : str):\n",
    "        \"This function return index of string where it found\"\n",
    "        try:\n",
    "            print(\"\\nGiven string is : \", line)\n",
    "            x = line.index(val)\n",
    "            print(\"\\nIndex of the given string is : \", x)\n",
    "        except Exception as e:\n",
    "            print(e)\n",
    "        \n",
    "    index_of_string(quote, a)\n",
    "except Exception as e:\n",
    "    print(e)"
   ]
  },
  {
   "cell_type": "markdown",
   "id": "c3b6b450",
   "metadata": {},
   "source": [
    "# 14. isalnum() :"
   ]
  },
  {
   "cell_type": "markdown",
   "id": "34b37bf3",
   "metadata": {},
   "source": [
    "This method Returns True if all characters in the string are alphanumeric"
   ]
  },
  {
   "cell_type": "code",
   "execution_count": 47,
   "id": "161c366f",
   "metadata": {},
   "outputs": [
    {
     "name": "stdout",
     "output_type": "stream",
     "text": [
      "\n",
      "Given string is :  whoever34524\n",
      "\n",
      "Is given string is alphanumeric ? :  True\n"
     ]
    }
   ],
   "source": [
    "try:\n",
    "    quote = \"whoever34524\"\n",
    "    def check_string(line : str):\n",
    "        \"This function return true if string contain alphabets and number.\"\n",
    "        try:\n",
    "            print(\"\\nGiven string is : \", line)\n",
    "            x = line.isalnum()\n",
    "            print(\"\\nIs given string is alphanumeric ? : \", x)\n",
    "        except Exception as e:\n",
    "            print(e)\n",
    "        \n",
    "    check_string(quote)\n",
    "except Exception as e:\n",
    "    print(e)"
   ]
  },
  {
   "cell_type": "markdown",
   "id": "e7004e36",
   "metadata": {},
   "source": [
    "# 15. isalpha() : "
   ]
  },
  {
   "cell_type": "markdown",
   "id": "8a22b225",
   "metadata": {},
   "source": [
    "This method Returns True if all characters in the string are in the alphabet"
   ]
  },
  {
   "cell_type": "code",
   "execution_count": 50,
   "id": "7f1d1c12",
   "metadata": {},
   "outputs": [
    {
     "name": "stdout",
     "output_type": "stream",
     "text": [
      "\n",
      "Given string is :  whoever\n",
      "\n",
      "Is given string is alpha ?  :  True\n"
     ]
    }
   ],
   "source": [
    "try:\n",
    "    quote = \"whoever\"\n",
    "    def checking_string(line : str):\n",
    "        \"This function return true if string contain only alphabets \"\n",
    "        try:\n",
    "            print(\"\\nGiven string is : \", line)\n",
    "            x = line.isalpha()\n",
    "            print(\"\\nIs given string is alpha ?  : \", x)\n",
    "        except Exception as e:\n",
    "            print(e)\n",
    "        \n",
    "    checking_string(quote)\n",
    "except Exception as e:\n",
    "    print(e)"
   ]
  },
  {
   "cell_type": "markdown",
   "id": "fa633be2",
   "metadata": {},
   "source": [
    "# 16. isascii() :"
   ]
  },
  {
   "cell_type": "markdown",
   "id": "37a7e9c3",
   "metadata": {},
   "source": [
    "This method Returns True if all characters in the string are ascii characters"
   ]
  },
  {
   "cell_type": "code",
   "execution_count": 51,
   "id": "01939a92",
   "metadata": {},
   "outputs": [
    {
     "name": "stdout",
     "output_type": "stream",
     "text": [
      "\n",
      "Given string is :  whoever34524\n",
      "\n",
      "Is given string is ascii string ? :  True\n"
     ]
    }
   ],
   "source": [
    "try:\n",
    "    quote = \"whoever34524\"\n",
    "    def ascii_string(line : str):\n",
    "        \"This function return true if string contain all ascii characters.\"\n",
    "        try:\n",
    "            print(\"\\nGiven string is : \", line)\n",
    "            x = line.isascii()\n",
    "            print(\"\\nIs given string is ascii string ? : \", x)\n",
    "        except Exception as e:\n",
    "            print(e)\n",
    "        \n",
    "    ascii_string(quote)\n",
    "except Exception as e:\n",
    "    print(e)"
   ]
  },
  {
   "cell_type": "markdown",
   "id": "71ee4c52",
   "metadata": {},
   "source": [
    "# 17. isdecimal() : "
   ]
  },
  {
   "cell_type": "markdown",
   "id": "c666b2a1",
   "metadata": {},
   "source": [
    "This method Returns True if all characters in the string are decimals"
   ]
  },
  {
   "cell_type": "code",
   "execution_count": 52,
   "id": "f7b566e6",
   "metadata": {},
   "outputs": [
    {
     "name": "stdout",
     "output_type": "stream",
     "text": [
      "\n",
      "Given string is :  34524\n",
      "\n",
      "Is given string is contain decimal ? :  True\n"
     ]
    }
   ],
   "source": [
    "try:\n",
    "    quote = \"34524\"\n",
    "    def decimal_string(line : str):\n",
    "        \"This function return true if string contain all decimal numbers\"\n",
    "        try:\n",
    "            print(\"\\nGiven string is : \", line)\n",
    "            x = line.isdecimal()\n",
    "            print(\"\\nIs given string is contain decimal ? : \", x)\n",
    "        except Exception as e:\n",
    "            print(e)\n",
    "        \n",
    "    decimal_string(quote)\n",
    "except Exception as e:\n",
    "    print(e)"
   ]
  },
  {
   "cell_type": "markdown",
   "id": "cc6bfdcf",
   "metadata": {},
   "source": [
    "# 18. isdigit() :"
   ]
  },
  {
   "cell_type": "markdown",
   "id": "f7335acf",
   "metadata": {},
   "source": [
    "This method Returns True if all characters in the string are digits"
   ]
  },
  {
   "cell_type": "code",
   "execution_count": 53,
   "id": "849d1d70",
   "metadata": {},
   "outputs": [
    {
     "name": "stdout",
     "output_type": "stream",
     "text": [
      "\n",
      "Given string is :  34524\n",
      "\n",
      "Is given string is contain digits ? :  True\n"
     ]
    }
   ],
   "source": [
    "try:\n",
    "    quote = \"34524\"\n",
    "    def digit_string(line : str):\n",
    "        \"This function return true if string contain all digits\"\n",
    "        try:\n",
    "            print(\"\\nGiven string is : \", line)\n",
    "            x = line.isdigit()\n",
    "            print(\"\\nIs given string is contain digits ? : \", x)\n",
    "        except Exception as e:\n",
    "            print(e)\n",
    "        \n",
    "    digit_string(quote)\n",
    "except Exception as e:\n",
    "    print(e)"
   ]
  },
  {
   "cell_type": "markdown",
   "id": "47db4e53",
   "metadata": {},
   "source": [
    "# 19. isidentifier() : "
   ]
  },
  {
   "cell_type": "markdown",
   "id": "e691bc75",
   "metadata": {},
   "source": [
    "This method Returns True if the string is an identifier"
   ]
  },
  {
   "cell_type": "markdown",
   "id": "25db8961",
   "metadata": {},
   "source": [
    "Valid identifier - \n",
    "* It only consists of alphanumeric characters and underscore (_)\n",
    "* Doesn’t start with a space or a number"
   ]
  },
  {
   "cell_type": "code",
   "execution_count": 57,
   "id": "b007ec81",
   "metadata": {},
   "outputs": [
    {
     "name": "stdout",
     "output_type": "stream",
     "text": [
      "\n",
      "Given string is :  Python\n",
      "\n",
      "Is given string is valid identifier ? :  True\n"
     ]
    }
   ],
   "source": [
    "try:\n",
    "    quote = \"Python\"\n",
    "    def identifier_string(line : str):\n",
    "        \"This function return true if string is an valid identifier\"\n",
    "        try:\n",
    "            print(\"\\nGiven string is : \", line)\n",
    "            x = line.isidentifier()\n",
    "            print(\"\\nIs given string is valid identifier ? : \", x)\n",
    "        except Exception as e:\n",
    "            print(e)\n",
    "        \n",
    "    identifier_string(quote)\n",
    "except Exception as e:\n",
    "    print(e)"
   ]
  },
  {
   "cell_type": "markdown",
   "id": "d06acf29",
   "metadata": {},
   "source": [
    "# 20. islower() :"
   ]
  },
  {
   "cell_type": "markdown",
   "id": "549b5fe6",
   "metadata": {},
   "source": [
    "This method Returns True if all characters in the string are lower case"
   ]
  },
  {
   "cell_type": "code",
   "execution_count": 60,
   "id": "2b6d7a1c",
   "metadata": {},
   "outputs": [
    {
     "name": "stdout",
     "output_type": "stream",
     "text": [
      "\n",
      "Given string is :  whoever is happy will make others happy too.\n",
      "\n",
      "Is given string is in lower case ? :  True\n"
     ]
    }
   ],
   "source": [
    "try:\n",
    "    quote = \"whoever is happy will make others happy too.\"\n",
    "    def lower_string(line : str):\n",
    "        \"This function return true if all characters are in lower case\"\n",
    "        try:\n",
    "            print(\"\\nGiven string is : \", line)\n",
    "            x = line.islower()\n",
    "            print(\"\\nIs given string is in lower case ? : \", x)\n",
    "        except Exception as e:\n",
    "            print(e)\n",
    "        \n",
    "    lower_string(quote)\n",
    "except Exception as e:\n",
    "    print(e)"
   ]
  },
  {
   "cell_type": "markdown",
   "id": "af0d73f2",
   "metadata": {},
   "source": [
    "# 21. isnumeric() :"
   ]
  },
  {
   "cell_type": "markdown",
   "id": "292f624a",
   "metadata": {},
   "source": [
    "This method Returns True if all characters in the string are numeric"
   ]
  },
  {
   "cell_type": "code",
   "execution_count": 61,
   "id": "26dfa07d",
   "metadata": {},
   "outputs": [
    {
     "name": "stdout",
     "output_type": "stream",
     "text": [
      "\n",
      "Given string is :  34524\n",
      "\n",
      "Is given string is numeric ? :  True\n"
     ]
    }
   ],
   "source": [
    "try:\n",
    "    quote = \"34524\"\n",
    "    def numeric_string(line : str):\n",
    "        \"This function return true if string are numeric\"\n",
    "        try:\n",
    "            print(\"\\nGiven string is : \", line)\n",
    "            x = line.isnumeric()\n",
    "            print(\"\\nIs given string is numeric ? : \", x)\n",
    "        except Exception as e:\n",
    "            print(e)\n",
    "        \n",
    "    numeric_string(quote)\n",
    "except Exception as e:\n",
    "    print(e)"
   ]
  },
  {
   "cell_type": "markdown",
   "id": "b91b9fd8",
   "metadata": {},
   "source": [
    "# 22. isprintable() :"
   ]
  },
  {
   "cell_type": "markdown",
   "id": "2f88ec69",
   "metadata": {},
   "source": [
    "This method Returns True if all characters in the string are printable"
   ]
  },
  {
   "cell_type": "markdown",
   "id": "045edb39",
   "metadata": {},
   "source": [
    "printable characters such as:\n",
    "\n",
    "* Digits ( 0123456789 )\n",
    "* Uppercase letters ( ABCDEFGHIJKLMNOPQRSTUVWXYZ )\n",
    "* Lowercase letters ( abcdefghijklmnopqrstuvwxyz )\n",
    "* Punctuation characters ( !”#$%&'()*+, -./:;?@[\\]^_`{ | }~ )\n",
    "* Space()"
   ]
  },
  {
   "cell_type": "code",
   "execution_count": 62,
   "id": "4785113c",
   "metadata": {},
   "outputs": [
    {
     "name": "stdout",
     "output_type": "stream",
     "text": [
      "\n",
      "Given string is :  whoever is happy will make others happy too\n",
      "\n",
      "Is given string is printable ? :  True\n"
     ]
    }
   ],
   "source": [
    "try:\n",
    "    quote = \"whoever is happy will make others happy too\"\n",
    "    def printable_string(line : str):\n",
    "        \"This function return true if string are numeric\"\n",
    "        try:\n",
    "            print(\"\\nGiven string is : \", line)\n",
    "            x = line.isprintable()\n",
    "            print(\"\\nIs given string is printable ? : \", x)\n",
    "        except Exception as e:\n",
    "            print(e)\n",
    "        \n",
    "    printable_string(quote)\n",
    "except Exception as e:\n",
    "    print(e)"
   ]
  },
  {
   "cell_type": "markdown",
   "id": "1be2b656",
   "metadata": {},
   "source": [
    "# 23. isspace():"
   ]
  },
  {
   "cell_type": "markdown",
   "id": "1e12b50d",
   "metadata": {},
   "source": [
    "This method Returns True if all characters in the string are whitespaces"
   ]
  },
  {
   "cell_type": "markdown",
   "id": "e0e97106",
   "metadata": {},
   "source": [
    "Whitespaces like : \n",
    "* ‘ ‘ – Space\n",
    "* ‘\\t’ – Horizontal tab\n",
    "* ‘\\n’ – Newline\n",
    "* ‘\\v’ – Vertical tab\n",
    "* ‘\\f’ – Feed\n",
    "* ‘\\r’ – Carriage return"
   ]
  },
  {
   "cell_type": "code",
   "execution_count": 66,
   "id": "f1479587",
   "metadata": {},
   "outputs": [
    {
     "name": "stdout",
     "output_type": "stream",
     "text": [
      "\n",
      "Given string is :   whoever is happy will make others happy too\n",
      "\n",
      "Result of the method is :  False\n"
     ]
    }
   ],
   "source": [
    "try:\n",
    "    quote = \" whoever is happy will make others happy too\"\n",
    "    def space_in_string(line : str):\n",
    "        \"This function return true if character in string are whitespaces\"\n",
    "        try:\n",
    "            print(\"\\nGiven string is : \", line)\n",
    "            x = line.isspace()\n",
    "            print(\"\\nResult of the method is : \", x)\n",
    "        except Exception as e:\n",
    "            print(e)\n",
    "        \n",
    "    space_in_string(quote)\n",
    "except Exception as e:\n",
    "    print(e)"
   ]
  },
  {
   "cell_type": "code",
   "execution_count": 67,
   "id": "2d8628e5",
   "metadata": {},
   "outputs": [
    {
     "name": "stdout",
     "output_type": "stream",
     "text": [
      "\n",
      "Given string is :   \n",
      "\n",
      "Result of the method is :  True\n"
     ]
    }
   ],
   "source": [
    "try:\n",
    "    quote = \" \"\n",
    "    def space_in_string(line : str):\n",
    "        \"This function return true if character in string are whitespaces\"\n",
    "        try:\n",
    "            print(\"\\nGiven string is : \", line)\n",
    "            x = line.isspace()\n",
    "            print(\"\\nResult of the method is : \", x)\n",
    "        except Exception as e:\n",
    "            print(e)\n",
    "        \n",
    "    space_in_string(quote)\n",
    "except Exception as e:\n",
    "    print(e)"
   ]
  },
  {
   "cell_type": "markdown",
   "id": "6b095d19",
   "metadata": {},
   "source": [
    "# 24. istitle():"
   ]
  },
  {
   "cell_type": "markdown",
   "id": "ae9df0e5",
   "metadata": {},
   "source": [
    "This method Returns True if the string follows the rules of a title"
   ]
  },
  {
   "cell_type": "markdown",
   "id": "f90bc8d6",
   "metadata": {},
   "source": [
    "title : Each word start with an upper case letter"
   ]
  },
  {
   "cell_type": "code",
   "execution_count": 71,
   "id": "3d480796",
   "metadata": {},
   "outputs": [
    {
     "name": "stdout",
     "output_type": "stream",
     "text": [
      "\n",
      "Given string is :   Whoever\n",
      "\n",
      "Result of the method is :  True\n"
     ]
    }
   ],
   "source": [
    "try:\n",
    "    quote = \" Whoever\"\n",
    "    def title_string(line : str):\n",
    "        \"This function return true if string is of title type\"\n",
    "        try:\n",
    "            print(\"\\nGiven string is : \", line)\n",
    "            x = line.istitle()\n",
    "            print(\"\\nResult of the method is : \", x)\n",
    "        except Exception as e:\n",
    "            print(e)\n",
    "        \n",
    "    title_string(quote)\n",
    "except Exception as e:\n",
    "    print(e)"
   ]
  },
  {
   "cell_type": "markdown",
   "id": "8d3ebe2e",
   "metadata": {},
   "source": [
    "# 25. isupper():"
   ]
  },
  {
   "cell_type": "markdown",
   "id": "68bb911d",
   "metadata": {},
   "source": [
    "This method Returns True if all characters in the string are upper case"
   ]
  },
  {
   "cell_type": "code",
   "execution_count": 72,
   "id": "263fbcc3",
   "metadata": {},
   "outputs": [
    {
     "name": "stdout",
     "output_type": "stream",
     "text": [
      "\n",
      "Given string is :   PYTHON\n",
      "\n",
      "Result of the method is :  True\n"
     ]
    }
   ],
   "source": [
    "try:\n",
    "    quote = \" PYTHON\"\n",
    "    def upper_string(line : str):\n",
    "        \"This function return true if string is upper case\"\n",
    "        try:\n",
    "            print(\"\\nGiven string is : \", line)\n",
    "            x = line.isupper()\n",
    "            print(\"\\nResult of the method is : \", x)\n",
    "        except Exception as e:\n",
    "            print(e)\n",
    "        \n",
    "    upper_string(quote)\n",
    "except Exception as e:\n",
    "    print(e)"
   ]
  },
  {
   "cell_type": "markdown",
   "id": "602c9f30",
   "metadata": {},
   "source": [
    "# 26. join() :"
   ]
  },
  {
   "cell_type": "markdown",
   "id": "c4360753",
   "metadata": {},
   "source": [
    "This method Converts the elements of an iterable into a string"
   ]
  },
  {
   "cell_type": "code",
   "execution_count": 73,
   "id": "55a37ea1",
   "metadata": {},
   "outputs": [
    {
     "name": "stdout",
     "output_type": "stream",
     "text": [
      "Enter character you want join string with : *\n",
      "\n",
      "Given string is :   PYTHON\n",
      "\n",
      "Result of the method is :   *P*Y*T*H*O*N\n"
     ]
    }
   ],
   "source": [
    "try:\n",
    "    quote = \" PYTHON\"\n",
    "    c = input(\"Enter character you want join string with : \")\n",
    "    def join_string(line : str, char : any):\n",
    "        \"This function join string with specific characters\"\n",
    "        try:\n",
    "            print(\"\\nGiven string is : \", line)\n",
    "            x = char.join(line)\n",
    "            print(\"\\nResult of the method is : \", x)\n",
    "        except Exception as e:\n",
    "            print(e)\n",
    "        \n",
    "    join_string(quote, c)\n",
    "except Exception as e:\n",
    "    print(e)"
   ]
  },
  {
   "cell_type": "markdown",
   "id": "73564e50",
   "metadata": {},
   "source": [
    "# 27. ljust() :"
   ]
  },
  {
   "cell_type": "markdown",
   "id": "76ddac8e",
   "metadata": {},
   "source": [
    "This method Returns a left justified version of the string"
   ]
  },
  {
   "cell_type": "code",
   "execution_count": 80,
   "id": "42e0606b",
   "metadata": {},
   "outputs": [
    {
     "name": "stdout",
     "output_type": "stream",
     "text": [
      "Enter the number of characters for justifying : 30\n",
      "\n",
      "Given string is :  Whoever is happy\n",
      "\n",
      " Whoever is happy                will make others happy too\n"
     ]
    }
   ],
   "source": [
    "try:\n",
    "    quote = \"Whoever is happy\"\n",
    "    c = int(input(\"Enter the number of characters for justifying : \"))\n",
    "    def left_justify_string(line : str, char : int):\n",
    "        \"This function return left justified version of the string\"\n",
    "        try:\n",
    "            print(\"\\nGiven string is : \", line)\n",
    "            x = line.ljust(char)\n",
    "            print(\"\\n\" , x , \" will make others happy too\")\n",
    "        except Exception as e:\n",
    "            print(e)\n",
    "        \n",
    "    left_justify_string(quote, c)\n",
    "except Exception as e:\n",
    "    print(e)"
   ]
  },
  {
   "cell_type": "markdown",
   "id": "d7ab9b07",
   "metadata": {},
   "source": [
    "# 28. lower() :"
   ]
  },
  {
   "cell_type": "markdown",
   "id": "9c2c8cda",
   "metadata": {},
   "source": [
    "This method Converts a string into lower case"
   ]
  },
  {
   "cell_type": "code",
   "execution_count": 82,
   "id": "80cfb461",
   "metadata": {},
   "outputs": [
    {
     "name": "stdout",
     "output_type": "stream",
     "text": [
      "\n",
      "Given string is :  Whoever is happy WILL make others HAPPY too\n",
      "\n",
      "Result of method is :  whoever is happy will make others happy too\n"
     ]
    }
   ],
   "source": [
    "try:\n",
    "    quote = \"Whoever is happy WILL make others HAPPY too\"\n",
    "    def lower_string(line : str):\n",
    "        \"This function convert given string in lower case\"\n",
    "        try:\n",
    "            print(\"\\nGiven string is : \", line)\n",
    "            x = line.lower()\n",
    "            print(\"\\nResult of method is : \", x)\n",
    "        except Exception as e:\n",
    "            print(e)\n",
    "        \n",
    "    lower_string(quote)\n",
    "except Exception as e:\n",
    "    print(e)"
   ]
  },
  {
   "cell_type": "markdown",
   "id": "c9819735",
   "metadata": {},
   "source": [
    "# 29. lstrip() :"
   ]
  },
  {
   "cell_type": "markdown",
   "id": "ff566c3e",
   "metadata": {},
   "source": [
    "This method Returns a left trim version of the string"
   ]
  },
  {
   "cell_type": "code",
   "execution_count": 87,
   "id": "f6a87645",
   "metadata": {},
   "outputs": [
    {
     "name": "stdout",
     "output_type": "stream",
     "text": [
      "\n",
      "Given string is :         HAPPY    \n",
      "\n",
      "Result of method is :  HAPPY    \n"
     ]
    }
   ],
   "source": [
    "try:\n",
    "    quote = \"       HAPPY    \"\n",
    "    def left_trim_string(line : str):\n",
    "        \"This function trim left spaces of string\"\n",
    "        try:\n",
    "            print(\"\\nGiven string is : \", line)\n",
    "            x = line.lstrip()\n",
    "            print(\"\\nResult of method is : \", x)\n",
    "        except Exception as e:\n",
    "            print(e)\n",
    "        \n",
    "    left_trim_string(quote)\n",
    "except Exception as e:\n",
    "    print(e)"
   ]
  },
  {
   "cell_type": "markdown",
   "id": "4374ca67",
   "metadata": {},
   "source": [
    "# 30. maketrans() : and translate() :"
   ]
  },
  {
   "cell_type": "markdown",
   "id": "fabdc7f0",
   "metadata": {},
   "source": [
    "maketrans() : This method Returns a translation table to be used in translations"
   ]
  },
  {
   "cell_type": "markdown",
   "id": "b0f2ee97",
   "metadata": {},
   "source": [
    "translate() : This method Returns a translated string"
   ]
  },
  {
   "cell_type": "code",
   "execution_count": 88,
   "id": "e8d68059",
   "metadata": {},
   "outputs": [
    {
     "name": "stdout",
     "output_type": "stream",
     "text": [
      "Enter a character to replace :p\n",
      "Enter a new character : d\n",
      "\n",
      "Given string is :  Happy Birthday\n",
      "\n",
      "Result of method is :  Haddy Birthday\n"
     ]
    }
   ],
   "source": [
    "try:\n",
    "    quote = \"Happy Birthday\"\n",
    "    c = input(\"Enter a character to replace :\")\n",
    "    t = input(\"Enter a new character : \")\n",
    "    def translate_string(line : str, char :str, val : str):\n",
    "        \"This function replace one character to another in string\"\n",
    "        try:\n",
    "            print(\"\\nGiven string is : \", line)\n",
    "            x = line.maketrans(char, val)\n",
    "            y = line.translate(x)\n",
    "            print(\"\\nResult of method is : \", y)\n",
    "        except Exception as e:\n",
    "            print(e)\n",
    "        \n",
    "    translate_string(quote, c, t)\n",
    "except Exception as e:\n",
    "    print(e)"
   ]
  },
  {
   "cell_type": "markdown",
   "id": "63efb0c6",
   "metadata": {},
   "source": [
    "# 31. partition()\t:"
   ]
  },
  {
   "cell_type": "markdown",
   "id": "93fcacb8",
   "metadata": {},
   "source": [
    "This method Returns a tuple where the string is parted into three parts"
   ]
  },
  {
   "cell_type": "code",
   "execution_count": 99,
   "id": "63bafb73",
   "metadata": {},
   "outputs": [
    {
     "name": "stdout",
     "output_type": "stream",
     "text": [
      "Enter the string from which you need partition : is\n",
      "\n",
      "Given string is :  Whoever is happy WILL\n",
      "\n",
      "Result of method is :  ('Whoever ', 'is', ' happy WILL')\n"
     ]
    }
   ],
   "source": [
    "try:\n",
    "    quote = \"Whoever is happy WILL\"\n",
    "    c = input(\"Enter the string from which you need partition : \")\n",
    "    def partition_of_string(line : str, char : str):\n",
    "        \"This function partition the string into three parts\"\n",
    "        try:\n",
    "            print(\"\\nGiven string is : \", line)\n",
    "            x = line.partition(char)\n",
    "            print(\"\\nResult of method is : \", x)\n",
    "        except Exception as e:\n",
    "            print(e)\n",
    "        \n",
    "    partition_of_string(quote, c)\n",
    "except Exception as e:\n",
    "    print(e)"
   ]
  },
  {
   "cell_type": "markdown",
   "id": "87daaa69",
   "metadata": {},
   "source": [
    "# 32. replace() :"
   ]
  },
  {
   "cell_type": "markdown",
   "id": "35a67c0c",
   "metadata": {},
   "source": [
    "This method Returns a string where a specified value is replaced with a specified value"
   ]
  },
  {
   "cell_type": "code",
   "execution_count": 101,
   "id": "910dc615",
   "metadata": {},
   "outputs": [
    {
     "name": "stdout",
     "output_type": "stream",
     "text": [
      "Enter the string to be replace : Morning\n",
      "Enter the string to replace : Afternoon\n",
      "\n",
      "Given string is :  Good Morning\n",
      "\n",
      "String after replace :  Good Afternoon\n"
     ]
    }
   ],
   "source": [
    "try:\n",
    "    quote = \"Good Morning\"\n",
    "    l = input(\"Enter the string to be replace : \")\n",
    "    c = input(\"Enter the string to replace : \")\n",
    "    def replace_string(line : str, val : str, val2 : str):\n",
    "        \"This function replace old specific value with new one\"\n",
    "        try:\n",
    "            print(\"\\nGiven string is : \", line)\n",
    "            x = line.replace(val, val2)\n",
    "            print(\"\\nString after replace : \", x)\n",
    "        except Exception as e:\n",
    "            print(e)\n",
    "        \n",
    "    replace_string(quote, l, c)\n",
    "except Exception as e:\n",
    "    print(e)"
   ]
  },
  {
   "cell_type": "markdown",
   "id": "a3fe07d6",
   "metadata": {},
   "source": [
    "# 33. rfind() :"
   ]
  },
  {
   "cell_type": "markdown",
   "id": "a433b7cc",
   "metadata": {},
   "source": [
    "This method Searches the string for a specified value and returns the last position of where it was found"
   ]
  },
  {
   "cell_type": "code",
   "execution_count": 105,
   "id": "d584a0f2",
   "metadata": {},
   "outputs": [
    {
     "name": "stdout",
     "output_type": "stream",
     "text": [
      "Enter the string to be find : happy\n",
      "\n",
      "Given string is :  Whoever is happy WILL make others happy too\n",
      "\n",
      "Position of the string :  34\n"
     ]
    }
   ],
   "source": [
    "try:\n",
    "    quote = \"Whoever is happy WILL make others happy too\"\n",
    "    l = input(\"Enter the string to be find : \")\n",
    "\n",
    "    def rfind_string(line : str, val : str):\n",
    "        \"This function return last position of searched string\"\n",
    "        try:\n",
    "            print(\"\\nGiven string is : \", line)\n",
    "            x = line.rfind(val)\n",
    "            print(\"\\nPosition of the string : \", x)\n",
    "        except Exception as e:\n",
    "            print(e)\n",
    "        \n",
    "    rfind_string(quote, l)\n",
    "except Exception as e:\n",
    "    print(e)"
   ]
  },
  {
   "cell_type": "markdown",
   "id": "757e0c09",
   "metadata": {},
   "source": [
    "# 34. rindex() : "
   ]
  },
  {
   "cell_type": "markdown",
   "id": "0b9a0a9f",
   "metadata": {},
   "source": [
    "This method Searches the string for a specified value and returns the last position of where it was found"
   ]
  },
  {
   "cell_type": "code",
   "execution_count": 106,
   "id": "8b7bed5b",
   "metadata": {},
   "outputs": [
    {
     "name": "stdout",
     "output_type": "stream",
     "text": [
      "Enter the string to be find : happy\n",
      "\n",
      "Given string is :  Whoever is happy WILL make others happy too\n",
      "\n",
      "Index of the string :  34\n"
     ]
    }
   ],
   "source": [
    "try:\n",
    "    quote = \"Whoever is happy WILL make others happy too\"\n",
    "    l = input(\"Enter the string to be find : \")\n",
    "\n",
    "    def rindex_string(line : str, val : str):\n",
    "        \"This function return last index of searched string\"\n",
    "        try:\n",
    "            print(\"\\nGiven string is : \", line)\n",
    "            x = line.rindex(val)\n",
    "            print(\"\\nIndex of the string : \", x)\n",
    "        except Exception as e:\n",
    "            print(e)\n",
    "        \n",
    "    rindex_string(quote, l)\n",
    "except Exception as e:\n",
    "    print(e)"
   ]
  },
  {
   "cell_type": "markdown",
   "id": "8209d79f",
   "metadata": {},
   "source": [
    "# 35. rjust() :"
   ]
  },
  {
   "cell_type": "markdown",
   "id": "8644db33",
   "metadata": {},
   "source": [
    "This method Returns a right justified version of the string"
   ]
  },
  {
   "cell_type": "code",
   "execution_count": 107,
   "id": "f596a08a",
   "metadata": {},
   "outputs": [
    {
     "name": "stdout",
     "output_type": "stream",
     "text": [
      "Enter the number of characters for justifying : 25\n",
      "\n",
      "Given string is :  Whoever is happy\n",
      "\n",
      "          Whoever is happy  will make others happy too\n"
     ]
    }
   ],
   "source": [
    "try:\n",
    "    quote = \"Whoever is happy\"\n",
    "    c = int(input(\"Enter the number of characters for justifying : \"))\n",
    "    def right_justify_string(line : str, char : int):\n",
    "        \"This function return left justified version of the string\"\n",
    "        try:\n",
    "            print(\"\\nGiven string is : \", line)\n",
    "            x = line.rjust(char)\n",
    "            print(\"\\n\" , x , \" will make others happy too\")\n",
    "        except Exception as e:\n",
    "            print(e)\n",
    "        \n",
    "    right_justify_string(quote, c)\n",
    "except Exception as e:\n",
    "    print(e)"
   ]
  },
  {
   "cell_type": "markdown",
   "id": "88d7e307",
   "metadata": {},
   "source": [
    "# 36. rpartition() : "
   ]
  },
  {
   "cell_type": "markdown",
   "id": "23aa714e",
   "metadata": {},
   "source": [
    "This method Returns a tuple where the string is parted into three parts"
   ]
  },
  {
   "cell_type": "code",
   "execution_count": 110,
   "id": "9b09e124",
   "metadata": {},
   "outputs": [
    {
     "name": "stdout",
     "output_type": "stream",
     "text": [
      "Enter the string from you want to partition : happy\n",
      "\n",
      "Given string is :  Whoever is happy WILL make others happy too\n",
      "\n",
      "Result of partition is :  ('Whoever is happy WILL make others ', 'happy', ' too')\n"
     ]
    }
   ],
   "source": [
    "try:\n",
    "    quote = \"Whoever is happy WILL make others happy too\"\n",
    "    c = input(\"Enter the string from you want to partition : \")\n",
    "    def right_partition_string(line : str, char : int):\n",
    "        \"This function return tuple as right partition of string\"\n",
    "        try:\n",
    "            print(\"\\nGiven string is : \", line)\n",
    "            x = line.rpartition(char)\n",
    "            print(\"\\nResult of partition is : \", x)\n",
    "        except Exception as e:\n",
    "            print(e)\n",
    "        \n",
    "    right_partition_string(quote, c)\n",
    "except Exception as e:\n",
    "    print(e)"
   ]
  },
  {
   "cell_type": "markdown",
   "id": "25eb1ac0",
   "metadata": {},
   "source": [
    "# 37. rsplit() :"
   ]
  },
  {
   "cell_type": "markdown",
   "id": "5105166a",
   "metadata": {},
   "source": [
    "This method Splits the string at the specified separator, and returns a list"
   ]
  },
  {
   "cell_type": "code",
   "execution_count": 112,
   "id": "402da78d",
   "metadata": {},
   "outputs": [
    {
     "name": "stdout",
     "output_type": "stream",
     "text": [
      "Enter the character by which you want separate string :  ,\n",
      "\n",
      "Given string is :  Whoever,  is happy WILL, make others ,happy too\n",
      "\n",
      "Result of rsplit is :  ['Whoever', '  is happy WILL', ' make others ', 'happy too']\n"
     ]
    }
   ],
   "source": [
    "try:\n",
    "    quote = \"Whoever,  is happy WILL, make others ,happy too\"\n",
    "    c = input(\"Enter the character by which you want separate string :  \")\n",
    "    def spliting_string(line : str, char : any):\n",
    "        \"This function split string by characters\"\n",
    "        try:\n",
    "            print(\"\\nGiven string is : \", line)\n",
    "            x = line.rsplit(char)\n",
    "            print(\"\\nResult of rsplit is : \", x)\n",
    "        except Exception as e:\n",
    "            print(e)\n",
    "        \n",
    "    spliting_string(quote, c)\n",
    "except Exception as e:\n",
    "    print(e)"
   ]
  },
  {
   "cell_type": "markdown",
   "id": "45607cf5",
   "metadata": {},
   "source": [
    "# 38. rstrip() :"
   ]
  },
  {
   "cell_type": "markdown",
   "id": "f37253c5",
   "metadata": {},
   "source": [
    "This method Returns a right trim version of the string"
   ]
  },
  {
   "cell_type": "code",
   "execution_count": 115,
   "id": "adefab7e",
   "metadata": {},
   "outputs": [
    {
     "name": "stdout",
     "output_type": "stream",
     "text": [
      "\n",
      "Given string is :         HAPPY    \n",
      "\n",
      "Result of method is :         HAPPY\n"
     ]
    }
   ],
   "source": [
    "try:\n",
    "    quote = \"       HAPPY    \"\n",
    "    def right_trim_string(line : str):\n",
    "        \"This function trim left spaces of string\"\n",
    "        try:\n",
    "            print(\"\\nGiven string is : \", line)\n",
    "            x = line.rstrip()\n",
    "            print(\"\\nResult of method is : \", x)\n",
    "        except Exception as e:\n",
    "            print(e)\n",
    "        \n",
    "    right_trim_string(quote)\n",
    "except Exception as e:\n",
    "    print(e)"
   ]
  },
  {
   "cell_type": "markdown",
   "id": "cc3cea22",
   "metadata": {},
   "source": [
    "# 39. split() :"
   ]
  },
  {
   "cell_type": "markdown",
   "id": "4e9b5e89",
   "metadata": {},
   "source": [
    "This method Splits the string at the specified separator, and returns a list"
   ]
  },
  {
   "cell_type": "code",
   "execution_count": 117,
   "id": "f1d22474",
   "metadata": {},
   "outputs": [
    {
     "name": "stdout",
     "output_type": "stream",
     "text": [
      "\n",
      "Given string is :  Whoever is happy WILL make others happy too\n",
      "\n",
      "Result of split is :  ['Whoever', 'is', 'happy', 'WILL', 'make', 'others', 'happy', 'too']\n"
     ]
    }
   ],
   "source": [
    "try:\n",
    "    quote = \"Whoever is happy WILL make others happy too\"\n",
    "    def spliting_string(line : str):\n",
    "        \"This function split string \"\n",
    "        try:\n",
    "            print(\"\\nGiven string is : \", line)\n",
    "            x = line.split()\n",
    "            print(\"\\nResult of split is : \", x)\n",
    "        except Exception as e:\n",
    "            print(e)\n",
    "        \n",
    "    spliting_string(quote)\n",
    "except Exception as e:\n",
    "    print(e)"
   ]
  },
  {
   "cell_type": "markdown",
   "id": "2968afda",
   "metadata": {},
   "source": [
    "# 40. splitlines() :"
   ]
  },
  {
   "cell_type": "markdown",
   "id": "56b10d0d",
   "metadata": {},
   "source": [
    "This method Splits the string at line breaks and returns a list"
   ]
  },
  {
   "cell_type": "code",
   "execution_count": 118,
   "id": "f3f38f2a",
   "metadata": {},
   "outputs": [
    {
     "name": "stdout",
     "output_type": "stream",
     "text": [
      "\n",
      "Given string is :  Whoever is happy WILL make others happy too\n",
      "\n",
      "Result of splitlines is :  ['Whoever is happy WILL make others happy too']\n"
     ]
    }
   ],
   "source": [
    "try:\n",
    "    quote = \"Whoever is happy WILL make others happy too\"\n",
    "    def splitline_string(line : str):\n",
    "        \"This function split string and return list \"\n",
    "        try:\n",
    "            print(\"\\nGiven string is : \", line)\n",
    "            x = line.splitlines()\n",
    "            print(\"\\nResult of splitlines is : \", x)\n",
    "        except Exception as e:\n",
    "            print(e)\n",
    "        \n",
    "    splitline_string(quote)\n",
    "except Exception as e:\n",
    "    print(e)"
   ]
  },
  {
   "cell_type": "markdown",
   "id": "9ea66062",
   "metadata": {},
   "source": [
    "# 41. startswith() : "
   ]
  },
  {
   "cell_type": "markdown",
   "id": "a546ac83",
   "metadata": {},
   "source": [
    "This method Returns true if the string starts with the specified value"
   ]
  },
  {
   "cell_type": "code",
   "execution_count": 121,
   "id": "1239b9d3",
   "metadata": {},
   "outputs": [
    {
     "name": "stdout",
     "output_type": "stream",
     "text": [
      "Enter string : Whoever\n",
      "\n",
      "Given string is :  Whoever is happy WILL make others happy too\n",
      "\n",
      "Is string start with Whoever :  True\n"
     ]
    }
   ],
   "source": [
    "try:\n",
    "    quote = \"Whoever is happy WILL make others happy too\"\n",
    "    c = input(\"Enter string : \")\n",
    "    def check_start_string(line : str, char : str):\n",
    "        \"This function return true if string start with specified value \"\n",
    "        try:\n",
    "            print(\"\\nGiven string is : \", line)\n",
    "            x = line.startswith(char)\n",
    "            print(\"\\nIs string start with\", char,\": \", x)\n",
    "        except Exception as e:\n",
    "            print(e)\n",
    "        \n",
    "    check_start_string(quote, c)\n",
    "except Exception as e:\n",
    "    print(e)"
   ]
  },
  {
   "cell_type": "markdown",
   "id": "e7b8732f",
   "metadata": {},
   "source": [
    "# 42. strip() :"
   ]
  },
  {
   "cell_type": "markdown",
   "id": "b841553c",
   "metadata": {},
   "source": [
    "This method Returns a trimmed version of the string"
   ]
  },
  {
   "cell_type": "code",
   "execution_count": 125,
   "id": "5fe4f8cb",
   "metadata": {},
   "outputs": [
    {
     "name": "stdout",
     "output_type": "stream",
     "text": [
      "\n",
      "Given string is :       Happy     \n",
      "Everyday is Happy day.\n"
     ]
    }
   ],
   "source": [
    "try:\n",
    "    quote = \"     Happy     \"\n",
    "    def strip_string(line : str):\n",
    "        \"This function Remove spaces at the beginning and at the end of the string\"\n",
    "        try:\n",
    "            print(\"\\nGiven string is : \", line)\n",
    "            x = line.strip()\n",
    "            print(\"Everyday is\", x, \"day.\")\n",
    "        except Exception as e:\n",
    "            print(e)\n",
    "        \n",
    "    strip_string(quote)\n",
    "except Exception as e:\n",
    "    print(e)"
   ]
  },
  {
   "cell_type": "markdown",
   "id": "e5b2d7a7",
   "metadata": {},
   "source": [
    "# 43. swapcase() :"
   ]
  },
  {
   "cell_type": "markdown",
   "id": "9c03f225",
   "metadata": {},
   "source": [
    "This method Swaps cases, lower case becomes upper case and vice versa"
   ]
  },
  {
   "cell_type": "code",
   "execution_count": 129,
   "id": "8a6d716e",
   "metadata": {},
   "outputs": [
    {
     "name": "stdout",
     "output_type": "stream",
     "text": [
      "\n",
      "Given string is :  Whoever is happy WILL make others happy too.\n",
      "\n",
      "Swapping of given string is : wHOEVER IS HAPPY will MAKE OTHERS HAPPY TOO.\n"
     ]
    }
   ],
   "source": [
    "try:\n",
    "    quote = \"Whoever is happy WILL make others happy too.\"\n",
    "    def swapcase_string(line : str):\n",
    "        \"This function make lower case to upper case and vice versa.\"\n",
    "        try:\n",
    "            print(\"\\nGiven string is : \", line)\n",
    "            x = line.swapcase()\n",
    "            print(\"\\nSwapping of given string is :\", x)\n",
    "        except Exception as e:\n",
    "            print(e)\n",
    "        \n",
    "    swapcase_string(quote)\n",
    "except Exception as e:\n",
    "    print(e)"
   ]
  },
  {
   "cell_type": "markdown",
   "id": "a9b14fd4",
   "metadata": {},
   "source": [
    "# 44. title() :"
   ]
  },
  {
   "cell_type": "markdown",
   "id": "da4dc383",
   "metadata": {},
   "source": [
    "This method Converts the first character of each word to upper case"
   ]
  },
  {
   "cell_type": "code",
   "execution_count": 128,
   "id": "297d7683",
   "metadata": {},
   "outputs": [
    {
     "name": "stdout",
     "output_type": "stream",
     "text": [
      "\n",
      "Given string is :  Whoever is happy WILL make others happy too.\n",
      "\n",
      "Title form of given string is : Whoever Is Happy Will Make Others Happy Too.\n"
     ]
    }
   ],
   "source": [
    "try:\n",
    "    quote = \"Whoever is happy WILL make others happy too.\"\n",
    "    def title_string(line : str):\n",
    "        \"This function convert first character to upper case.\"\n",
    "        try:\n",
    "            print(\"\\nGiven string is : \", line)\n",
    "            x = line.title()\n",
    "            print(\"\\nTitle form of given string is :\", x)\n",
    "        except Exception as e:\n",
    "            print(e)\n",
    "        \n",
    "    title_string(quote)\n",
    "except Exception as e:\n",
    "    print(e)"
   ]
  },
  {
   "cell_type": "markdown",
   "id": "aa209d35",
   "metadata": {},
   "source": [
    "# 45. upper() :"
   ]
  },
  {
   "cell_type": "markdown",
   "id": "c9976d9d",
   "metadata": {},
   "source": [
    "This method Converts a string into upper case"
   ]
  },
  {
   "cell_type": "code",
   "execution_count": 133,
   "id": "dae8e8a5",
   "metadata": {},
   "outputs": [
    {
     "name": "stdout",
     "output_type": "stream",
     "text": [
      "\n",
      "Given string is :  Whoever is happy WILL make others happy too.\n",
      "\n",
      "Upper form of given string is : WHOEVER IS HAPPY WILL MAKE OTHERS HAPPY TOO.\n"
     ]
    }
   ],
   "source": [
    "try:\n",
    "    quote = \"Whoever is happy WILL make others happy too.\"\n",
    "    def upper_string(line : str):\n",
    "        \"This function convert string to upper case.\"\n",
    "        try:\n",
    "            print(\"\\nGiven string is : \", line)\n",
    "            x = line.upper()\n",
    "            print(\"\\nUpper form of given string is :\", x)\n",
    "        except Exception as e:\n",
    "            print(e)\n",
    "        \n",
    "    upper_string(quote)\n",
    "except Exception as e:\n",
    "    print(e)"
   ]
  },
  {
   "cell_type": "markdown",
   "id": "bd5c3693",
   "metadata": {},
   "source": [
    "# 46. zfill() :"
   ]
  },
  {
   "cell_type": "markdown",
   "id": "c31bee75",
   "metadata": {},
   "source": [
    "This method Fills the string with a specified number of 0 values at the beginning"
   ]
  },
  {
   "cell_type": "code",
   "execution_count": 136,
   "id": "2a6d7746",
   "metadata": {},
   "outputs": [
    {
     "name": "stdout",
     "output_type": "stream",
     "text": [
      "Enter length of the string : 25\n",
      "\n",
      "Given string is :  Whoever is happy.\n",
      "\n",
      "String after filling : 00000000Whoever is happy.\n"
     ]
    }
   ],
   "source": [
    "try:\n",
    "    quote = \"Whoever is happy.\"\n",
    "    l = int(input(\"Enter length of the string : \"))\n",
    "    def fill_string(line : str, length : int):\n",
    "        \"This function fill string with number 0 at beginning.\"\n",
    "        try:\n",
    "            print(\"\\nGiven string is : \", line)\n",
    "            x = line.zfill(length)\n",
    "            print(\"\\nString after filling :\", x)\n",
    "        except Exception as e:\n",
    "            print(e)\n",
    "        \n",
    "    fill_string(quote, l)\n",
    "except Exception as e:\n",
    "    print(e)"
   ]
  },
  {
   "cell_type": "markdown",
   "id": "9ec3c1c9",
   "metadata": {},
   "source": [
    "# 47. Escape sequence of string"
   ]
  },
  {
   "cell_type": "markdown",
   "id": "f9776eb9",
   "metadata": {},
   "source": [
    "1. \\'  Single Quote\n",
    "2. \\\\  Backslash\n",
    "3. \\n  New Line\n",
    "4. \\r  Carriage Return\n",
    "5. \\t  Tab\n",
    "6. \\b  Backspace\n",
    "7. \\f  Form Feed\n",
    "8. \\ooo Octal value\n",
    "9. \\xhh Hex value"
   ]
  },
  {
   "cell_type": "code",
   "execution_count": 10,
   "id": "30051213",
   "metadata": {},
   "outputs": [
    {
     "name": "stdout",
     "output_type": "stream",
     "text": [
      "It's alright.\n",
      "\n",
      " This will insert one \\ (backslash).\n",
      "\n",
      " Hello\n",
      "World!\n",
      "\n",
      " Hello\r",
      "World!\n",
      "\n",
      " Hello\tWorld!\n",
      "\n",
      " Hello \bWorld!\n",
      "\n",
      " Hello\n",
      "\n",
      " Hello\n"
     ]
    }
   ],
   "source": [
    "txt = 'It\\'s alright.'\n",
    "print(txt)\n",
    "\n",
    "txt1 = \"This will insert one \\\\ (backslash).\"\n",
    "print(\"\\n\", txt1)\n",
    "\n",
    "txt2 = \"Hello\\nWorld!\"\n",
    "print(\"\\n\", txt2)\n",
    "\n",
    "txt3 = \"Hello\\rWorld!\"\n",
    "print(\"\\n\", txt3)\n",
    "\n",
    "# It gives tab\n",
    "txt4 = \"Hello\\tWorld!\"\n",
    "print(\"\\n\", txt4)\n",
    "\n",
    "# this remove one backspace\n",
    "txt5 = \"Hello \\bWorld!\"\n",
    "print(\"\\n\", txt5)\n",
    "\n",
    "# this print octal value\n",
    "txt6 = \"\\110\\145\\154\\154\\157\"\n",
    "print(\"\\n\", txt6)\n",
    "\n",
    "# this print hex value\n",
    "txt7 = \"\\x48\\x65\\x6c\\x6c\\x6f\"\n",
    "print(\"\\n\", txt7)  "
   ]
  },
  {
   "cell_type": "code",
   "execution_count": null,
   "id": "02a48815",
   "metadata": {},
   "outputs": [],
   "source": []
  }
 ],
 "metadata": {
  "kernelspec": {
   "display_name": "Python 3 (ipykernel)",
   "language": "python",
   "name": "python3"
  },
  "language_info": {
   "codemirror_mode": {
    "name": "ipython",
    "version": 3
   },
   "file_extension": ".py",
   "mimetype": "text/x-python",
   "name": "python",
   "nbconvert_exporter": "python",
   "pygments_lexer": "ipython3",
   "version": "3.9.12"
  }
 },
 "nbformat": 4,
 "nbformat_minor": 5
}
