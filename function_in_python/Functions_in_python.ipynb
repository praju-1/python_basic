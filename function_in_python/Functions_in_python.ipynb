{
 "cells": [
  {
   "cell_type": "markdown",
   "id": "40219279",
   "metadata": {},
   "source": [
    "# Function"
   ]
  },
  {
   "cell_type": "markdown",
   "id": "51318dc7",
   "metadata": {},
   "source": [
    "A function is a block of code which only runs when it is called.\n",
    "\n",
    "You can pass data, known as parameters, into a function.\n",
    "\n",
    "A function can return data as a result."
   ]
  },
  {
   "cell_type": "markdown",
   "id": "e00d0d97",
   "metadata": {},
   "source": [
    "# Types of Function"
   ]
  },
  {
   "cell_type": "markdown",
   "id": "31f83e6d",
   "metadata": {},
   "source": [
    "There are two types of function in Python programming:\n",
    "\n",
    "1. User-defined functions - We can create our own functions based on our requirements.\n",
    "2. Standard library functions - These are built-in functions in Python that are available to use.\n",
    "\n"
   ]
  },
  {
   "cell_type": "markdown",
   "id": "823f384a",
   "metadata": {},
   "source": [
    "# 1. User-defined Functions"
   ]
  },
  {
   "cell_type": "markdown",
   "id": "37d74c43",
   "metadata": {},
   "source": [
    "Function Includes:\n",
    "1. Creating Function\n",
    "2. Calling Function\n",
    "3. Arguments\n",
    "4. return statement\n",
    "5. Recurrsion\n",
    "6. Anonymus function\n"
   ]
  },
  {
   "cell_type": "markdown",
   "id": "cba60d8e",
   "metadata": {},
   "source": [
    "# 1. Creating Function"
   ]
  },
  {
   "cell_type": "code",
   "execution_count": 5,
   "id": "db90c26a",
   "metadata": {},
   "outputs": [],
   "source": [
    "# It does not give any output.. It just a defining/creating function\n",
    "try:\n",
    "    def create_function():\n",
    "        print(\"It just creation of functions\")\n",
    "except Exception as e:\n",
    "    print(e)"
   ]
  },
  {
   "cell_type": "markdown",
   "id": "fbe45f0a",
   "metadata": {},
   "source": [
    "# 2. Calling Function"
   ]
  },
  {
   "cell_type": "code",
   "execution_count": 11,
   "id": "8485f346",
   "metadata": {},
   "outputs": [
    {
     "name": "stdout",
     "output_type": "stream",
     "text": [
      "Function is calling \n"
     ]
    }
   ],
   "source": [
    "try:\n",
    "    def calling_function():\n",
    "        \"This function print the message.\"\n",
    "        try:\n",
    "            print(\"Function is calling \")\n",
    "        except Exception as e:\n",
    "            print(e)\n",
    "    calling_function()\n",
    "except Exception as e:\n",
    "    print(e)"
   ]
  },
  {
   "cell_type": "markdown",
   "id": "7cf3ea6d",
   "metadata": {},
   "source": [
    "# 3. Arguments in functions"
   ]
  },
  {
   "cell_type": "markdown",
   "id": "cf6f81ed",
   "metadata": {},
   "source": [
    "There are certain types of arguments we pass in function:\n",
    "1. Required arguments\n",
    "2. Arbitary arguments\n",
    "3. Keyword arguments\n",
    "4. Default argument"
   ]
  },
  {
   "cell_type": "markdown",
   "id": "997b7522",
   "metadata": {},
   "source": [
    "* Arguments are specified after the function name, inside the parentheses. You can add as many arguments as you want, just separate them with a comma."
   ]
  },
  {
   "cell_type": "markdown",
   "id": "0a47e89c",
   "metadata": {},
   "source": [
    "# 1. Required arguments"
   ]
  },
  {
   "cell_type": "markdown",
   "id": "79f173d1",
   "metadata": {},
   "source": [
    "* By default, a function must be called with the correct number of arguments. Meaning that if your function expects 2 arguments, you have to call the function with 2 arguments, not more, and not less."
   ]
  },
  {
   "cell_type": "code",
   "execution_count": 12,
   "id": "b2c8fc5f",
   "metadata": {},
   "outputs": [
    {
     "name": "stdout",
     "output_type": "stream",
     "text": [
      "Additon of two numbers is:   11\n"
     ]
    }
   ],
   "source": [
    "try:\n",
    "    def add_numbers(a, b):\n",
    "        \"This function return addition of two numbers.\"\n",
    "        try:\n",
    "            sum = a + b\n",
    "            print(\"Additon of two numbers is:  \", sum)\n",
    "        except Exception as e:\n",
    "            print(e)\n",
    "    add_numbers(4, 7)\n",
    "except Exception as e:\n",
    "    print(e)"
   ]
  },
  {
   "cell_type": "markdown",
   "id": "34bec175",
   "metadata": {},
   "source": [
    "* With input method :"
   ]
  },
  {
   "cell_type": "code",
   "execution_count": 13,
   "id": "a16d9371",
   "metadata": {},
   "outputs": [
    {
     "name": "stdout",
     "output_type": "stream",
     "text": [
      "Enter first number for addition : 5\n",
      "\n",
      "Enter second number for addition : 10\n",
      "\n",
      "Additon of two numbers is:   15\n"
     ]
    }
   ],
   "source": [
    "try:\n",
    "    num1 = int(input(\"Enter first number for addition : \"))\n",
    "    num2 = int(input(\"\\nEnter second number for addition : \"))\n",
    "    def add_numbers(a, b):\n",
    "        \"This function return addition of two numbers.\"\n",
    "        try:\n",
    "            sum = a + b\n",
    "            print(\"\\nAdditon of two numbers is:  \", sum)\n",
    "        except Exception as e:\n",
    "            print(e)\n",
    "    add_numbers(num1, num2)\n",
    "except Exception as e:\n",
    "    print(e)"
   ]
  },
  {
   "cell_type": "markdown",
   "id": "8e88966c",
   "metadata": {},
   "source": [
    "# 2. Arbitary arguments, *args"
   ]
  },
  {
   "cell_type": "markdown",
   "id": "c45d5fca",
   "metadata": {},
   "source": [
    "* If you do not know how many arguments that will be passed into your function, add a * before the parameter name in the function definition."
   ]
  },
  {
   "cell_type": "code",
   "execution_count": 17,
   "id": "87ec46ef",
   "metadata": {},
   "outputs": [],
   "source": [
    "try:\n",
    "    def add_multiple_numbers(*a):\n",
    "        \"This function return addition of multiple numbers.\"\n",
    "        try:\n",
    "            sum = 0\n",
    "            \n",
    "            for num in a:\n",
    "                sum = sum + num\n",
    "            print(\"Additon of two numbers is:  \", sum)\n",
    "        except Exception as e:\n",
    "            print(e)\n",
    "            \n",
    "except Exception as e:\n",
    "    print(e)"
   ]
  },
  {
   "cell_type": "code",
   "execution_count": 18,
   "id": "4d4b10d8",
   "metadata": {},
   "outputs": [
    {
     "name": "stdout",
     "output_type": "stream",
     "text": [
      "Additon of two numbers is:   11\n"
     ]
    }
   ],
   "source": [
    "# Calling function with two arguments\n",
    "add_multiple_numbers(4, 7)"
   ]
  },
  {
   "cell_type": "code",
   "execution_count": 20,
   "id": "f1a71383",
   "metadata": {},
   "outputs": [
    {
     "name": "stdout",
     "output_type": "stream",
     "text": [
      "Additon of two numbers is:   32\n"
     ]
    }
   ],
   "source": [
    "#Calling function with 4 arguments\n",
    "add_multiple_numbers(5, 9, 8, 10)"
   ]
  },
  {
   "cell_type": "markdown",
   "id": "50c67ccf",
   "metadata": {},
   "source": [
    "# 3. Keyword arguments"
   ]
  },
  {
   "cell_type": "markdown",
   "id": "ae41ddaf",
   "metadata": {},
   "source": [
    "You can also send arguments with the key = value syntax.\n",
    "\n",
    "This way the order of the arguments does not matter."
   ]
  },
  {
   "cell_type": "code",
   "execution_count": 21,
   "id": "f55a837d",
   "metadata": {},
   "outputs": [
    {
     "name": "stdout",
     "output_type": "stream",
     "text": [
      "\n",
      "Additon of two numbers is:   30\n"
     ]
    }
   ],
   "source": [
    "try:\n",
    "    def add_numbers(a, b):\n",
    "        \"This function return addition of two numbers.\"\n",
    "        try:\n",
    "            sum = a + b\n",
    "            print(\"\\nAdditon of two numbers is:  \", sum)\n",
    "        except Exception as e:\n",
    "            print(e)\n",
    "    add_numbers(a = 10, b = 20)\n",
    "except Exception as e:\n",
    "    print(e)"
   ]
  },
  {
   "cell_type": "markdown",
   "id": "ad73d383",
   "metadata": {},
   "source": [
    "# * Arbitrary Keyword Arguments, **kwargs"
   ]
  },
  {
   "cell_type": "markdown",
   "id": "6951b5c7",
   "metadata": {},
   "source": [
    "* If you do not know how many keyword arguments that will be passed into your function, add two asterisk: ** before the parameter name in the function definition."
   ]
  },
  {
   "cell_type": "code",
   "execution_count": 30,
   "id": "ef893392",
   "metadata": {},
   "outputs": [
    {
     "name": "stdout",
     "output_type": "stream",
     "text": [
      "Python is very Easy Language.\n"
     ]
    }
   ],
   "source": [
    "try:\n",
    "    def add_multiple_keyarg(**a):\n",
    "        \"This function return addition of multiple numbers.\"\n",
    "        try:\n",
    "            print(\"Python is very \" + a[\"i\"], \"Language.\")\n",
    "\n",
    "        except Exception as e:\n",
    "            print(e)\n",
    "    add_multiple_keyarg(i = \"Easy\", j = \"Difficult\")        \n",
    "except Exception as e:\n",
    "    print(e)"
   ]
  },
  {
   "cell_type": "markdown",
   "id": "3950bc31",
   "metadata": {},
   "source": [
    "# 4. Default argument"
   ]
  },
  {
   "cell_type": "markdown",
   "id": "1e20d1e8",
   "metadata": {},
   "source": [
    "* A default argument is an argument that assumes a default value if a value is not provided in the function call for that argument. "
   ]
  },
  {
   "cell_type": "markdown",
   "id": "23907fab",
   "metadata": {},
   "source": [
    "* If we call the function without argument, it uses the default value:"
   ]
  },
  {
   "cell_type": "markdown",
   "id": "a20863f7",
   "metadata": {},
   "source": [
    "* We use the = operator to provide default values."
   ]
  },
  {
   "cell_type": "code",
   "execution_count": 33,
   "id": "6a8588d9",
   "metadata": {},
   "outputs": [],
   "source": [
    "try:\n",
    "    def add_numbers(a = 45, b = 35):\n",
    "        \"This function return addition of two numbers.\"\n",
    "        try:\n",
    "            sum = a + b\n",
    "            print(\"\\nAdditon of two numbers is:  \", sum)\n",
    "        except Exception as e:\n",
    "            print(e)\n",
    "except Exception as e:\n",
    "    print(e)"
   ]
  },
  {
   "cell_type": "code",
   "execution_count": 34,
   "id": "b6038ec5",
   "metadata": {},
   "outputs": [
    {
     "name": "stdout",
     "output_type": "stream",
     "text": [
      "\n",
      "Additon of two numbers is:   80\n"
     ]
    }
   ],
   "source": [
    "# function call with two arguments\n",
    "add_numbers()"
   ]
  },
  {
   "cell_type": "code",
   "execution_count": 35,
   "id": "f8e4b7d9",
   "metadata": {},
   "outputs": [
    {
     "name": "stdout",
     "output_type": "stream",
     "text": [
      "\n",
      "Additon of two numbers is:   59\n"
     ]
    }
   ],
   "source": [
    "#  function call with one argument\n",
    "add_numbers(24)"
   ]
  },
  {
   "cell_type": "code",
   "execution_count": 37,
   "id": "73675587",
   "metadata": {},
   "outputs": [
    {
     "name": "stdout",
     "output_type": "stream",
     "text": [
      "\n",
      "Additon of two numbers is:   50\n"
     ]
    }
   ],
   "source": [
    "# function call with two arguments\n",
    "add_numbers(20, 30)"
   ]
  },
  {
   "cell_type": "markdown",
   "id": "ece64730",
   "metadata": {},
   "source": [
    "# 4. return Statement"
   ]
  },
  {
   "cell_type": "markdown",
   "id": "3ab946a5",
   "metadata": {},
   "source": [
    "* A Python function may or may not return a value. If we want our function to return some value to a function call, we use the return statement. "
   ]
  },
  {
   "cell_type": "code",
   "execution_count": 41,
   "id": "0185c228",
   "metadata": {},
   "outputs": [
    {
     "name": "stdout",
     "output_type": "stream",
     "text": [
      "Sum of two number is :  9\n"
     ]
    }
   ],
   "source": [
    "try:\n",
    "    def add_numbers(num1, num2):\n",
    "        \"This function return addition of two numbers\"\n",
    "        try:\n",
    "            sum = num1 + num2\n",
    "            return sum\n",
    "        \n",
    "        except Exception as e:\n",
    "            print(e)\n",
    "            \n",
    "    result = add_numbers(5, 4)\n",
    "\n",
    "    print(\"Sum of two number is : \", result)\n",
    "except Exception as e:\n",
    "    print(e)"
   ]
  },
  {
   "cell_type": "markdown",
   "id": "b50b00a2",
   "metadata": {},
   "source": [
    "# 5. Recurrsion"
   ]
  },
  {
   "cell_type": "markdown",
   "id": "6c6bf42c",
   "metadata": {},
   "source": [
    "* Recursion is a common mathematical and programming concept. It means that a function calls itself."
   ]
  },
  {
   "cell_type": "code",
   "execution_count": 5,
   "id": "6b752ec8",
   "metadata": {},
   "outputs": [
    {
     "name": "stdout",
     "output_type": "stream",
     "text": [
      "Enter number to calculate factorial : 3\n",
      "\n",
      "The factorial of 3 is 6\n"
     ]
    }
   ],
   "source": [
    "try:\n",
    "    n = int(input(\"Enter number to calculate factorial : \"))\n",
    "    def factorial(x):\n",
    "        \"\"\"This is a recursive function to find the factorial of an integer\"\"\"\n",
    "        try:\n",
    "            if x == 1:\n",
    "                return 1\n",
    "            else:\n",
    "                return (x * factorial(x-1))\n",
    "\n",
    "        except Exception as e:\n",
    "            print(e)\n",
    "    print(\"\\nThe factorial of\", num, \"is\", factorial(n))\n",
    "except Exception as e:\n",
    "    print(e)"
   ]
  },
  {
   "cell_type": "raw",
   "id": "56467b3e",
   "metadata": {},
   "source": [
    "factorial(3)          # 1st call with 3\n",
    "3 * factorial(2)      # 2nd call with 2\n",
    "3 * 2 * factorial(1)  # 3rd call with 1\n",
    "3 * 2 * 1             # return from 3rd call as number=1\n",
    "3 * 2                 # return from 2nd call\n",
    "6                     # return from 1st call"
   ]
  },
  {
   "cell_type": "markdown",
   "id": "af241fd5",
   "metadata": {},
   "source": [
    "# 6. Anonymus Function"
   ]
  },
  {
   "cell_type": "markdown",
   "id": "c6431ea9",
   "metadata": {},
   "source": [
    "* A lambda function is a small anonymous function.\n",
    "\n",
    "* A lambda function can take any number of arguments, but can only have one expression."
   ]
  },
  {
   "cell_type": "code",
   "execution_count": 12,
   "id": "1766b4c5",
   "metadata": {},
   "outputs": [
    {
     "name": "stdout",
     "output_type": "stream",
     "text": [
      "13\n"
     ]
    }
   ],
   "source": [
    "x = lambda a, b, c : a + b + c\n",
    "print(x(5, 6, 2))"
   ]
  },
  {
   "cell_type": "code",
   "execution_count": 10,
   "id": "41ad0878",
   "metadata": {},
   "outputs": [
    {
     "name": "stdout",
     "output_type": "stream",
     "text": [
      "Enter first number for addition : 12\n",
      "\n",
      "Enter second number for addition : 12\n",
      "\n",
      "Additon of two numbers is:   24\n"
     ]
    }
   ],
   "source": [
    "try:\n",
    "    num1 = int(input(\"Enter first number for addition : \"))\n",
    "    num2 = int(input(\"\\nEnter second number for addition : \"))\n",
    "    def add_numbers():\n",
    "        \"This function return addition of two numbers.\"\n",
    "        try:\n",
    "            #Here, we have created a lambda function that return addition of two numbers\n",
    "            lambda_addition = lambda a, b: a + b\n",
    "            print(\"\\nAdditon of two numbers is:  \", lambda_addition(num1, num2))\n",
    "        except Exception as e:\n",
    "            print(e)\n",
    "    add_numbers()\n",
    "except Exception as e:\n",
    "    print(e)"
   ]
  },
  {
   "cell_type": "markdown",
   "id": "f25d6397",
   "metadata": {},
   "source": [
    "# 2. Standard library functions"
   ]
  },
  {
   "cell_type": "markdown",
   "id": "5c8ba42c",
   "metadata": {},
   "source": [
    "* In Python, standard library functions are the built-in functions that can be used directly in our program."
   ]
  },
  {
   "cell_type": "markdown",
   "id": "a50265cb",
   "metadata": {},
   "source": [
    "1. print() - prints the string inside the quotation marks\n",
    "2. sqrt() - returns the square root of a number\n",
    "3. pow() - returns the power of a number"
   ]
  },
  {
   "cell_type": "code",
   "execution_count": 13,
   "id": "c5f13032",
   "metadata": {},
   "outputs": [
    {
     "name": "stdout",
     "output_type": "stream",
     "text": [
      "Square Root of 4 is 2.0\n",
      "2 to the power 3 is 8\n"
     ]
    }
   ],
   "source": [
    "import math\n",
    "\n",
    "# sqrt computes the square root\n",
    "square_root = math.sqrt(4)\n",
    "\n",
    "print(\"Square Root of 4 is\",square_root)\n",
    "\n",
    "# pow() comptes the power\n",
    "power = pow(2, 3)\n",
    "\n",
    "print(\"2 to the power 3 is\",power)"
   ]
  }
 ],
 "metadata": {
  "kernelspec": {
   "display_name": "Python 3",
   "language": "python",
   "name": "python3"
  },
  "language_info": {
   "codemirror_mode": {
    "name": "ipython",
    "version": 3
   },
   "file_extension": ".py",
   "mimetype": "text/x-python",
   "name": "python",
   "nbconvert_exporter": "python",
   "pygments_lexer": "ipython3",
   "version": "3.10.7 (tags/v3.10.7:6cc6b13, Sep  5 2022, 14:08:36) [MSC v.1933 64 bit (AMD64)]"
  },
  "vscode": {
   "interpreter": {
    "hash": "fbc768028c3e6ead51d9a200ddcb2ec858ae62844dcd1994729a8279be9b48f2"
   }
  }
 },
 "nbformat": 4,
 "nbformat_minor": 5
}
