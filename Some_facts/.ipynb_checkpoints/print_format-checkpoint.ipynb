{
 "cells": [
  {
   "cell_type": "markdown",
   "id": "d82ed935",
   "metadata": {},
   "source": [
    "1. Use equal sign to print variable name together with the value"
   ]
  },
  {
   "cell_type": "code",
   "execution_count": 8,
   "id": "0ead9dbc",
   "metadata": {},
   "outputs": [
    {
     "name": "stdout",
     "output_type": "stream",
     "text": [
      "stars = 100000 \n"
     ]
    }
   ],
   "source": [
    "stars = 100000\n",
    "print(f\"{stars = } \")"
   ]
  },
  {
   "cell_type": "markdown",
   "id": "8d9f2a24",
   "metadata": {},
   "source": [
    "2. Add colon and comma to make the output easier to read"
   ]
  },
  {
   "cell_type": "code",
   "execution_count": 9,
   "id": "a19c2acd",
   "metadata": {},
   "outputs": [
    {
     "name": "stdout",
     "output_type": "stream",
     "text": [
      "stars = 1,000,000 \n"
     ]
    }
   ],
   "source": [
    "stars = 1000000\n",
    "print(f\"{stars =: ,} \")"
   ]
  },
  {
   "cell_type": "markdown",
   "id": "01df12a0",
   "metadata": {},
   "source": [
    "3. Add colon .Nf to round-up the number in the output (Where N is natural number)"
   ]
  },
  {
   "cell_type": "code",
   "execution_count": 11,
   "id": "6c156fbf",
   "metadata": {},
   "outputs": [
    {
     "name": "stdout",
     "output_type": "stream",
     "text": [
      "stars = 100000.3\n"
     ]
    }
   ],
   "source": [
    "stars = 100000.2643\n",
    "print(f\"{stars =: .1f}\")"
   ]
  },
  {
   "cell_type": "markdown",
   "id": "883a9ac1",
   "metadata": {},
   "source": [
    "4. combine multiple f-strings with parentheses for cleaner formatting."
   ]
  },
  {
   "cell_type": "code",
   "execution_count": 15,
   "id": "5137ae01",
   "metadata": {},
   "outputs": [
    {
     "name": "stdout",
     "output_type": "stream",
     "text": [
      "This is my first Star.\n",
      "This is my second Star.\n",
      "This is my third Star.\n"
     ]
    }
   ],
   "source": [
    "obj = \"Star\"\n",
    "long_str = (\n",
    "        f\"This is my first {obj}.\\n\"\n",
    "        f\"This is my second {obj}.\\n\"\n",
    "        f\"This is my third {obj}.\"\n",
    ")\n",
    "print(long_str)"
   ]
  },
  {
   "cell_type": "markdown",
   "id": "537774be",
   "metadata": {},
   "source": [
    "5. Say you want to print a variable and its value but you dont want to see the equal sign. \n",
    "The output of f-string is evaluated to a simple string, so you can edit it as you would a string variable"
   ]
  },
  {
   "cell_type": "code",
   "execution_count": 16,
   "id": "14539019",
   "metadata": {},
   "outputs": [
    {
     "name": "stdout",
     "output_type": "stream",
     "text": [
      "Stars is equal to  1,000,000.\n"
     ]
    }
   ],
   "source": [
    "stars = 1000000\n",
    "print(f\"{stars =: ,}.\".replace(\"=\", \"is equal to \").capitalize()\n",
    ")"
   ]
  },
  {
   "cell_type": "markdown",
   "id": "f57653b4",
   "metadata": {},
   "source": [
    "6. You can use f-string to access variable name"
   ]
  },
  {
   "cell_type": "code",
   "execution_count": 17,
   "id": "df3fd970",
   "metadata": {},
   "outputs": [
    {
     "name": "stdout",
     "output_type": "stream",
     "text": [
      "stars\n"
     ]
    }
   ],
   "source": [
    "some_variable_name = (\n",
    "f\"{stars=}\"[:f\"{stars=}\".rfind(\"=\")]\n",
    ")\n",
    "print(some_variable_name)"
   ]
  },
  {
   "cell_type": "markdown",
   "id": "a3ca8e93",
   "metadata": {},
   "source": [
    "7. Use it in __init__ together with 'exec' for more precise constructor (probably not the best idea)"
   ]
  },
  {
   "cell_type": "code",
   "execution_count": 22,
   "id": "7cdd5d8f",
   "metadata": {},
   "outputs": [
    {
     "name": "stdout",
     "output_type": "stream",
     "text": [
      "stars: 100000\n",
      " like: 2000\n",
      " comment: I like counting stars\n"
     ]
    }
   ],
   "source": [
    "class A:\n",
    "    def __init__(self, stars, like, comment):\n",
    "        prefix = 'self.'\n",
    "        exec(f\"{prefix}{stars=}\")\n",
    "        exec(f\"{prefix}{like=}\")\n",
    "        exec(f\"{prefix}{comment=}\")\n",
    "    def __str__(self):\n",
    "        return str(self.__dict__).replace(\",\",\"\\n\").replace(\"'\", \"\")[1:-1]\n",
    "stars, like, comment = 100000, 2000, \"I like counting stars\"    \n",
    "print(A(star, like, comment))"
   ]
  },
  {
   "cell_type": "markdown",
   "id": "adda5536",
   "metadata": {},
   "source": [
    "8. If we've gone this far, we might pass f-strings instead of argumets, and make the __init__ method a one liner"
   ]
  },
  {
   "cell_type": "code",
   "execution_count": 25,
   "id": "2131f7d5",
   "metadata": {},
   "outputs": [
    {
     "name": "stdout",
     "output_type": "stream",
     "text": [
      "star: 100000\n",
      " like: 2000\n",
      " comment: I like counting stars\n"
     ]
    }
   ],
   "source": [
    "class B:\n",
    "    def __init__(self, *args):\n",
    "        for arg in args: exec(f\"self.{arg}\")\n",
    "    def __str__(self):\n",
    "        return str(self.__dict__).replace(\",\",\"\\n\").replace(\"'\", \"\")[1:-1]\n",
    "print(B(f\"{star=}\", f\"{like=}\", f\"{comment=}\"))  "
   ]
  },
  {
   "cell_type": "markdown",
   "id": "88bd5514",
   "metadata": {},
   "source": [
    "9. It even works for dictionaries!"
   ]
  },
  {
   "cell_type": "code",
   "execution_count": 27,
   "id": "8e66ff04",
   "metadata": {},
   "outputs": [
    {
     "name": "stdout",
     "output_type": "stream",
     "text": [
      "stars: 100000\n",
      " like: 2000\n",
      " comment: I like counting stars\n",
      " other: {what: 42\n",
      " is_this: abcd}\n",
      "<class 'dict'>\n"
     ]
    }
   ],
   "source": [
    "other = {\"what\" : 42, \"is_this\": \"abcd\"}\n",
    "b = B(\n",
    "    f\"{stars=}\",\n",
    "    f\"{like=}\",\n",
    "    f\"{comment=}\",\n",
    "    f\"{other=}\"\n",
    ")\n",
    "print(b)\n",
    "print(type(b.other))"
   ]
  },
  {
   "cell_type": "markdown",
   "id": "a0a08b01",
   "metadata": {},
   "source": [
    "10. A more conservative approach would be to use the logic from B class to generate the traditional look of the constructor:"
   ]
  },
  {
   "cell_type": "code",
   "execution_count": 29,
   "id": "c14f0235",
   "metadata": {},
   "outputs": [
    {
     "name": "stdout",
     "output_type": "stream",
     "text": [
      "def__init__(self, stars, like, comment, other): \n",
      " self.stars = 100000\n",
      " self.like = 2000\n",
      " self.comment = 'I like counting stars'\n",
      " self.other = {'what': 42, 'is_this': 'abcd'}\n"
     ]
    }
   ],
   "source": [
    "class c:\n",
    "    def __init__(self, *args):\n",
    "        for arg in args: exec(f\"self.{arg}\")\n",
    "        arg_names = [arg[:arg.rfind(\"=\")] for arg in args]\n",
    "        print(f\"def__init__(self, {', '.join(arg_names)}): \")\n",
    "        for arg in args:\n",
    "            print(f\" self.{arg}\".replace(\"=\", \" = \"))\n",
    "            \n",
    "    def __str__(self):\n",
    "        return str(self.__dict__).replace(\",\",\"\\n\").replace(\"'\", \"\")[1:-1]\n",
    "C = c(f\"{stars=}\", f\"{like=}\", f\"{comment=}\",f\"{other=}\")"
   ]
  }
 ],
 "metadata": {
  "kernelspec": {
   "display_name": "Python 3 (ipykernel)",
   "language": "python",
   "name": "python3"
  },
  "language_info": {
   "codemirror_mode": {
    "name": "ipython",
    "version": 3
   },
   "file_extension": ".py",
   "mimetype": "text/x-python",
   "name": "python",
   "nbconvert_exporter": "python",
   "pygments_lexer": "ipython3",
   "version": "3.9.13"
  }
 },
 "nbformat": 4,
 "nbformat_minor": 5
}
