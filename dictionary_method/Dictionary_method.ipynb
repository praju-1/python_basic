{
 "cells": [
  {
   "cell_type": "markdown",
   "id": "e2bd5fa6",
   "metadata": {},
   "source": [
    "# Dictionary method"
   ]
  },
  {
   "cell_type": "markdown",
   "id": "7a1b6545",
   "metadata": {},
   "source": [
    "Dictionary includes 14 methods.\n",
    "1. clear()\n",
    "2. copy()\t\n",
    "3. fromkeys()\t\n",
    "4. get()\t\n",
    "5. items()\t\n",
    "6. keys()\n",
    "7. pop()\n",
    "8. popitem()\n",
    "9. setdefault()\n",
    "10. update()\t\n",
    "11. values()\n",
    "12. len()\n",
    "13. type() \n",
    "14. Dictionary comprehnsion :"
   ]
  },
  {
   "cell_type": "markdown",
   "id": "5babb860",
   "metadata": {},
   "source": [
    "# 1. clear() :"
   ]
  },
  {
   "cell_type": "markdown",
   "id": "47a1d94d",
   "metadata": {},
   "source": [
    "This method Removes all the elements from the dictionary"
   ]
  },
  {
   "cell_type": "code",
   "execution_count": 7,
   "id": "6321897d",
   "metadata": {},
   "outputs": [
    {
     "name": "stdout",
     "output_type": "stream",
     "text": [
      "\n",
      "Given dictionary is :  {'John': '3rd', 'Ram': '5th', 'Krishna': '12th', 'Arjun': '7th'}\n",
      "\n",
      "Dictionary after clear method :  {}\n"
     ]
    }
   ],
   "source": [
    "try:\n",
    "    # Dictionary contain student name and their class\n",
    "    student_class = {\"John\" : '3rd', \"Ram\" : \"5th\", \"Krishna\" : \"12th\", \"Arjun\" : \"7th\"} \n",
    "\n",
    "    def clear_dictionary(values : dict):\n",
    "        \"This function clear all element from dictionary\"\n",
    "        try:\n",
    "            print(\"\\nGiven dictionary is : \", values)\n",
    "            values.clear()\n",
    "            print(\"\\nDictionary after clear method : \", values)\n",
    "        except Exception as e:\n",
    "            print(e)\n",
    "        \n",
    "    clear_dictionary(student_class)\n",
    "except Exception as e:\n",
    "    print(e)"
   ]
  },
  {
   "cell_type": "markdown",
   "id": "67822fa1",
   "metadata": {},
   "source": [
    "# 2. copy() :"
   ]
  },
  {
   "cell_type": "markdown",
   "id": "c5e7ba16",
   "metadata": {},
   "source": [
    "This method Returns a copy of the dictionary"
   ]
  },
  {
   "cell_type": "code",
   "execution_count": 8,
   "id": "2c003844",
   "metadata": {},
   "outputs": [
    {
     "name": "stdout",
     "output_type": "stream",
     "text": [
      "\n",
      "Original Dictionary is :  {'John': '3rd', 'Ram': '5th', 'Krishna': '12th', 'Arjun': '7th'}\n",
      "\n",
      "Copied dictionary :  {'John': '3rd', 'Ram': '5th', 'Krishna': '12th', 'Arjun': '7th'}\n"
     ]
    }
   ],
   "source": [
    "try:\n",
    "    # Dictionary contain student name and their class\n",
    "    student_class = {\"John\" : '3rd', \"Ram\" : \"5th\", \"Krishna\" : \"12th\", \"Arjun\" : \"7th\"} \n",
    "\n",
    "    def copy_dictionary(values : dict):\n",
    "        \"This function copy element from one dictionary to another\"\n",
    "        try:\n",
    "            print(\"\\nOriginal Dictionary is : \", values)\n",
    "            x = values.copy()\n",
    "            print(\"\\nCopied dictionary : \", x)\n",
    "        except Exception as e:\n",
    "            print(e)\n",
    "        \n",
    "    copy_dictionary(student_class)\n",
    "except Exception as e:\n",
    "    print(e)"
   ]
  },
  {
   "cell_type": "markdown",
   "id": "f16f1ecd",
   "metadata": {},
   "source": [
    "# 3. fromkeys() :"
   ]
  },
  {
   "cell_type": "markdown",
   "id": "c372925f",
   "metadata": {},
   "source": [
    "This method Returns a dictionary with the specified keys and value"
   ]
  },
  {
   "cell_type": "code",
   "execution_count": 4,
   "id": "9400e4f4",
   "metadata": {},
   "outputs": [
    {
     "name": "stdout",
     "output_type": "stream",
     "text": [
      "Keys of the Dictionary.ipynbtionary are :  {'Ram', 'Krishna', 'Arjun', 'John'}\n",
      "\n",
      "Values of the dictionary are :  1\n",
      "\n",
      "Dictionary after method :  {'Ram': 1, 'Krishna': 1, 'Arjun': 1, 'John': 1}\n"
     ]
    }
   ],
   "source": [
    "try:\n",
    "    student_class = {\"John\" , \"Ram\", \"Krishna\", \"Arjun\"}\n",
    "    number = 1\n",
    "\n",
    "    def specified_dictionary( key : str, val : any):\n",
    "        \"This function return dictionary with specified key and value pair\"\n",
    "        try:\n",
    "            print(\"Keys of the Dictionary.ipynbtionary are : \", key)\n",
    "            print(\"\\nValues of the dictionary are : \", val)\n",
    "            a = dict.fromkeys(key, val)\n",
    "    \n",
    "            print(\"\\nDictionary after method : \", a)\n",
    "        except Exception as e:\n",
    "            print(e)\n",
    "        \n",
    "    specified_dictionary(student_class, number)\n",
    "except Exception as e:\n",
    "    print(e)"
   ]
  },
  {
   "cell_type": "markdown",
   "id": "d273d600",
   "metadata": {},
   "source": [
    "# 4. get() :"
   ]
  },
  {
   "cell_type": "markdown",
   "id": "4d3498f9",
   "metadata": {},
   "source": [
    "This method Returns the value of the specified key"
   ]
  },
  {
   "cell_type": "code",
   "execution_count": 10,
   "id": "237afb7b",
   "metadata": {},
   "outputs": [
    {
     "name": "stdout",
     "output_type": "stream",
     "text": [
      "Enter the key to access its value :8\n",
      "\n",
      "Original Student class dictionary is :  {'John': '3rd', 'Ram': '5th', 'Krishna': '12th', 'Arjun': '7th'}\n",
      "\n",
      "Value of the 8 is :  None\n"
     ]
    }
   ],
   "source": [
    "try:\n",
    "    # Dictionary contain student name and their class\n",
    "    student_class = {\"John\" : '3rd', \"Ram\" : \"5th\", \"Krishna\" : \"12th\", \"Arjun\" : \"7th\"} \n",
    "    val = input(\"Enter the key to access its value :\")\n",
    "    def access_value(values : dict, key : str):\n",
    "        \"This function return value of specified keys\"\n",
    "        try:\n",
    "            print(\"\\nOriginal Student class dictionary is : \", values)\n",
    "            x = values.get(key)\n",
    "            print(\"\\nValue of the\", key, \"is : \", x)\n",
    "        except Exception as e:\n",
    "            print(e)\n",
    "        \n",
    "    access_value(student_class, val)\n",
    "except Exception as e:\n",
    "    print(e)"
   ]
  },
  {
   "cell_type": "markdown",
   "id": "66270cc8",
   "metadata": {},
   "source": [
    "# 5. items() :"
   ]
  },
  {
   "cell_type": "markdown",
   "id": "f412a41e",
   "metadata": {},
   "source": [
    "This method Returns a list containing a tuple for each key value pair"
   ]
  },
  {
   "cell_type": "code",
   "execution_count": 11,
   "id": "ae576e6a",
   "metadata": {},
   "outputs": [
    {
     "name": "stdout",
     "output_type": "stream",
     "text": [
      "\n",
      "Original Student class dictionary is :  {'John': '3rd', 'Ram': '5th', 'Krishna': '12th', 'Arjun': '7th'}\n",
      "\n",
      "Items of the dictionary are :  dict_items([('John', '3rd'), ('Ram', '5th'), ('Krishna', '12th'), ('Arjun', '7th')])\n"
     ]
    }
   ],
   "source": [
    "try:\n",
    "    # Dictionary contain student name and their class\n",
    "    student_class = {\"John\" : '3rd', \"Ram\" : \"5th\", \"Krishna\" : \"12th\", \"Arjun\" : \"7th\"} \n",
    "    def access_items_from_dictionary(values : dict):\n",
    "        \"This function return all items from dictionary in key value pair in tuple form\"\n",
    "        try:\n",
    "            print(\"\\nOriginal Student class dictionary is : \", values)\n",
    "            x = values.items()\n",
    "            print(\"\\nItems of the dictionary are : \", x)\n",
    "        except Exception as e:\n",
    "            print(e)\n",
    "        \n",
    "    access_items_from_dictionary(student_class)\n",
    "except Exception as e:\n",
    "    print(e)"
   ]
  },
  {
   "cell_type": "markdown",
   "id": "0f38e9e7",
   "metadata": {},
   "source": [
    "# 6. keys() :"
   ]
  },
  {
   "cell_type": "markdown",
   "id": "4be47e75",
   "metadata": {},
   "source": [
    "This method Returns a list containing the dictionary's keys"
   ]
  },
  {
   "cell_type": "code",
   "execution_count": 12,
   "id": "96d0eca3",
   "metadata": {},
   "outputs": [
    {
     "name": "stdout",
     "output_type": "stream",
     "text": [
      "\n",
      "Original Student class dictionary is :  {'John': '3rd', 'Ram': '5th', 'Krishna': '12th', 'Arjun': '7th'}\n",
      "\n",
      "Keys from dictionary are :  dict_keys(['John', 'Ram', 'Krishna', 'Arjun'])\n"
     ]
    }
   ],
   "source": [
    "try:\n",
    "    # Dictionary contain student name and their class\n",
    "    student_class = {\"John\" : '3rd', \"Ram\" : \"5th\", \"Krishna\" : \"12th\", \"Arjun\" : \"7th\"} \n",
    "    def access_keys_from_dictionary(values : dict):\n",
    "        \"This function return only keys from dictionary.\"\n",
    "        try:\n",
    "            print(\"\\nOriginal Student class dictionary is : \", values)\n",
    "            x = values.keys()\n",
    "            print(\"\\nKeys from dictionary are : \", x)\n",
    "        except Exception as e:\n",
    "            print(e)\n",
    "        \n",
    "    access_keys_from_dictionary(student_class)\n",
    "except Exception as e:\n",
    "    print(e)"
   ]
  },
  {
   "cell_type": "markdown",
   "id": "cd6f298b",
   "metadata": {},
   "source": [
    "# 7. pop() :"
   ]
  },
  {
   "cell_type": "markdown",
   "id": "10e12a92",
   "metadata": {},
   "source": [
    "This method Removes the element with the specified key"
   ]
  },
  {
   "cell_type": "code",
   "execution_count": 13,
   "id": "35b61a9c",
   "metadata": {},
   "outputs": [
    {
     "name": "stdout",
     "output_type": "stream",
     "text": [
      "name 'k' is not defined\n"
     ]
    }
   ],
   "source": [
    "try:\n",
    "    # Dictionary contain student name and their class\n",
    "    student_class = {\"John\" : '3rd', \"Ram\" : \"5th\", \"Krishna\" : \"12th\", \"Arjun\" : \"7th\"} \n",
    "    \n",
    "    def remove_pair_from_dictionary(values : dict, key : str):\n",
    "        \"This function remove specified key value pair from dictionary.\"\n",
    "        try:\n",
    "            print(\"\\nOriginal Student class dictionary is : \", values)\n",
    "            \n",
    "            k = input(\"\\nEnter key which you want to remove :\")\n",
    "            values.pop(key)\n",
    "            \n",
    "            print(\"\\nDictionary after pop method : \", values)\n",
    "        \n",
    "        except Exception as e:\n",
    "            print(e)\n",
    "        \n",
    "    remove_pair_from_dictionary(student_class, k)\n",
    "except Exception as e:\n",
    "    print(e)"
   ]
  },
  {
   "cell_type": "markdown",
   "id": "e23fab41",
   "metadata": {},
   "source": [
    "# 8. popitem() :"
   ]
  },
  {
   "cell_type": "markdown",
   "id": "86c455b7",
   "metadata": {},
   "source": [
    "This method Removes the last inserted key-value pair"
   ]
  },
  {
   "cell_type": "code",
   "execution_count": 14,
   "id": "35b199f0",
   "metadata": {},
   "outputs": [
    {
     "name": "stdout",
     "output_type": "stream",
     "text": [
      "\n",
      "Original Student class dictionary is :  {'John': '3rd', 'Ram': '5th', 'Krishna': '12th', 'Arjun': '7th'}\n",
      "\n",
      "Dictionary after popitem method :  {'John': '3rd', 'Ram': '5th', 'Krishna': '12th'}\n"
     ]
    }
   ],
   "source": [
    "try:\n",
    "    # Dictionary contain student name and their class\n",
    "    student_class = {\"John\" : '3rd', \"Ram\" : \"5th\", \"Krishna\" : \"12th\", \"Arjun\" : \"7th\"} \n",
    "    \n",
    "    def remove_last_pair(values : dict):\n",
    "        \"This function remove last inserted key value pair from dictionary.\"\n",
    "        try:\n",
    "            print(\"\\nOriginal Student class dictionary is : \", values)\n",
    "            values.popitem()\n",
    "            print(\"\\nDictionary after popitem method : \", values)\n",
    "        \n",
    "        except Exception as e:\n",
    "            print(e)\n",
    "        \n",
    "    remove_last_pair(student_class)\n",
    "except Exception as e:\n",
    "    print(e)"
   ]
  },
  {
   "cell_type": "markdown",
   "id": "db5b17e3",
   "metadata": {},
   "source": [
    "# 9. setdefault() :"
   ]
  },
  {
   "cell_type": "markdown",
   "id": "9d4924d1",
   "metadata": {},
   "source": [
    "This method Returns the value of the specified key. "
   ]
  },
  {
   "cell_type": "code",
   "execution_count": 15,
   "id": "a1d83969",
   "metadata": {},
   "outputs": [
    {
     "name": "stdout",
     "output_type": "stream",
     "text": [
      "Enter key to set value : 4\n",
      "Enter value for the key :4\n",
      "\n",
      "Original Student class dictionary is :  {'John': '3rd', 'Ram': '5th', 'Krishna': '12th', 'Arjun': '7th'}\n",
      "\n",
      "Values of the 4 is : 4\n",
      "\n",
      "Student class dictionary is : {'John': '3rd', 'Ram': '5th', 'Krishna': '12th', 'Arjun': '7th', '4': '4'}\n"
     ]
    }
   ],
   "source": [
    "try:\n",
    "    # Dictionary contain student name and their class\n",
    "    student_class = {\"John\" : '3rd', \"Ram\" : \"5th\", \"Krishna\" : \"12th\", \"Arjun\" : \"7th\"} \n",
    "    k = input(\"Enter key to set value : \")\n",
    "    v = input(\"Enter value for the key :\")\n",
    "    def set_value_for_key(values : dict, key : str, val : any):\n",
    "        \"This function set value to specified key in dictionary.\"\n",
    "        try:\n",
    "            print(\"\\nOriginal Student class dictionary is : \", values)\n",
    "            x = values.setdefault(key, val)\n",
    "            print(\"\\nValues of the\", key, \"is :\", x)\n",
    "            print(\"\\nStudent class dictionary is :\", values)\n",
    "        \n",
    "        except Exception as e:\n",
    "            print(e)\n",
    "        \n",
    "    set_value_for_key(student_class, k, v)\n",
    "except Exception as e:\n",
    "    print(e)"
   ]
  },
  {
   "cell_type": "markdown",
   "id": "5a4b6eef",
   "metadata": {},
   "source": [
    "If the key does not exist: insert the key, with the specified value, it will at end of the dictionary."
   ]
  },
  {
   "cell_type": "code",
   "execution_count": 16,
   "id": "bc7fe748",
   "metadata": {},
   "outputs": [
    {
     "name": "stdout",
     "output_type": "stream",
     "text": [
      "\n",
      "Original Student class dictionary is :  {'John': '3rd', 'Ram': '5th', 'Krishna': '12th', 'Arjun': '7th'}\n",
      "Enter key to set value : 4\n",
      "Enter value for the key :4\n",
      "\n",
      "Values of the 4 is : 4\n",
      "\n",
      "Student class dictionary is : {'John': '3rd', 'Ram': '5th', 'Krishna': '12th', 'Arjun': '7th', '4': '4'}\n"
     ]
    }
   ],
   "source": [
    "try:\n",
    "    # Dictionary contain student name and their class\n",
    "    student_class = {\"John\" : '3rd', \"Ram\" : \"5th\", \"Krishna\" : \"12th\", \"Arjun\" : \"7th\"} \n",
    "   \n",
    "    def set_value_for_key(values : dict, key : str, val : any):\n",
    "        \"This function set value to specified key in dictionary.\"\n",
    "        try:\n",
    "            print(\"\\nOriginal Student class dictionary is : \", values)\n",
    "            k = input(\"Enter key to set value : \")\n",
    "            v = input(\"Enter value for the key :\")\n",
    "            x = values.setdefault(key, val)\n",
    "            print(\"\\nValues of the\", key, \"is :\", x)\n",
    "            print(\"\\nStudent class dictionary is :\", values)\n",
    "        \n",
    "        except Exception as e:\n",
    "            print(e)\n",
    "        \n",
    "    set_value_for_key(student_class, k, v)\n",
    "except Exception as e:\n",
    "    print(e)"
   ]
  },
  {
   "cell_type": "markdown",
   "id": "26542896",
   "metadata": {},
   "source": [
    "# 10. update() :"
   ]
  },
  {
   "cell_type": "markdown",
   "id": "d6ffcc3f",
   "metadata": {},
   "source": [
    "This method Updates the dictionary with the specified key-value pairs"
   ]
  },
  {
   "cell_type": "code",
   "execution_count": 17,
   "id": "9437dd58",
   "metadata": {},
   "outputs": [
    {
     "name": "stdout",
     "output_type": "stream",
     "text": [
      "Enter key to update  : 4\n",
      "Enter value for updated key :4\n",
      "\n",
      "Original Student class dictionary is :  {'John': '3rd', 'Ram': '5th', 'Krishna': '12th', 'Arjun': '7th'}\n",
      "\n",
      "Update dictionary : {'John': '3rd', 'Ram': '5th', 'Krishna': '12th', 'Arjun': '7th', '4': '4'}\n"
     ]
    }
   ],
   "source": [
    "try:\n",
    "    # Dictionary contain student name and their class\n",
    "    student_class = {\"John\" : '3rd', \"Ram\" : \"5th\", \"Krishna\" : \"12th\", \"Arjun\" : \"7th\"} \n",
    "    k = input(\"Enter key to update  : \")\n",
    "    v = input(\"Enter value for updated key :\")\n",
    "    def update_dictionary(values : dict, key : str, val : any):\n",
    "        \"This function update the dictionary.\"\n",
    "        try:\n",
    "            print(\"\\nOriginal Student class dictionary is : \", values)\n",
    "            x = values.update({key : val})\n",
    "            print(\"\\nUpdate dictionary :\", values)\n",
    "        \n",
    "        except Exception as e:\n",
    "            print(e)\n",
    "        \n",
    "    update_dictionary(student_class, k, v)\n",
    "except Exception as e:\n",
    "    print(e)"
   ]
  },
  {
   "cell_type": "markdown",
   "id": "d4484219",
   "metadata": {},
   "source": [
    "# 11. values() : "
   ]
  },
  {
   "cell_type": "markdown",
   "id": "8e2268cb",
   "metadata": {},
   "source": [
    "This method Returns a list of all the values in the dictionary."
   ]
  },
  {
   "cell_type": "code",
   "execution_count": 18,
   "id": "af0062d1",
   "metadata": {},
   "outputs": [
    {
     "name": "stdout",
     "output_type": "stream",
     "text": [
      "\n",
      "Original Student class dictionary is :  {'John': '3rd', 'Ram': '5th', 'Krishna': '12th', 'Arjun': '7th'}\n",
      "\n",
      "Dictionary contain values are :  dict_values(['3rd', '5th', '12th', '7th'])\n"
     ]
    }
   ],
   "source": [
    "try:\n",
    "    # Dictionary contain student name and their class\n",
    "    student_class = {\"John\" : '3rd', \"Ram\" : \"5th\", \"Krishna\" : \"12th\", \"Arjun\" : \"7th\"} \n",
    "\n",
    "    def access_only_values(values : dict):\n",
    "        \"This function access all values from dictionary.\"\n",
    "        try:\n",
    "            print(\"\\nOriginal Student class dictionary is : \", values)\n",
    "            x = values.values()\n",
    "            print(\"\\nDictionary contain values are : \", x)\n",
    "        \n",
    "        except Exception as e:\n",
    "            print(e)\n",
    "        \n",
    "    access_only_values(student_class)\n",
    "except Exception as e:\n",
    "    print(e)"
   ]
  },
  {
   "cell_type": "markdown",
   "id": "62bbfce6",
   "metadata": {},
   "source": [
    "# 12. len() :"
   ]
  },
  {
   "cell_type": "markdown",
   "id": "4b419988",
   "metadata": {},
   "source": [
    "This method return length of dictionary."
   ]
  },
  {
   "cell_type": "code",
   "execution_count": 19,
   "id": "b7bfa2e2",
   "metadata": {},
   "outputs": [
    {
     "name": "stdout",
     "output_type": "stream",
     "text": [
      "\n",
      "Student class dictionary is :  {'John': '3rd', 'Ram': '5th', 'Krishna': '12th', 'Arjun': '7th'}\n",
      "\n",
      "Length of the dictionary is :  4\n"
     ]
    }
   ],
   "source": [
    "try:\n",
    "    # Dictionary contain student name and their class\n",
    "    student_class = {\"John\" : '3rd', \"Ram\" : \"5th\", \"Krishna\" : \"12th\", \"Arjun\" : \"7th\"} \n",
    "\n",
    "    def length_of_dictionary(values : dict):\n",
    "        \"This function return length of dictionary.\"\n",
    "        try:\n",
    "            print(\"\\nStudent class dictionary is : \", values)\n",
    "            x = len(values)\n",
    "            print(\"\\nLength of the dictionary is : \", x)\n",
    "        \n",
    "        except Exception as e:\n",
    "            print(e)\n",
    "        \n",
    "    length_of_dictionary(student_class)\n",
    "except Exception as e:\n",
    "    print(e)"
   ]
  },
  {
   "cell_type": "markdown",
   "id": "d2c2fff7",
   "metadata": {},
   "source": [
    "# 13. type() :"
   ]
  },
  {
   "cell_type": "markdown",
   "id": "116586c4",
   "metadata": {},
   "source": [
    "This method return type of element."
   ]
  },
  {
   "cell_type": "code",
   "execution_count": 20,
   "id": "5b875592",
   "metadata": {},
   "outputs": [
    {
     "name": "stdout",
     "output_type": "stream",
     "text": [
      "\n",
      "Given input is :  {'John': '3rd', 'Ram': '5th', 'Krishna': '12th', 'Arjun': '7th'}\n",
      "\n",
      "Type of above input is :  <class 'dict'>\n"
     ]
    }
   ],
   "source": [
    "try:\n",
    "    # Dictionary contain student name and their class\n",
    "    student_class = {\"John\" : '3rd', \"Ram\" : \"5th\", \"Krishna\" : \"12th\", \"Arjun\" : \"7th\"} \n",
    "\n",
    "    def type_of_element(values : dict):\n",
    "        \"This function return type of input.\"\n",
    "        try:\n",
    "            print(\"\\nGiven input is : \", values)\n",
    "            x = type(values)\n",
    "            print(\"\\nType of above input is : \", x)\n",
    "        \n",
    "        except Exception as e:\n",
    "            print(e)\n",
    "        \n",
    "    type_of_element(student_class)\n",
    "except Exception as e:\n",
    "    print(e)"
   ]
  },
  {
   "cell_type": "markdown",
   "id": "beaff976",
   "metadata": {},
   "source": [
    "# * Dictionary comprehension : "
   ]
  },
  {
   "cell_type": "code",
   "execution_count": 8,
   "id": "b451b6c8",
   "metadata": {},
   "outputs": [
    {
     "name": "stdout",
     "output_type": "stream",
     "text": [
      "\n",
      "Old Dictionary is :  {'John': '3rd', 'Ram': '5th', 'Krishna': '12th', 'Arjun': '7th'}\n",
      "\n",
      "New formed dictionary is :  {'3rd': 'John', '5th': 'Ram', '12th': 'Krishna', '7th': 'Arjun'}\n"
     ]
    }
   ],
   "source": [
    "try:\n",
    "    # Dictionary contain student name and their class\n",
    "    student_class = {\"John\" : '3rd', \"Ram\" : \"5th\", \"Krishna\" : \"12th\", \"Arjun\" : \"7th\"} \n",
    "\n",
    "    def dict_comprehension(values : dict):\n",
    "        \"This function create new dictionary where keys become values.\"\n",
    "        try:\n",
    "            print(\"\\nOld Dictionary is : \", values)\n",
    "            \n",
    "            # This will form a dictionary where v will be the keys\n",
    "            b = {val: k for k , val in values.items()}\n",
    "            \n",
    "            # this print new dictionary\n",
    "            print(\"\\nNew formed dictionary is : \", b)\n",
    "        \n",
    "        except Exception as e:\n",
    "            print(e)\n",
    "        \n",
    "    dict_comprehension(student_class)\n",
    "except Exception as e:\n",
    "    print(e)"
   ]
  },
  {
   "cell_type": "markdown",
   "id": "60aa037f",
   "metadata": {},
   "source": [
    "* Comprehension using If statement "
   ]
  },
  {
   "cell_type": "code",
   "execution_count": 13,
   "id": "38e433e4",
   "metadata": {},
   "outputs": [
    {
     "name": "stdout",
     "output_type": "stream",
     "text": [
      "\n",
      "Old Dictionary is :  {'John': 3, 'Ram': 5, 'Krishna': 12, 'Arjun': 7}\n",
      "\n",
      "New formed dictionary is :  {'Krishna': 12}\n"
     ]
    }
   ],
   "source": [
    "try:\n",
    "    # Dictionary contain student name and their class\n",
    "    student_class = {\"John\" : 3, \"Ram\" : 5, \"Krishna\" : 12, \"Arjun\" : 7} \n",
    "\n",
    "    def dict_comprehension_if(values : dict):\n",
    "        \"This function create new dictionary where keys become values.\"\n",
    "        try:\n",
    "            print(\"\\nOld Dictionary is : \", values)\n",
    "            \n",
    "            # This will check the condition using if\n",
    "            b = {k: v for (k, v) in values.items() if v % 2 == 0}\n",
    "            \n",
    "            # this print new dictionary\n",
    "            print(\"\\nNew formed dictionary is : \", b)\n",
    "        \n",
    "        except Exception as e:\n",
    "            print(e)\n",
    "        \n",
    "    dict_comprehension_if(student_class)\n",
    "except Exception as e:\n",
    "    print(e)"
   ]
  },
  {
   "cell_type": "code",
   "execution_count": 16,
   "id": "79b59fd3",
   "metadata": {},
   "outputs": [
    {
     "name": "stdout",
     "output_type": "stream",
     "text": [
      "\n",
      "Keys for Dictionary is :  ['John', 'Ram', 'Krishna', 'Arjun']\n",
      "\n",
      "Values for Dictionary is :  [4, 8, 9, 5]\n",
      "\n",
      "New formed dictionary is :  {'John': 4, 'Ram': 8, 'Krishna': 9, 'Arjun': 5}\n"
     ]
    }
   ],
   "source": [
    "try:\n",
    "    # Dictionary contain student name and their class\n",
    "    student_name = [\"John\", \"Ram\", \"Krishna\",\"Arjun\"]\n",
    "    student_id = [4, 8, 9, 5]\n",
    "\n",
    "    def dict_comprehension_zip(key : list, value : list):\n",
    "        \"This function create new dictionary where keys become values.\"\n",
    "        try:\n",
    "            print(\"\\nKeys for Dictionary is : \", key)\n",
    "            print(\"\\nValues for Dictionary is : \", value)\n",
    "            \n",
    "            # This is dictionary comprehension using zip\n",
    "            myDict = { k:v for (k,v) in zip(key, value)} \n",
    "            \n",
    "            # this print new dictionary\n",
    "            print(\"\\nNew formed dictionary is : \", myDict)\n",
    "        \n",
    "        except Exception as e:\n",
    "            print(e)\n",
    "        \n",
    "    dict_comprehension_zip(student_name, student_id)\n",
    "except Exception as e:\n",
    "    print(e)"
   ]
  }
 ],
 "metadata": {
  "kernelspec": {
   "display_name": "Python 3 (ipykernel)",
   "language": "python",
   "name": "python3"
  },
  "language_info": {
   "codemirror_mode": {
    "name": "ipython",
    "version": 3
   },
   "file_extension": ".py",
   "mimetype": "text/x-python",
   "name": "python",
   "nbconvert_exporter": "python",
   "pygments_lexer": "ipython3",
   "version": "3.9.12"
  }
 },
 "nbformat": 4,
 "nbformat_minor": 5
}
